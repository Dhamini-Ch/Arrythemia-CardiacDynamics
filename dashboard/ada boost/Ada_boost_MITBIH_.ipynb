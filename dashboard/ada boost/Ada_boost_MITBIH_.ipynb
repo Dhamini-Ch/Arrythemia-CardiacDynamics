{
  "cells": [
    {
      "cell_type": "code",
      "source": [
        "from google.colab import drive\n",
        "drive.mount('/content/drive')"
      ],
      "metadata": {
        "colab": {
          "base_uri": "https://localhost:8080/"
        },
        "id": "RawB2GktBQFs",
        "outputId": "95071a99-e605-4577-cb24-20fde61743a9"
      },
      "id": "RawB2GktBQFs",
      "execution_count": 1,
      "outputs": [
        {
          "output_type": "stream",
          "name": "stdout",
          "text": [
            "Mounted at /content/drive\n"
          ]
        }
      ]
    },
    {
      "cell_type": "code",
      "execution_count": 19,
      "id": "789a890b",
      "metadata": {
        "id": "789a890b"
      },
      "outputs": [],
      "source": [
        "#Importing the libraries\n",
        "import pandas as pd\n",
        "import numpy as np\n",
        "import matplotlib.pyplot as plt"
      ]
    },
    {
      "cell_type": "code",
      "execution_count": 20,
      "id": "8e88669c",
      "metadata": {
        "id": "8e88669c"
      },
      "outputs": [],
      "source": [
        "#Loading the ptbdb dats set\n",
        "test  = pd.read_csv(\"/content/drive/My Drive/Colab Notebooks/datafiles/mitbih_test.csv\", header=None)\n",
        "train = pd.read_csv(\"/content/drive/My Drive/Colab Notebooks/datafiles/mitbih_train.csv\", header=None)"
      ]
    },
    {
      "cell_type": "code",
      "source": [
        "test.shape"
      ],
      "metadata": {
        "colab": {
          "base_uri": "https://localhost:8080/"
        },
        "id": "I7cTqUEsmQ8j",
        "outputId": "ec748fe8-c36f-438a-ac7e-28858bb458fd"
      },
      "id": "I7cTqUEsmQ8j",
      "execution_count": 21,
      "outputs": [
        {
          "output_type": "execute_result",
          "data": {
            "text/plain": [
              "(21892, 188)"
            ]
          },
          "metadata": {},
          "execution_count": 21
        }
      ]
    },
    {
      "cell_type": "code",
      "source": [
        "train.shape"
      ],
      "metadata": {
        "colab": {
          "base_uri": "https://localhost:8080/"
        },
        "id": "vcF-nZb2mt3o",
        "outputId": "02e91526-896b-442e-d37e-b31eee44e5c5"
      },
      "id": "vcF-nZb2mt3o",
      "execution_count": 22,
      "outputs": [
        {
          "output_type": "execute_result",
          "data": {
            "text/plain": [
              "(87554, 188)"
            ]
          },
          "metadata": {},
          "execution_count": 22
        }
      ]
    },
    {
      "cell_type": "code",
      "execution_count": 23,
      "id": "686783d3",
      "metadata": {
        "colab": {
          "base_uri": "https://localhost:8080/"
        },
        "id": "686783d3",
        "outputId": "1bbac5b2-5c57-40f1-f2d7-8390361e6aff"
      },
      "outputs": [
        {
          "output_type": "execute_result",
          "data": {
            "text/plain": [
              "array([0., 1., 2., 3., 4.])"
            ]
          },
          "metadata": {},
          "execution_count": 23
        }
      ],
      "source": [
        "#Finding the number of classes in the datset\n",
        "train[187].unique()"
      ]
    },
    {
      "cell_type": "code",
      "source": [
        "import numpy as np\n",
        "import pandas as pd\n",
        "from sklearn.metrics import f1_score, confusion_matrix\n",
        "from sklearn.utils import resample\n",
        "import random\n",
        "import matplotlib.pyplot as plt\n",
        "import seaborn as sns\n",
        "train_lbl0 = resample(train[train[187]==0], replace=True, n_samples=15000, random_state=113)\n",
        "train_lbl1 = resample(train[train[187]==1], replace=True, n_samples=15000, random_state=113)\n",
        "train_lbl2 = resample(train[train[187]==2], replace=True, n_samples=15000, random_state=113)\n",
        "train_lbl3 = resample(train[train[187]==3], replace=True, n_samples=15000, random_state=113)\n",
        "train_lbl4 = resample(train[train[187]==4], replace=True, n_samples=15000, random_state=113)"
      ],
      "metadata": {
        "id": "zUZi0RknJFra"
      },
      "id": "zUZi0RknJFra",
      "execution_count": 24,
      "outputs": []
    },
    {
      "cell_type": "code",
      "source": [
        "train= pd.concat([train_lbl0, train_lbl1, train_lbl2, train_lbl3, train_lbl4])\n",
        "labels = train[187].astype('int64')   # last column has the labels\n",
        "\n",
        "print(\"Count in each label: \")\n",
        "print(labels.value_counts())"
      ],
      "metadata": {
        "colab": {
          "base_uri": "https://localhost:8080/"
        },
        "id": "eWGV_DhrJFn2",
        "outputId": "4de7250c-0e5c-4719-d142-505c556fa46c"
      },
      "id": "eWGV_DhrJFn2",
      "execution_count": 25,
      "outputs": [
        {
          "output_type": "stream",
          "name": "stdout",
          "text": [
            "Count in each label: \n",
            "0    15000\n",
            "1    15000\n",
            "2    15000\n",
            "3    15000\n",
            "4    15000\n",
            "Name: 187, dtype: int64\n"
          ]
        }
      ]
    },
    {
      "cell_type": "code",
      "source": [
        "# #Fining the outliers\n",
        "# continous_features =   train[187].unique()\n",
        "# def outliers(df_out, drop = False):\n",
        "#     for each_feature in df_out.columns:\n",
        "#         feature_data = df_out[each_feature]\n",
        "#         Q1 = np.percentile(feature_data, 25.) # 25th percentile of the data of the given feature\n",
        "#         Q3 = np.percentile(feature_data, 75.) # 75th percentile of the data of the given feature\n",
        "#         IQR = Q3-Q1 \n",
        "#         outlier_step = IQR * 1.5 \n",
        "#         outliers = feature_data[~((feature_data >= Q1 - outlier_step) & (feature_data <= Q3 + outlier_step))].index.tolist()  \n",
        "#         if not drop:\n",
        "#             print('For the feature {}, No of Outliers is {}'.format(each_feature, len(outliers)))\n",
        "#         if drop:\n",
        "#             train.drop(outliers, inplace = True, errors = 'ignore')\n",
        "#             print('Outliers from {} feature removed'.format(each_feature))\n",
        "# outliers(train[continous_features])"
      ],
      "metadata": {
        "id": "91S4cNbGJFlI"
      },
      "id": "91S4cNbGJFlI",
      "execution_count": 26,
      "outputs": []
    },
    {
      "cell_type": "code",
      "source": [
        "# #Removing the outliers\n",
        "# outliers(train[continous_features], drop=True)"
      ],
      "metadata": {
        "id": "5akZftn2JFiR"
      },
      "id": "5akZftn2JFiR",
      "execution_count": 27,
      "outputs": []
    },
    {
      "cell_type": "code",
      "source": [
        "# #Fining the outliers\n",
        "# continous_features =   test[187].unique()\n",
        "# def outliers(df_out, drop = False):\n",
        "#     for each_feature in df_out.columns:\n",
        "#         feature_data = df_out[each_feature]\n",
        "#         Q1 = np.percentile(feature_data, 25.) # 25th percentile of the data of the given feature\n",
        "#         Q3 = np.percentile(feature_data, 75.) # 75th percentile of the data of the given feature\n",
        "#         IQR = Q3-Q1 \n",
        "#         outlier_step = IQR * 1.5 \n",
        "#         outliers = feature_data[~((feature_data >= Q1 - outlier_step) & (feature_data <= Q3 + outlier_step))].index.tolist()  \n",
        "#         if not drop:\n",
        "#             print('For the feature {}, No of Outliers is {}'.format(each_feature, len(outliers)))\n",
        "#         if drop:\n",
        "#             test.drop(outliers, inplace = True, errors = 'ignore')\n",
        "#             print('Outliers from {} feature removed'.format(each_feature))\n",
        "# outliers(test[continous_features])"
      ],
      "metadata": {
        "id": "8pW8mfelJFgP"
      },
      "id": "8pW8mfelJFgP",
      "execution_count": 28,
      "outputs": []
    },
    {
      "cell_type": "code",
      "source": [
        "# #Removing the outliers\n",
        "# outliers(test[continous_features], drop=True)"
      ],
      "metadata": {
        "id": "kvrWElXHJPdw"
      },
      "id": "kvrWElXHJPdw",
      "execution_count": 29,
      "outputs": []
    },
    {
      "cell_type": "code",
      "execution_count": 30,
      "id": "b19b23fc",
      "metadata": {
        "id": "b19b23fc"
      },
      "outputs": [],
      "source": [
        "#Feature Scaling\n",
        "x_train = train.iloc[:, :-1].values\n",
        "y_train = train.iloc[:, -1].values"
      ]
    },
    {
      "cell_type": "code",
      "execution_count": 31,
      "id": "4b346f79",
      "metadata": {
        "id": "4b346f79"
      },
      "outputs": [],
      "source": [
        "#Feature Scaling\n",
        "x_test = test.iloc[:, :-1].values\n",
        "y_test = test.iloc[:, -1].values"
      ]
    },
    {
      "cell_type": "code",
      "execution_count": 32,
      "id": "41ad9ad5",
      "metadata": {
        "colab": {
          "base_uri": "https://localhost:8080/"
        },
        "id": "41ad9ad5",
        "outputId": "13dc61be-9297-4d05-c171-aaf4ca7e7b16"
      },
      "outputs": [
        {
          "output_type": "execute_result",
          "data": {
            "text/plain": [
              "(21892, 187)"
            ]
          },
          "metadata": {},
          "execution_count": 32
        }
      ],
      "source": [
        "#Dimminsion of the dataset\n",
        "x_test.shape"
      ]
    },
    {
      "cell_type": "code",
      "execution_count": 33,
      "id": "b3cfe3c0",
      "metadata": {
        "colab": {
          "base_uri": "https://localhost:8080/"
        },
        "id": "b3cfe3c0",
        "outputId": "178afa06-9416-48fc-ddfa-c471a16dcb9d"
      },
      "outputs": [
        {
          "output_type": "execute_result",
          "data": {
            "text/plain": [
              "(21892,)"
            ]
          },
          "metadata": {},
          "execution_count": 33
        }
      ],
      "source": [
        "#Diminsion of the dataset\n",
        "y_test.shape"
      ]
    },
    {
      "cell_type": "markdown",
      "source": [
        "## **AdaBoost**"
      ],
      "metadata": {
        "id": "KzwxAyuprQ_O"
      },
      "id": "KzwxAyuprQ_O"
    },
    {
      "cell_type": "code",
      "source": [
        "from sklearn.ensemble import RandomForestClassifier\n",
        "from sklearn.ensemble import AdaBoostClassifier\n",
        "\n",
        "\n",
        "max_estimators = 50\n",
        "ada_boost = AdaBoostClassifier(RandomForestClassifier(max_depth = 1, # Just a stump.\n",
        "                                      random_state = np.random.RandomState(0)),\n",
        "                               n_estimators = max_estimators,\n",
        "                               random_state = np.random.RandomState(0))\n",
        "\n",
        "# Fit all estimators.\n",
        "ada_boost.fit(x_train, y_train)\n"
      ],
      "metadata": {
        "id": "Gl8-fdmVqJrS",
        "colab": {
          "base_uri": "https://localhost:8080/"
        },
        "outputId": "2cc194ce-b152-40e9-9605-6ddec101b084"
      },
      "id": "Gl8-fdmVqJrS",
      "execution_count": 34,
      "outputs": [
        {
          "output_type": "execute_result",
          "data": {
            "text/plain": [
              "AdaBoostClassifier(base_estimator=RandomForestClassifier(max_depth=1,\n",
              "                                                         random_state=RandomState(MT19937) at 0x7FA08B39CC00),\n",
              "                   random_state=RandomState(MT19937) at 0x7FA08B39CAF0)"
            ]
          },
          "metadata": {},
          "execution_count": 34
        }
      ]
    },
    {
      "cell_type": "code",
      "source": [
        "ada_boost.score(x_test, y_test)"
      ],
      "metadata": {
        "colab": {
          "base_uri": "https://localhost:8080/"
        },
        "id": "G8tiz71GoylF",
        "outputId": "df2651e1-e380-4a9d-e29c-b162be74f1df"
      },
      "id": "G8tiz71GoylF",
      "execution_count": 35,
      "outputs": [
        {
          "output_type": "execute_result",
          "data": {
            "text/plain": [
              "0.6201808879956149"
            ]
          },
          "metadata": {},
          "execution_count": 35
        }
      ]
    },
    {
      "cell_type": "code",
      "source": [
        ""
      ],
      "metadata": {
        "id": "RZu3-oyYJ7Vt"
      },
      "id": "RZu3-oyYJ7Vt",
      "execution_count": null,
      "outputs": []
    }
  ],
  "metadata": {
    "kernelspec": {
      "display_name": "Python 3 (ipykernel)",
      "language": "python",
      "name": "python3"
    },
    "language_info": {
      "codemirror_mode": {
        "name": "ipython",
        "version": 3
      },
      "file_extension": ".py",
      "mimetype": "text/x-python",
      "name": "python",
      "nbconvert_exporter": "python",
      "pygments_lexer": "ipython3",
      "version": "3.9.7"
    },
    "colab": {
      "name": " Ada boost_MITBIH .ipynb",
      "provenance": [],
      "collapsed_sections": []
    },
    "accelerator": "TPU"
  },
  "nbformat": 4,
  "nbformat_minor": 5
}