{
  "cells": [
    {
      "cell_type": "code",
      "execution_count": null,
      "id": "RawB2GktBQFs",
      "metadata": {
        "colab": {
          "base_uri": "https://localhost:8080/"
        },
        "id": "RawB2GktBQFs",
        "outputId": "27b551e3-fac0-4a41-9c81-dd9c463a394d"
      },
      "outputs": [
        {
          "name": "stdout",
          "output_type": "stream",
          "text": [
            "Mounted at /content/drive\n"
          ]
        }
      ],
      "source": [
        "from google.colab import drive\n",
        "drive.mount('/content/drive')"
      ]
    },
    {
      "cell_type": "code",
      "execution_count": null,
      "id": "789a890b",
      "metadata": {
        "id": "789a890b"
      },
      "outputs": [],
      "source": [
        "#Importing the libraries\n",
        "import pandas as pd\n",
        "import numpy as np\n",
        "import matplotlib.pyplot as plt"
      ]
    },
    {
      "cell_type": "code",
      "execution_count": null,
      "id": "8e88669c",
      "metadata": {
        "id": "8e88669c"
      },
      "outputs": [],
      "source": [
        "train = pd.read_csv(\"/content/drive/MyDrive/Colab Notebooks/datafiles/combined_train.csv\", header=None)\n",
        "test = pd.read_csv(\"/content/drive/MyDrive/Colab Notebooks/datafiles/combined_test.csv\", header=None)"
      ]
    },
    {
      "cell_type": "code",
      "execution_count": null,
      "id": "5aMinWErNIFB",
      "metadata": {
        "colab": {
          "base_uri": "https://localhost:8080/"
        },
        "id": "5aMinWErNIFB",
        "outputId": "047adf46-eaed-407f-cff7-38a52a4f5bfe"
      },
      "outputs": [
        {
          "data": {
            "text/plain": [
              "(98466, 188)"
            ]
          },
          "execution_count": 3,
          "metadata": {},
          "output_type": "execute_result"
        }
      ],
      "source": [
        "train.shape"
      ]
    },
    {
      "cell_type": "code",
      "execution_count": null,
      "id": "hbcJKwrcNIB2",
      "metadata": {
        "colab": {
          "base_uri": "https://localhost:8080/"
        },
        "id": "hbcJKwrcNIB2",
        "outputId": "9eb8b017-f947-4ad2-e081-823e90883a7f"
      },
      "outputs": [
        {
          "data": {
            "text/plain": [
              "(25531, 188)"
            ]
          },
          "execution_count": 4,
          "metadata": {},
          "output_type": "execute_result"
        }
      ],
      "source": [
        "test.shape"
      ]
    },
    {
      "cell_type": "code",
      "execution_count": null,
      "id": "1UDKjoayNH_w",
      "metadata": {
        "colab": {
          "base_uri": "https://localhost:8080/"
        },
        "id": "1UDKjoayNH_w",
        "outputId": "bb976054-96eb-4196-e666-871c2de6f48b"
      },
      "outputs": [
        {
          "data": {
            "text/plain": [
              "array([0., 1., 2., 3., 4., 5., 6.])"
            ]
          },
          "execution_count": 5,
          "metadata": {},
          "output_type": "execute_result"
        }
      ],
      "source": [
        "train[187].unique()"
      ]
    },
    {
      "cell_type": "code",
      "execution_count": null,
      "id": "yBSH6WPuNQYx",
      "metadata": {
        "colab": {
          "base_uri": "https://localhost:8080/"
        },
        "id": "yBSH6WPuNQYx",
        "outputId": "a547be53-6bc4-4248-cd31-144a0ed47f23"
      },
      "outputs": [
        {
          "data": {
            "text/plain": [
              "array([0., 1., 2., 3., 4., 5., 6.])"
            ]
          },
          "execution_count": 6,
          "metadata": {},
          "output_type": "execute_result"
        }
      ],
      "source": [
        "test[187].unique()"
      ]
    },
    {
      "cell_type": "code",
      "execution_count": null,
      "id": "tSaSKfVwzqhf",
      "metadata": {
        "id": "tSaSKfVwzqhf"
      },
      "outputs": [],
      "source": [
        "import numpy as np\n",
        "import pandas as pd\n",
        "from sklearn.metrics import f1_score, confusion_matrix\n",
        "from sklearn.utils import resample\n",
        "import random\n",
        "import matplotlib.pyplot as plt\n",
        "import seaborn as sns\n",
        "train_lbl0 = resample(train[train[187]==0], replace=True, n_samples=15000, random_state=113)\n",
        "train_lbl1 = resample(train[train[187]==1], replace=True, n_samples=15000, random_state=113)\n",
        "train_lbl2 = resample(train[train[187]==2], replace=True, n_samples=15000, random_state=113)\n",
        "train_lbl3 = resample(train[train[187]==3], replace=True, n_samples=15000, random_state=113)\n",
        "train_lbl4 = resample(train[train[187]==4], replace=True, n_samples=15000, random_state=113)\n",
        "train_lbl5 = resample(train[train[187]==5], replace=True, n_samples=15000, random_state=113)\n",
        "train_lbl6 = resample(train[train[187]==6], replace=True, n_samples=15000, random_state=113)"
      ]
    },
    {
      "cell_type": "code",
      "execution_count": null,
      "id": "pLBQJyEOzqfa",
      "metadata": {
        "colab": {
          "base_uri": "https://localhost:8080/"
        },
        "id": "pLBQJyEOzqfa",
        "outputId": "08a984c9-a556-4cd4-c073-f8e4b5b215b5"
      },
      "outputs": [
        {
          "name": "stdout",
          "output_type": "stream",
          "text": [
            "Count in each label: \n",
            "0    15000\n",
            "1    15000\n",
            "2    15000\n",
            "3    15000\n",
            "4    15000\n",
            "5    15000\n",
            "6    15000\n",
            "Name: 187, dtype: int64\n"
          ]
        }
      ],
      "source": [
        "train= pd.concat([train_lbl0, train_lbl1, train_lbl2, train_lbl3, train_lbl4, train_lbl5, train_lbl6])\n",
        "\n",
        "labels = train[187].astype('int64')   # last column has the labels\n",
        "\n",
        "print(\"Count in each label: \")\n",
        "print(labels.value_counts())"
      ]
    },
    {
      "cell_type": "code",
      "execution_count": null,
      "id": "1bmv80e_4G49",
      "metadata": {
        "id": "1bmv80e_4G49"
      },
      "outputs": [],
      "source": [
        "x_train = train.iloc[:, 1:-1].values\n",
        "y_train = train.iloc[:, -1].values"
      ]
    },
    {
      "cell_type": "code",
      "execution_count": null,
      "id": "u_imxnWx4G1z",
      "metadata": {
        "id": "u_imxnWx4G1z"
      },
      "outputs": [],
      "source": [
        "x_test = test.iloc[:, 1:-1].values\n",
        "y_test = test.iloc[:, -1].values"
      ]
    },
    {
      "cell_type": "markdown",
      "id": "ffX9AmXXfLrr",
      "metadata": {
        "id": "ffX9AmXXfLrr"
      },
      "source": [
        "#**ANN**"
      ]
    },
    {
      "cell_type": "code",
      "execution_count": null,
      "id": "YLvkEH6MOGao",
      "metadata": {
        "colab": {
          "base_uri": "https://localhost:8080/"
        },
        "id": "YLvkEH6MOGao",
        "outputId": "233c78d7-91cd-4b04-c266-6b02518278e1"
      },
      "outputs": [
        {
          "name": "stdout",
          "output_type": "stream",
          "text": [
            "Epoch 1/5\n",
            "3282/3282 [==============================] - 28s 8ms/step - loss: 0.8813 - accuracy: 0.6663 - val_loss: 1.1859 - val_accuracy: 0.4245\n",
            "Epoch 2/5\n",
            "3282/3282 [==============================] - 26s 8ms/step - loss: 0.5638 - accuracy: 0.8046 - val_loss: 0.7561 - val_accuracy: 0.7589\n",
            "Epoch 3/5\n",
            "3282/3282 [==============================] - 26s 8ms/step - loss: 0.4316 - accuracy: 0.8620 - val_loss: 0.6693 - val_accuracy: 0.7849\n",
            "Epoch 4/5\n",
            "3282/3282 [==============================] - 28s 8ms/step - loss: 0.4435 - accuracy: 0.8554 - val_loss: 0.6406 - val_accuracy: 0.8004\n",
            "Epoch 5/5\n",
            "3282/3282 [==============================] - 27s 8ms/step - loss: 0.4606 - accuracy: 0.8501 - val_loss: 0.6574 - val_accuracy: 0.7894\n",
            "Epoch 1/5\n",
            "3282/3282 [==============================] - 27s 8ms/step - loss: 0.8808 - accuracy: 0.6668 - val_loss: 1.0382 - val_accuracy: 0.5702\n",
            "Epoch 2/5\n",
            "3282/3282 [==============================] - 26s 8ms/step - loss: 0.6562 - accuracy: 0.7669 - val_loss: 1.2055 - val_accuracy: 0.3253\n",
            "Epoch 3/5\n",
            "3282/3282 [==============================] - 25s 8ms/step - loss: 0.6168 - accuracy: 0.7942 - val_loss: 0.8932 - val_accuracy: 0.6744\n",
            "Epoch 4/5\n",
            "3282/3282 [==============================] - 26s 8ms/step - loss: 0.5245 - accuracy: 0.8274 - val_loss: 0.8982 - val_accuracy: 0.6467\n",
            "Epoch 5/5\n",
            "3282/3282 [==============================] - 24s 7ms/step - loss: 0.4884 - accuracy: 0.8382 - val_loss: 0.7920 - val_accuracy: 0.7268\n",
            "Epoch 1/5\n",
            "3282/3282 [==============================] - 27s 8ms/step - loss: 0.8953 - accuracy: 0.6676 - val_loss: 1.2319 - val_accuracy: 0.5946\n",
            "Epoch 2/5\n",
            "3282/3282 [==============================] - 26s 8ms/step - loss: 0.7623 - accuracy: 0.7354 - val_loss: 1.1547 - val_accuracy: 0.3810\n",
            "Epoch 3/5\n",
            "3282/3282 [==============================] - 24s 7ms/step - loss: 0.6220 - accuracy: 0.7870 - val_loss: 1.0313 - val_accuracy: 0.6210\n",
            "Epoch 4/5\n",
            "3282/3282 [==============================] - 29s 9ms/step - loss: 0.5342 - accuracy: 0.8190 - val_loss: 0.7450 - val_accuracy: 0.7073\n",
            "Epoch 5/5\n",
            "3282/3282 [==============================] - 26s 8ms/step - loss: 0.4069 - accuracy: 0.8677 - val_loss: 0.6470 - val_accuracy: 0.7479\n",
            "Epoch 1/5\n",
            "3282/3282 [==============================] - 27s 8ms/step - loss: 0.8911 - accuracy: 0.6651 - val_loss: 0.9926 - val_accuracy: 0.6054\n",
            "Epoch 2/5\n",
            "3282/3282 [==============================] - 26s 8ms/step - loss: 0.5859 - accuracy: 0.7992 - val_loss: 1.0899 - val_accuracy: 0.5471\n",
            "Epoch 3/5\n",
            "3282/3282 [==============================] - 26s 8ms/step - loss: 0.4717 - accuracy: 0.8450 - val_loss: 0.7216 - val_accuracy: 0.7476\n",
            "Epoch 4/5\n",
            "3282/3282 [==============================] - 25s 8ms/step - loss: 0.3581 - accuracy: 0.8850 - val_loss: 0.6066 - val_accuracy: 0.7939\n",
            "Epoch 5/5\n",
            "3282/3282 [==============================] - 26s 8ms/step - loss: 0.3035 - accuracy: 0.9043 - val_loss: 0.6887 - val_accuracy: 0.7800\n",
            "Epoch 1/5\n",
            "3282/3282 [==============================] - 27s 8ms/step - loss: 0.8773 - accuracy: 0.6729 - val_loss: 0.9551 - val_accuracy: 0.5657\n",
            "Epoch 2/5\n",
            "3282/3282 [==============================] - 24s 7ms/step - loss: 0.5716 - accuracy: 0.8036 - val_loss: 0.6932 - val_accuracy: 0.7585\n",
            "Epoch 3/5\n",
            "3282/3282 [==============================] - 25s 7ms/step - loss: 0.4223 - accuracy: 0.8625 - val_loss: 0.7502 - val_accuracy: 0.7476\n",
            "Epoch 4/5\n",
            "3282/3282 [==============================] - 26s 8ms/step - loss: 0.3260 - accuracy: 0.8960 - val_loss: 0.5206 - val_accuracy: 0.8101\n",
            "Epoch 5/5\n",
            "3282/3282 [==============================] - 25s 8ms/step - loss: 0.2741 - accuracy: 0.9127 - val_loss: 0.4091 - val_accuracy: 0.8508\n",
            "Epoch 1/5\n",
            "3282/3282 [==============================] - 30s 9ms/step - loss: 0.8577 - accuracy: 0.6809 - val_loss: 1.0982 - val_accuracy: 0.6039\n",
            "Epoch 2/5\n",
            "3282/3282 [==============================] - 27s 8ms/step - loss: 0.5946 - accuracy: 0.7945 - val_loss: 1.0016 - val_accuracy: 0.5802\n",
            "Epoch 3/5\n",
            "3282/3282 [==============================] - 27s 8ms/step - loss: 0.4544 - accuracy: 0.8529 - val_loss: 0.5585 - val_accuracy: 0.7882\n",
            "Epoch 4/5\n",
            "3282/3282 [==============================] - 26s 8ms/step - loss: 0.3548 - accuracy: 0.8874 - val_loss: 0.5493 - val_accuracy: 0.8098\n",
            "Epoch 5/5\n",
            "3282/3282 [==============================] - 27s 8ms/step - loss: 0.3028 - accuracy: 0.9047 - val_loss: 0.6211 - val_accuracy: 0.7647\n",
            "Epoch 1/5\n",
            "3282/3282 [==============================] - 27s 8ms/step - loss: 0.8411 - accuracy: 0.6853 - val_loss: 1.1641 - val_accuracy: 0.6178\n",
            "Epoch 2/5\n",
            "3282/3282 [==============================] - 26s 8ms/step - loss: 0.5481 - accuracy: 0.8146 - val_loss: 0.7191 - val_accuracy: 0.7366\n",
            "Epoch 3/5\n",
            "3282/3282 [==============================] - 25s 7ms/step - loss: 0.4278 - accuracy: 0.8606 - val_loss: 0.5517 - val_accuracy: 0.8029\n",
            "Epoch 4/5\n",
            "3282/3282 [==============================] - 26s 8ms/step - loss: 0.3542 - accuracy: 0.8854 - val_loss: 0.4984 - val_accuracy: 0.8270\n",
            "Epoch 5/5\n",
            "3282/3282 [==============================] - 26s 8ms/step - loss: 0.3031 - accuracy: 0.9037 - val_loss: 0.4950 - val_accuracy: 0.8428\n"
          ]
        }
      ],
      "source": [
        "import tensorflow as tf\n",
        "from tensorflow import keras\n",
        "from sklearn.metrics import precision_score, recall_score\n",
        "from sklearn.metrics import accuracy_score, confusion_matrix, classification_report\n",
        "\n",
        "accuracy = pd.DataFrame( columns=[\"Accuracy\",\"Precision\",\"Recall\"])\n",
        "#predictions = np.zeros(shape=(10000,7))\n",
        "row_index = 0\n",
        "for i in range(7):\n",
        "        # bootstrap sampling  \n",
        "        boot_train = resample(x_train,y_train,replace=True, n_samples=40000, random_state=None)\n",
        "        model2 = tf.keras.Sequential([\n",
        "            tf.keras.layers.Flatten(input_shape=x_train[0].shape),\n",
        "            tf.keras.layers.Dense(256, activation=tf.nn.relu),\n",
        "            tf.keras.layers.Dense(128, activation=tf.nn.relu),\n",
        "            tf.keras.layers.Dense(128, activation=tf.nn.relu),\n",
        "            tf.keras.layers.Dense(128, activation=tf.nn.relu),\n",
        "            tf.keras.layers.Dense(128, activation=tf.nn.relu),\n",
        "            tf.keras.layers.Dense(128, activation=tf.nn.relu),\n",
        "            tf.keras.layers.Dense(128, activation=tf.nn.relu),\n",
        "            tf.keras.layers.Dense(128, activation=tf.nn.relu),\n",
        "            tf.keras.layers.Dense(128, activation=tf.nn.relu),\n",
        "            tf.keras.layers.Dense(128, activation=tf.nn.relu),\n",
        "            tf.keras.layers.Dense(128, activation=tf.nn.relu),\n",
        "            tf.keras.layers.Dense(128, activation=tf.nn.relu),\n",
        "            tf.keras.layers.Dense(128, activation=tf.nn.relu),\n",
        "            tf.keras.layers.Dense(128, activation=tf.nn.relu),\n",
        "            tf.keras.layers.Dense(128, activation=tf.nn.relu),\n",
        "            tf.keras.layers.Dense(128, activation=tf.nn.relu),\n",
        "            tf.keras.layers.Dense(128, activation=tf.nn.relu),\n",
        "            tf.keras.layers.Dense(7, activation=tf.nn.softmax)])\n",
        "  \n",
        "        # compile the model\n",
        "        model2.compile(loss='sparse_categorical_crossentropy',optimizer='adam',metrics=['accuracy'])\n",
        "\n",
        "        # Train the model\n",
        "        model2.fit(x_train,y_train,epochs=5,batch_size=32, validation_data=(x_test,y_test))"
      ]
    },
    {
      "cell_type": "code",
      "execution_count": null,
      "id": "VvVJiJO3OGX1",
      "metadata": {
        "colab": {
          "base_uri": "https://localhost:8080/"
        },
        "id": "VvVJiJO3OGX1",
        "outputId": "28d0c224-2ae5-4bfb-aec0-41d377539409"
      },
      "outputs": [
        {
          "name": "stdout",
          "output_type": "stream",
          "text": [
            "accuracy: 84.28%\n",
            "84.28% (+/- 0.00%)\n"
          ]
        }
      ],
      "source": [
        "# evaluate the model\n",
        "import numpy \n",
        "cvscores2 = []\n",
        "scores = model2.evaluate(x_test, y_test, verbose=0)\n",
        "print(\"%s: %.2f%%\" % (model2.metrics_names[1], scores[1]*100))\n",
        "cvscores2.append(scores[1] * 100)\n",
        "print(\"%.2f%% (+/- %.2f%%)\" % (numpy.mean(cvscores2), numpy.std(cvscores2)))"
      ]
    },
    {
      "cell_type": "code",
      "execution_count": null,
      "id": "je7g_prqbyOr",
      "metadata": {
        "id": "je7g_prqbyOr"
      },
      "outputs": [],
      "source": []
    },
    {
      "cell_type": "code",
      "execution_count": null,
      "id": "__FVj4p6byL2",
      "metadata": {
        "id": "__FVj4p6byL2"
      },
      "outputs": [],
      "source": []
    }
  ],
  "metadata": {
    "accelerator": "TPU",
    "colab": {
      "collapsed_sections": [],
      "name": "ANN of MITBIH and PTBDB-checkpoint.ipynb",
      "provenance": []
    },
    "kernelspec": {
      "display_name": "Python 3 (ipykernel)",
      "language": "python",
      "name": "python3"
    },
    "language_info": {
      "codemirror_mode": {
        "name": "ipython",
        "version": 3
      },
      "file_extension": ".py",
      "mimetype": "text/x-python",
      "name": "python",
      "nbconvert_exporter": "python",
      "pygments_lexer": "ipython3",
      "version": "3.9.7"
    }
  },
  "nbformat": 4,
  "nbformat_minor": 5
}
