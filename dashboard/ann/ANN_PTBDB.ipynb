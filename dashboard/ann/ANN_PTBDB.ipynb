{
  "cells": [
    {
      "cell_type": "code",
      "execution_count": null,
      "metadata": {
        "colab": {
          "base_uri": "https://localhost:8080/"
        },
        "id": "CjqVBZF34r7h",
        "outputId": "5fe81cff-5684-4507-fcab-4813143c3d0f"
      },
      "outputs": [
        {
          "output_type": "stream",
          "name": "stdout",
          "text": [
            "Mounted at /content/drive\n"
          ]
        }
      ],
      "source": [
        "from google.colab import drive\n",
        "drive.mount('/content/drive')"
      ],
      "id": "CjqVBZF34r7h"
    },
    {
      "cell_type": "code",
      "execution_count": null,
      "metadata": {
        "id": "f9b9dc65"
      },
      "outputs": [],
      "source": [
        "#importing the libraries\n",
        "import numpy as np\n",
        "import pandas as pd\n",
        "import matplotlib.pyplot as plt\n",
        "import seaborn as sns\n",
        "from numpy import percentile\n",
        "from numpy.random import rand"
      ],
      "id": "f9b9dc65"
    },
    {
      "cell_type": "code",
      "execution_count": null,
      "metadata": {
        "id": "8bba711b"
      },
      "outputs": [],
      "source": [
        "#Loading the ptbdb dats set\n",
        "abnormal     = pd.read_csv(\"/content/drive/My Drive/Colab Notebooks/datafiles/ptbdb_abnormal.csv\", header = None)\n",
        "normal       = pd.read_csv(\"/content/drive/My Drive/Colab Notebooks/datafiles/ptbdb_normal.csv\", header = None)"
      ],
      "id": "8bba711b"
    },
    {
      "cell_type": "code",
      "source": [
        "abnormal.shape"
      ],
      "metadata": {
        "colab": {
          "base_uri": "https://localhost:8080/"
        },
        "id": "eoV7oF3eXtkX",
        "outputId": "f533218a-e9a5-428e-a08d-203c46eb7088"
      },
      "id": "eoV7oF3eXtkX",
      "execution_count": null,
      "outputs": [
        {
          "output_type": "execute_result",
          "data": {
            "text/plain": [
              "(10506, 188)"
            ]
          },
          "metadata": {},
          "execution_count": 3
        }
      ]
    },
    {
      "cell_type": "code",
      "source": [
        "normal.shape"
      ],
      "metadata": {
        "colab": {
          "base_uri": "https://localhost:8080/"
        },
        "id": "8y2hwviuXthx",
        "outputId": "f4ac4c78-3a3a-4d4a-b980-41d172793761"
      },
      "id": "8y2hwviuXthx",
      "execution_count": null,
      "outputs": [
        {
          "output_type": "execute_result",
          "data": {
            "text/plain": [
              "(4046, 188)"
            ]
          },
          "metadata": {},
          "execution_count": 4
        }
      ]
    },
    {
      "cell_type": "code",
      "source": [
        "abnormal[187].unique()"
      ],
      "metadata": {
        "colab": {
          "base_uri": "https://localhost:8080/"
        },
        "id": "eJst8c2RXteW",
        "outputId": "0c94d2f1-6e87-4afb-9bdb-a57bc9b6cd2f"
      },
      "id": "eJst8c2RXteW",
      "execution_count": null,
      "outputs": [
        {
          "output_type": "execute_result",
          "data": {
            "text/plain": [
              "array([1.])"
            ]
          },
          "metadata": {},
          "execution_count": 5
        }
      ]
    },
    {
      "cell_type": "code",
      "source": [
        "normal[187].unique()"
      ],
      "metadata": {
        "colab": {
          "base_uri": "https://localhost:8080/"
        },
        "id": "4QizfurWXtbl",
        "outputId": "461951c5-5082-49a3-8a37-9129fe0c24ee"
      },
      "id": "4QizfurWXtbl",
      "execution_count": null,
      "outputs": [
        {
          "output_type": "execute_result",
          "data": {
            "text/plain": [
              "array([0.])"
            ]
          },
          "metadata": {},
          "execution_count": 6
        }
      ]
    },
    {
      "cell_type": "code",
      "source": [
        "#Combining abnormal and normal\n",
        "ptbdb_data = pd.merge(abnormal, normal, how='outer')\n",
        "ptbdb_data"
      ],
      "metadata": {
        "colab": {
          "base_uri": "https://localhost:8080/",
          "height": 423
        },
        "id": "srMGtzDuXtZH",
        "outputId": "5e7f2679-53fb-4712-9206-20600589179a"
      },
      "id": "srMGtzDuXtZH",
      "execution_count": null,
      "outputs": [
        {
          "output_type": "execute_result",
          "data": {
            "text/plain": [
              "            0         1         2         3         4         5         6    \\\n",
              "0      0.932233  0.869679  0.886186  0.929626  0.908775  0.933970  0.801043   \n",
              "1      1.000000  0.606941  0.384181  0.254237  0.223567  0.276836  0.253430   \n",
              "2      1.000000  0.951613  0.923963  0.853303  0.791859  0.734255  0.672043   \n",
              "3      0.977819  0.899261  0.230129  0.032348  0.142329  0.223660  0.328096   \n",
              "4      0.935618  0.801661  0.805815  1.000000  0.722741  0.480789  0.454829   \n",
              "...         ...       ...       ...       ...       ...       ...       ...   \n",
              "14547  1.000000  0.929586  0.503550  0.293491  0.169822  0.159763  0.130769   \n",
              "14548  1.000000  0.637579  0.154837  0.061983  0.088965  0.083374  0.065143   \n",
              "14549  1.000000  0.872574  0.465071  0.232212  0.126132  0.155886  0.174644   \n",
              "14550  0.915983  0.529373  0.288406  0.144536  0.171802  0.180669  0.177566   \n",
              "14551  1.000000  0.838643  0.390567  0.191146  0.033513  0.055854  0.129086   \n",
              "\n",
              "            7         8         9    ...  178  179  180  181  182  183  184  \\\n",
              "0      0.749783  0.687229  0.635100  ...  0.0  0.0  0.0  0.0  0.0  0.0  0.0   \n",
              "1      0.184826  0.153349  0.121872  ...  0.0  0.0  0.0  0.0  0.0  0.0  0.0   \n",
              "2      0.685100  0.670507  0.667435  ...  0.0  0.0  0.0  0.0  0.0  0.0  0.0   \n",
              "3      0.367837  0.381701  0.389094  ...  0.0  0.0  0.0  0.0  0.0  0.0  0.0   \n",
              "4      0.319834  0.266874  0.308411  ...  0.0  0.0  0.0  0.0  0.0  0.0  0.0   \n",
              "...         ...       ...       ...  ...  ...  ...  ...  ...  ...  ...  ...   \n",
              "14547  0.125444  0.137278  0.111243  ...  0.0  0.0  0.0  0.0  0.0  0.0  0.0   \n",
              "14548  0.057365  0.060039  0.060039  ...  0.0  0.0  0.0  0.0  0.0  0.0  0.0   \n",
              "14549  0.190168  0.203752  0.168823  ...  0.0  0.0  0.0  0.0  0.0  0.0  0.0   \n",
              "14550  0.176458  0.178896  0.180448  ...  0.0  0.0  0.0  0.0  0.0  0.0  0.0   \n",
              "14551  0.147290  0.155151  0.165494  ...  0.0  0.0  0.0  0.0  0.0  0.0  0.0   \n",
              "\n",
              "       185  186  187  \n",
              "0      0.0  0.0  1.0  \n",
              "1      0.0  0.0  1.0  \n",
              "2      0.0  0.0  1.0  \n",
              "3      0.0  0.0  1.0  \n",
              "4      0.0  0.0  1.0  \n",
              "...    ...  ...  ...  \n",
              "14547  0.0  0.0  0.0  \n",
              "14548  0.0  0.0  0.0  \n",
              "14549  0.0  0.0  0.0  \n",
              "14550  0.0  0.0  0.0  \n",
              "14551  0.0  0.0  0.0  \n",
              "\n",
              "[14552 rows x 188 columns]"
            ],
            "text/html": [
              "\n",
              "  <div id=\"df-d91c7109-3fc3-4c3c-9c3d-14d899f5dc16\">\n",
              "    <div class=\"colab-df-container\">\n",
              "      <div>\n",
              "<style scoped>\n",
              "    .dataframe tbody tr th:only-of-type {\n",
              "        vertical-align: middle;\n",
              "    }\n",
              "\n",
              "    .dataframe tbody tr th {\n",
              "        vertical-align: top;\n",
              "    }\n",
              "\n",
              "    .dataframe thead th {\n",
              "        text-align: right;\n",
              "    }\n",
              "</style>\n",
              "<table border=\"1\" class=\"dataframe\">\n",
              "  <thead>\n",
              "    <tr style=\"text-align: right;\">\n",
              "      <th></th>\n",
              "      <th>0</th>\n",
              "      <th>1</th>\n",
              "      <th>2</th>\n",
              "      <th>3</th>\n",
              "      <th>4</th>\n",
              "      <th>5</th>\n",
              "      <th>6</th>\n",
              "      <th>7</th>\n",
              "      <th>8</th>\n",
              "      <th>9</th>\n",
              "      <th>...</th>\n",
              "      <th>178</th>\n",
              "      <th>179</th>\n",
              "      <th>180</th>\n",
              "      <th>181</th>\n",
              "      <th>182</th>\n",
              "      <th>183</th>\n",
              "      <th>184</th>\n",
              "      <th>185</th>\n",
              "      <th>186</th>\n",
              "      <th>187</th>\n",
              "    </tr>\n",
              "  </thead>\n",
              "  <tbody>\n",
              "    <tr>\n",
              "      <th>0</th>\n",
              "      <td>0.932233</td>\n",
              "      <td>0.869679</td>\n",
              "      <td>0.886186</td>\n",
              "      <td>0.929626</td>\n",
              "      <td>0.908775</td>\n",
              "      <td>0.933970</td>\n",
              "      <td>0.801043</td>\n",
              "      <td>0.749783</td>\n",
              "      <td>0.687229</td>\n",
              "      <td>0.635100</td>\n",
              "      <td>...</td>\n",
              "      <td>0.0</td>\n",
              "      <td>0.0</td>\n",
              "      <td>0.0</td>\n",
              "      <td>0.0</td>\n",
              "      <td>0.0</td>\n",
              "      <td>0.0</td>\n",
              "      <td>0.0</td>\n",
              "      <td>0.0</td>\n",
              "      <td>0.0</td>\n",
              "      <td>1.0</td>\n",
              "    </tr>\n",
              "    <tr>\n",
              "      <th>1</th>\n",
              "      <td>1.000000</td>\n",
              "      <td>0.606941</td>\n",
              "      <td>0.384181</td>\n",
              "      <td>0.254237</td>\n",
              "      <td>0.223567</td>\n",
              "      <td>0.276836</td>\n",
              "      <td>0.253430</td>\n",
              "      <td>0.184826</td>\n",
              "      <td>0.153349</td>\n",
              "      <td>0.121872</td>\n",
              "      <td>...</td>\n",
              "      <td>0.0</td>\n",
              "      <td>0.0</td>\n",
              "      <td>0.0</td>\n",
              "      <td>0.0</td>\n",
              "      <td>0.0</td>\n",
              "      <td>0.0</td>\n",
              "      <td>0.0</td>\n",
              "      <td>0.0</td>\n",
              "      <td>0.0</td>\n",
              "      <td>1.0</td>\n",
              "    </tr>\n",
              "    <tr>\n",
              "      <th>2</th>\n",
              "      <td>1.000000</td>\n",
              "      <td>0.951613</td>\n",
              "      <td>0.923963</td>\n",
              "      <td>0.853303</td>\n",
              "      <td>0.791859</td>\n",
              "      <td>0.734255</td>\n",
              "      <td>0.672043</td>\n",
              "      <td>0.685100</td>\n",
              "      <td>0.670507</td>\n",
              "      <td>0.667435</td>\n",
              "      <td>...</td>\n",
              "      <td>0.0</td>\n",
              "      <td>0.0</td>\n",
              "      <td>0.0</td>\n",
              "      <td>0.0</td>\n",
              "      <td>0.0</td>\n",
              "      <td>0.0</td>\n",
              "      <td>0.0</td>\n",
              "      <td>0.0</td>\n",
              "      <td>0.0</td>\n",
              "      <td>1.0</td>\n",
              "    </tr>\n",
              "    <tr>\n",
              "      <th>3</th>\n",
              "      <td>0.977819</td>\n",
              "      <td>0.899261</td>\n",
              "      <td>0.230129</td>\n",
              "      <td>0.032348</td>\n",
              "      <td>0.142329</td>\n",
              "      <td>0.223660</td>\n",
              "      <td>0.328096</td>\n",
              "      <td>0.367837</td>\n",
              "      <td>0.381701</td>\n",
              "      <td>0.389094</td>\n",
              "      <td>...</td>\n",
              "      <td>0.0</td>\n",
              "      <td>0.0</td>\n",
              "      <td>0.0</td>\n",
              "      <td>0.0</td>\n",
              "      <td>0.0</td>\n",
              "      <td>0.0</td>\n",
              "      <td>0.0</td>\n",
              "      <td>0.0</td>\n",
              "      <td>0.0</td>\n",
              "      <td>1.0</td>\n",
              "    </tr>\n",
              "    <tr>\n",
              "      <th>4</th>\n",
              "      <td>0.935618</td>\n",
              "      <td>0.801661</td>\n",
              "      <td>0.805815</td>\n",
              "      <td>1.000000</td>\n",
              "      <td>0.722741</td>\n",
              "      <td>0.480789</td>\n",
              "      <td>0.454829</td>\n",
              "      <td>0.319834</td>\n",
              "      <td>0.266874</td>\n",
              "      <td>0.308411</td>\n",
              "      <td>...</td>\n",
              "      <td>0.0</td>\n",
              "      <td>0.0</td>\n",
              "      <td>0.0</td>\n",
              "      <td>0.0</td>\n",
              "      <td>0.0</td>\n",
              "      <td>0.0</td>\n",
              "      <td>0.0</td>\n",
              "      <td>0.0</td>\n",
              "      <td>0.0</td>\n",
              "      <td>1.0</td>\n",
              "    </tr>\n",
              "    <tr>\n",
              "      <th>...</th>\n",
              "      <td>...</td>\n",
              "      <td>...</td>\n",
              "      <td>...</td>\n",
              "      <td>...</td>\n",
              "      <td>...</td>\n",
              "      <td>...</td>\n",
              "      <td>...</td>\n",
              "      <td>...</td>\n",
              "      <td>...</td>\n",
              "      <td>...</td>\n",
              "      <td>...</td>\n",
              "      <td>...</td>\n",
              "      <td>...</td>\n",
              "      <td>...</td>\n",
              "      <td>...</td>\n",
              "      <td>...</td>\n",
              "      <td>...</td>\n",
              "      <td>...</td>\n",
              "      <td>...</td>\n",
              "      <td>...</td>\n",
              "      <td>...</td>\n",
              "    </tr>\n",
              "    <tr>\n",
              "      <th>14547</th>\n",
              "      <td>1.000000</td>\n",
              "      <td>0.929586</td>\n",
              "      <td>0.503550</td>\n",
              "      <td>0.293491</td>\n",
              "      <td>0.169822</td>\n",
              "      <td>0.159763</td>\n",
              "      <td>0.130769</td>\n",
              "      <td>0.125444</td>\n",
              "      <td>0.137278</td>\n",
              "      <td>0.111243</td>\n",
              "      <td>...</td>\n",
              "      <td>0.0</td>\n",
              "      <td>0.0</td>\n",
              "      <td>0.0</td>\n",
              "      <td>0.0</td>\n",
              "      <td>0.0</td>\n",
              "      <td>0.0</td>\n",
              "      <td>0.0</td>\n",
              "      <td>0.0</td>\n",
              "      <td>0.0</td>\n",
              "      <td>0.0</td>\n",
              "    </tr>\n",
              "    <tr>\n",
              "      <th>14548</th>\n",
              "      <td>1.000000</td>\n",
              "      <td>0.637579</td>\n",
              "      <td>0.154837</td>\n",
              "      <td>0.061983</td>\n",
              "      <td>0.088965</td>\n",
              "      <td>0.083374</td>\n",
              "      <td>0.065143</td>\n",
              "      <td>0.057365</td>\n",
              "      <td>0.060039</td>\n",
              "      <td>0.060039</td>\n",
              "      <td>...</td>\n",
              "      <td>0.0</td>\n",
              "      <td>0.0</td>\n",
              "      <td>0.0</td>\n",
              "      <td>0.0</td>\n",
              "      <td>0.0</td>\n",
              "      <td>0.0</td>\n",
              "      <td>0.0</td>\n",
              "      <td>0.0</td>\n",
              "      <td>0.0</td>\n",
              "      <td>0.0</td>\n",
              "    </tr>\n",
              "    <tr>\n",
              "      <th>14549</th>\n",
              "      <td>1.000000</td>\n",
              "      <td>0.872574</td>\n",
              "      <td>0.465071</td>\n",
              "      <td>0.232212</td>\n",
              "      <td>0.126132</td>\n",
              "      <td>0.155886</td>\n",
              "      <td>0.174644</td>\n",
              "      <td>0.190168</td>\n",
              "      <td>0.203752</td>\n",
              "      <td>0.168823</td>\n",
              "      <td>...</td>\n",
              "      <td>0.0</td>\n",
              "      <td>0.0</td>\n",
              "      <td>0.0</td>\n",
              "      <td>0.0</td>\n",
              "      <td>0.0</td>\n",
              "      <td>0.0</td>\n",
              "      <td>0.0</td>\n",
              "      <td>0.0</td>\n",
              "      <td>0.0</td>\n",
              "      <td>0.0</td>\n",
              "    </tr>\n",
              "    <tr>\n",
              "      <th>14550</th>\n",
              "      <td>0.915983</td>\n",
              "      <td>0.529373</td>\n",
              "      <td>0.288406</td>\n",
              "      <td>0.144536</td>\n",
              "      <td>0.171802</td>\n",
              "      <td>0.180669</td>\n",
              "      <td>0.177566</td>\n",
              "      <td>0.176458</td>\n",
              "      <td>0.178896</td>\n",
              "      <td>0.180448</td>\n",
              "      <td>...</td>\n",
              "      <td>0.0</td>\n",
              "      <td>0.0</td>\n",
              "      <td>0.0</td>\n",
              "      <td>0.0</td>\n",
              "      <td>0.0</td>\n",
              "      <td>0.0</td>\n",
              "      <td>0.0</td>\n",
              "      <td>0.0</td>\n",
              "      <td>0.0</td>\n",
              "      <td>0.0</td>\n",
              "    </tr>\n",
              "    <tr>\n",
              "      <th>14551</th>\n",
              "      <td>1.000000</td>\n",
              "      <td>0.838643</td>\n",
              "      <td>0.390567</td>\n",
              "      <td>0.191146</td>\n",
              "      <td>0.033513</td>\n",
              "      <td>0.055854</td>\n",
              "      <td>0.129086</td>\n",
              "      <td>0.147290</td>\n",
              "      <td>0.155151</td>\n",
              "      <td>0.165494</td>\n",
              "      <td>...</td>\n",
              "      <td>0.0</td>\n",
              "      <td>0.0</td>\n",
              "      <td>0.0</td>\n",
              "      <td>0.0</td>\n",
              "      <td>0.0</td>\n",
              "      <td>0.0</td>\n",
              "      <td>0.0</td>\n",
              "      <td>0.0</td>\n",
              "      <td>0.0</td>\n",
              "      <td>0.0</td>\n",
              "    </tr>\n",
              "  </tbody>\n",
              "</table>\n",
              "<p>14552 rows × 188 columns</p>\n",
              "</div>\n",
              "      <button class=\"colab-df-convert\" onclick=\"convertToInteractive('df-d91c7109-3fc3-4c3c-9c3d-14d899f5dc16')\"\n",
              "              title=\"Convert this dataframe to an interactive table.\"\n",
              "              style=\"display:none;\">\n",
              "        \n",
              "  <svg xmlns=\"http://www.w3.org/2000/svg\" height=\"24px\"viewBox=\"0 0 24 24\"\n",
              "       width=\"24px\">\n",
              "    <path d=\"M0 0h24v24H0V0z\" fill=\"none\"/>\n",
              "    <path d=\"M18.56 5.44l.94 2.06.94-2.06 2.06-.94-2.06-.94-.94-2.06-.94 2.06-2.06.94zm-11 1L8.5 8.5l.94-2.06 2.06-.94-2.06-.94L8.5 2.5l-.94 2.06-2.06.94zm10 10l.94 2.06.94-2.06 2.06-.94-2.06-.94-.94-2.06-.94 2.06-2.06.94z\"/><path d=\"M17.41 7.96l-1.37-1.37c-.4-.4-.92-.59-1.43-.59-.52 0-1.04.2-1.43.59L10.3 9.45l-7.72 7.72c-.78.78-.78 2.05 0 2.83L4 21.41c.39.39.9.59 1.41.59.51 0 1.02-.2 1.41-.59l7.78-7.78 2.81-2.81c.8-.78.8-2.07 0-2.86zM5.41 20L4 18.59l7.72-7.72 1.47 1.35L5.41 20z\"/>\n",
              "  </svg>\n",
              "      </button>\n",
              "      \n",
              "  <style>\n",
              "    .colab-df-container {\n",
              "      display:flex;\n",
              "      flex-wrap:wrap;\n",
              "      gap: 12px;\n",
              "    }\n",
              "\n",
              "    .colab-df-convert {\n",
              "      background-color: #E8F0FE;\n",
              "      border: none;\n",
              "      border-radius: 50%;\n",
              "      cursor: pointer;\n",
              "      display: none;\n",
              "      fill: #1967D2;\n",
              "      height: 32px;\n",
              "      padding: 0 0 0 0;\n",
              "      width: 32px;\n",
              "    }\n",
              "\n",
              "    .colab-df-convert:hover {\n",
              "      background-color: #E2EBFA;\n",
              "      box-shadow: 0px 1px 2px rgba(60, 64, 67, 0.3), 0px 1px 3px 1px rgba(60, 64, 67, 0.15);\n",
              "      fill: #174EA6;\n",
              "    }\n",
              "\n",
              "    [theme=dark] .colab-df-convert {\n",
              "      background-color: #3B4455;\n",
              "      fill: #D2E3FC;\n",
              "    }\n",
              "\n",
              "    [theme=dark] .colab-df-convert:hover {\n",
              "      background-color: #434B5C;\n",
              "      box-shadow: 0px 1px 3px 1px rgba(0, 0, 0, 0.15);\n",
              "      filter: drop-shadow(0px 1px 2px rgba(0, 0, 0, 0.3));\n",
              "      fill: #FFFFFF;\n",
              "    }\n",
              "  </style>\n",
              "\n",
              "      <script>\n",
              "        const buttonEl =\n",
              "          document.querySelector('#df-d91c7109-3fc3-4c3c-9c3d-14d899f5dc16 button.colab-df-convert');\n",
              "        buttonEl.style.display =\n",
              "          google.colab.kernel.accessAllowed ? 'block' : 'none';\n",
              "\n",
              "        async function convertToInteractive(key) {\n",
              "          const element = document.querySelector('#df-d91c7109-3fc3-4c3c-9c3d-14d899f5dc16');\n",
              "          const dataTable =\n",
              "            await google.colab.kernel.invokeFunction('convertToInteractive',\n",
              "                                                     [key], {});\n",
              "          if (!dataTable) return;\n",
              "\n",
              "          const docLinkHtml = 'Like what you see? Visit the ' +\n",
              "            '<a target=\"_blank\" href=https://colab.research.google.com/notebooks/data_table.ipynb>data table notebook</a>'\n",
              "            + ' to learn more about interactive tables.';\n",
              "          element.innerHTML = '';\n",
              "          dataTable['output_type'] = 'display_data';\n",
              "          await google.colab.output.renderOutput(dataTable, element);\n",
              "          const docLink = document.createElement('div');\n",
              "          docLink.innerHTML = docLinkHtml;\n",
              "          element.appendChild(docLink);\n",
              "        }\n",
              "      </script>\n",
              "    </div>\n",
              "  </div>\n",
              "  "
            ]
          },
          "metadata": {},
          "execution_count": 7
        }
      ]
    },
    {
      "cell_type": "code",
      "source": [
        "import numpy as np\n",
        "import pandas as pd\n",
        "from sklearn.metrics import f1_score, confusion_matrix\n",
        "from sklearn.utils import resample\n",
        "import random\n",
        "import matplotlib.pyplot as plt\n",
        "import seaborn as sns\n",
        "ptbdb_data_lbl0 = resample(ptbdb_data[ptbdb_data[187]==0], replace=True, n_samples=15000, random_state=113)\n",
        "ptbdb_data_lbl1 = resample(ptbdb_data[ptbdb_data[187]==1], replace=True, n_samples=15000, random_state=113)"
      ],
      "metadata": {
        "id": "OSCdqUcmXtXI"
      },
      "id": "OSCdqUcmXtXI",
      "execution_count": null,
      "outputs": []
    },
    {
      "cell_type": "code",
      "source": [
        "train= pd.concat([ptbdb_data_lbl0, ptbdb_data_lbl1])\n",
        "labels = train[187].astype('int64')   # last column has the labels\n",
        "\n",
        "print(\"Count in each label: \")\n",
        "print(labels.value_counts())"
      ],
      "metadata": {
        "colab": {
          "base_uri": "https://localhost:8080/"
        },
        "id": "iJemu4zkX9ef",
        "outputId": "bd512a98-e87d-4391-d23c-f92151dc0e0d"
      },
      "id": "iJemu4zkX9ef",
      "execution_count": null,
      "outputs": [
        {
          "output_type": "stream",
          "name": "stdout",
          "text": [
            "Count in each label: \n",
            "0    15000\n",
            "1    15000\n",
            "Name: 187, dtype: int64\n"
          ]
        }
      ]
    },
    {
      "cell_type": "code",
      "source": [
        "#Feature Scaling\n",
        "x = ptbdb_data.iloc[:, :-1].values\n",
        "y = ptbdb_data.iloc[:, -1].values"
      ],
      "metadata": {
        "id": "kd5DYSO_X9bq"
      },
      "id": "kd5DYSO_X9bq",
      "execution_count": null,
      "outputs": []
    },
    {
      "cell_type": "code",
      "source": [
        "#Splitting the data\n",
        "from sklearn.model_selection import train_test_split\n",
        "x_train, x_test, y_train, y_test = train_test_split(x, y, test_size=0.25, random_state=1)"
      ],
      "metadata": {
        "id": "h7JzLHB3YA-A"
      },
      "id": "h7JzLHB3YA-A",
      "execution_count": null,
      "outputs": []
    },
    {
      "cell_type": "code",
      "source": [
        "#Feature Scaling\n",
        "from sklearn.preprocessing import StandardScaler\n",
        "sc = StandardScaler()\n",
        "x_train = sc.fit_transform(x_train)\n",
        "x_test = sc.transform(x_test)"
      ],
      "metadata": {
        "id": "dWjhDJa5YA64"
      },
      "id": "dWjhDJa5YA64",
      "execution_count": null,
      "outputs": []
    },
    {
      "cell_type": "markdown",
      "source": [
        "#**ANN**"
      ],
      "metadata": {
        "id": "xT1iML5aVXHj"
      },
      "id": "xT1iML5aVXHj"
    },
    {
      "cell_type": "code",
      "source": [
        "import tensorflow as tf\n",
        "from tensorflow import keras\n",
        "from sklearn.metrics import precision_score, recall_score\n",
        "from sklearn.metrics import accuracy_score, confusion_matrix, classification_report\n",
        "\n",
        "accuracy = pd.DataFrame( columns=[\"Accuracy\",\"Precision\",\"Recall\"])\n",
        "#predictions = np.zeros(shape=(10000,7))\n",
        "row_index = 0\n",
        "for i in range(7):\n",
        "        # bootstrap sampling  \n",
        "        boot_train = resample(x_train,y_train,replace=True, n_samples=40000, random_state=None)\n",
        "        model = tf.keras.Sequential([\n",
        "            tf.keras.layers.Flatten(input_shape=x_train[0].shape),\n",
        "            tf.keras.layers.Dense(256, activation=tf.nn.relu),\n",
        "            tf.keras.layers.Dense(128, activation=tf.nn.relu),\n",
        "            tf.keras.layers.Dense(128, activation=tf.nn.relu),\n",
        "            tf.keras.layers.Dense(128, activation=tf.nn.relu),\n",
        "            tf.keras.layers.Dense(128, activation=tf.nn.relu),\n",
        "            tf.keras.layers.Dense(128, activation=tf.nn.relu),\n",
        "            tf.keras.layers.Dense(128, activation=tf.nn.relu),\n",
        "            tf.keras.layers.Dense(128, activation=tf.nn.relu),\n",
        "            tf.keras.layers.Dense(128, activation=tf.nn.relu),\n",
        "            tf.keras.layers.Dense(128, activation=tf.nn.relu),\n",
        "            tf.keras.layers.Dense(128, activation=tf.nn.relu),\n",
        "            tf.keras.layers.Dense(128, activation=tf.nn.relu),\n",
        "            tf.keras.layers.Dense(128, activation=tf.nn.relu),\n",
        "            tf.keras.layers.Dense(128, activation=tf.nn.relu),\n",
        "            tf.keras.layers.Dense(128, activation=tf.nn.relu),\n",
        "            tf.keras.layers.Dense(128, activation=tf.nn.relu),\n",
        "            tf.keras.layers.Dense(128, activation=tf.nn.relu),\n",
        "            tf.keras.layers.Dense(10, activation=tf.nn.softmax)])\n",
        "  \n",
        "        # compile the model\n",
        "        model.compile(loss='sparse_categorical_crossentropy',optimizer='adam',metrics=['accuracy'])\n",
        "\n",
        "        # Train the model\n",
        "        model.fit(x_train,y_train,epochs=5,batch_size=32, validation_data=(x_test, y_test) )\n",
        "        # evaluate the model\n",
        "        model.evaluate(x_test, y_test)"
      ],
      "metadata": {
        "id": "mYBe83BejuJg",
        "colab": {
          "base_uri": "https://localhost:8080/"
        },
        "outputId": "7662d8e6-bd77-439a-abe7-667025ff1efc"
      },
      "id": "mYBe83BejuJg",
      "execution_count": null,
      "outputs": [
        {
          "output_type": "stream",
          "name": "stdout",
          "text": [
            "Epoch 1/5\n",
            "342/342 [==============================] - 10s 17ms/step - loss: 0.4364 - accuracy: 0.8030 - val_loss: 0.3154 - val_accuracy: 0.8744\n",
            "Epoch 2/5\n",
            "342/342 [==============================] - 5s 16ms/step - loss: 0.2398 - accuracy: 0.9013 - val_loss: 0.2123 - val_accuracy: 0.9068\n",
            "Epoch 3/5\n",
            "342/342 [==============================] - 5s 14ms/step - loss: 0.1670 - accuracy: 0.9377 - val_loss: 0.1776 - val_accuracy: 0.9310\n",
            "Epoch 4/5\n",
            "342/342 [==============================] - 5s 14ms/step - loss: 0.1465 - accuracy: 0.9438 - val_loss: 0.1602 - val_accuracy: 0.9412\n",
            "Epoch 5/5\n",
            "342/342 [==============================] - 5s 14ms/step - loss: 0.1207 - accuracy: 0.9577 - val_loss: 0.1707 - val_accuracy: 0.9390\n",
            "114/114 [==============================] - 1s 4ms/step - loss: 0.1707 - accuracy: 0.9390\n",
            "Epoch 1/5\n",
            "342/342 [==============================] - 7s 14ms/step - loss: 0.4292 - accuracy: 0.8013 - val_loss: 0.2975 - val_accuracy: 0.8793\n",
            "Epoch 2/5\n",
            "342/342 [==============================] - 3s 7ms/step - loss: 0.2464 - accuracy: 0.9014 - val_loss: 0.2631 - val_accuracy: 0.8889\n",
            "Epoch 3/5\n",
            "342/342 [==============================] - 3s 8ms/step - loss: 0.2365 - accuracy: 0.9044 - val_loss: 0.2043 - val_accuracy: 0.9217\n",
            "Epoch 4/5\n",
            "342/342 [==============================] - 3s 8ms/step - loss: 0.1597 - accuracy: 0.9352 - val_loss: 0.1893 - val_accuracy: 0.9365\n",
            "Epoch 5/5\n",
            "342/342 [==============================] - 2s 7ms/step - loss: 0.2100 - accuracy: 0.9236 - val_loss: 0.1879 - val_accuracy: 0.9335\n",
            "114/114 [==============================] - 0s 2ms/step - loss: 0.1879 - accuracy: 0.9335\n",
            "Epoch 1/5\n",
            "342/342 [==============================] - 4s 8ms/step - loss: 0.4162 - accuracy: 0.8069 - val_loss: 0.3184 - val_accuracy: 0.8752\n",
            "Epoch 2/5\n",
            "342/342 [==============================] - 3s 8ms/step - loss: 0.2259 - accuracy: 0.9075 - val_loss: 0.2385 - val_accuracy: 0.9041\n",
            "Epoch 3/5\n",
            "342/342 [==============================] - 2s 7ms/step - loss: 0.2078 - accuracy: 0.9192 - val_loss: 0.1851 - val_accuracy: 0.9302\n",
            "Epoch 4/5\n",
            "342/342 [==============================] - 3s 8ms/step - loss: 0.1536 - accuracy: 0.9461 - val_loss: 0.2944 - val_accuracy: 0.8906\n",
            "Epoch 5/5\n",
            "342/342 [==============================] - 2s 7ms/step - loss: 0.1192 - accuracy: 0.9546 - val_loss: 0.3397 - val_accuracy: 0.9038\n",
            "114/114 [==============================] - 0s 2ms/step - loss: 0.3397 - accuracy: 0.9038\n",
            "Epoch 1/5\n",
            "342/342 [==============================] - 4s 9ms/step - loss: 0.4336 - accuracy: 0.7941 - val_loss: 0.3465 - val_accuracy: 0.8419\n",
            "Epoch 2/5\n",
            "342/342 [==============================] - 3s 8ms/step - loss: 0.2473 - accuracy: 0.9032 - val_loss: 0.2876 - val_accuracy: 0.8639\n",
            "Epoch 3/5\n",
            "342/342 [==============================] - 3s 8ms/step - loss: 0.1861 - accuracy: 0.9266 - val_loss: 0.2892 - val_accuracy: 0.9247\n",
            "Epoch 4/5\n",
            "342/342 [==============================] - 3s 7ms/step - loss: 0.1470 - accuracy: 0.9427 - val_loss: 0.1709 - val_accuracy: 0.9426\n",
            "Epoch 5/5\n",
            "342/342 [==============================] - 3s 8ms/step - loss: 0.1321 - accuracy: 0.9513 - val_loss: 0.1573 - val_accuracy: 0.9456\n",
            "114/114 [==============================] - 0s 2ms/step - loss: 0.1573 - accuracy: 0.9456\n",
            "Epoch 1/5\n",
            "342/342 [==============================] - 5s 10ms/step - loss: 0.4619 - accuracy: 0.7810 - val_loss: 0.3332 - val_accuracy: 0.8469\n",
            "Epoch 2/5\n",
            "342/342 [==============================] - 3s 8ms/step - loss: 0.2670 - accuracy: 0.8902 - val_loss: 0.2782 - val_accuracy: 0.8997\n",
            "Epoch 3/5\n",
            "342/342 [==============================] - 3s 8ms/step - loss: 0.1770 - accuracy: 0.9314 - val_loss: 0.1862 - val_accuracy: 0.9351\n",
            "Epoch 4/5\n",
            "342/342 [==============================] - 3s 8ms/step - loss: 0.1535 - accuracy: 0.9405 - val_loss: 0.1685 - val_accuracy: 0.9439\n",
            "Epoch 5/5\n",
            "342/342 [==============================] - 3s 8ms/step - loss: 0.1282 - accuracy: 0.9522 - val_loss: 0.1503 - val_accuracy: 0.9494\n",
            "114/114 [==============================] - 0s 2ms/step - loss: 0.1503 - accuracy: 0.9494\n",
            "Epoch 1/5\n",
            "342/342 [==============================] - 4s 9ms/step - loss: 0.4311 - accuracy: 0.8058 - val_loss: 0.2913 - val_accuracy: 0.8766\n",
            "Epoch 2/5\n",
            "342/342 [==============================] - 3s 10ms/step - loss: 0.2392 - accuracy: 0.9046 - val_loss: 0.2308 - val_accuracy: 0.9126\n",
            "Epoch 3/5\n",
            "342/342 [==============================] - 3s 7ms/step - loss: 0.1673 - accuracy: 0.9314 - val_loss: 0.1864 - val_accuracy: 0.9327\n",
            "Epoch 4/5\n",
            "342/342 [==============================] - 3s 8ms/step - loss: 0.1597 - accuracy: 0.9373 - val_loss: 0.1717 - val_accuracy: 0.9382\n",
            "Epoch 5/5\n",
            "342/342 [==============================] - 3s 7ms/step - loss: 0.1186 - accuracy: 0.9575 - val_loss: 0.1575 - val_accuracy: 0.9420\n",
            "114/114 [==============================] - 0s 2ms/step - loss: 0.1575 - accuracy: 0.9420\n",
            "Epoch 1/5\n",
            "342/342 [==============================] - 4s 8ms/step - loss: 0.4309 - accuracy: 0.7983 - val_loss: 0.2857 - val_accuracy: 0.8760\n",
            "Epoch 2/5\n",
            "342/342 [==============================] - 3s 7ms/step - loss: 0.2441 - accuracy: 0.9011 - val_loss: 0.2840 - val_accuracy: 0.9043\n",
            "Epoch 3/5\n",
            "342/342 [==============================] - 3s 8ms/step - loss: 0.1714 - accuracy: 0.9352 - val_loss: 0.2457 - val_accuracy: 0.9101\n",
            "Epoch 4/5\n",
            "342/342 [==============================] - 3s 7ms/step - loss: 0.1697 - accuracy: 0.9377 - val_loss: 0.1879 - val_accuracy: 0.9283\n",
            "Epoch 5/5\n",
            "342/342 [==============================] - 3s 8ms/step - loss: 0.1331 - accuracy: 0.9501 - val_loss: 0.1617 - val_accuracy: 0.9478\n",
            "114/114 [==============================] - 0s 2ms/step - loss: 0.1617 - accuracy: 0.9478\n"
          ]
        }
      ]
    },
    {
      "cell_type": "code",
      "source": [
        "import numpy \n",
        "cvscores1 = []\n",
        "scores = model.evaluate(x_test, y_test, verbose=0)\n",
        "print(\"%s: %.2f%%\" % (model.metrics_names[1], scores[1]*100))\n",
        "cvscores1.append(scores[1] * 100)\n",
        "print(\"%.2f%% (+/- %.2f%%)\" % (numpy.mean(cvscores1), numpy.std(cvscores1)))\n",
        "      "
      ],
      "metadata": {
        "id": "MfkjSElaVrB9",
        "colab": {
          "base_uri": "https://localhost:8080/"
        },
        "outputId": "d94def7f-c459-4930-8817-bfd4b292dda5"
      },
      "id": "MfkjSElaVrB9",
      "execution_count": null,
      "outputs": [
        {
          "output_type": "stream",
          "name": "stdout",
          "text": [
            "accuracy: 94.78%\n",
            "94.78% (+/- 0.00%)\n"
          ]
        }
      ]
    },
    {
      "cell_type": "code",
      "source": [
        ""
      ],
      "metadata": {
        "id": "_ad2CYJcbeY7"
      },
      "id": "_ad2CYJcbeY7",
      "execution_count": null,
      "outputs": []
    },
    {
      "cell_type": "code",
      "source": [
        ""
      ],
      "metadata": {
        "id": "yjA6GgMsbeV_"
      },
      "id": "yjA6GgMsbeV_",
      "execution_count": null,
      "outputs": []
    }
  ],
  "metadata": {
    "colab": {
      "collapsed_sections": [],
      "name": " ANN PTBDB.ipynb",
      "provenance": []
    },
    "kernelspec": {
      "display_name": "Python 3 (ipykernel)",
      "language": "python",
      "name": "python3"
    },
    "language_info": {
      "codemirror_mode": {
        "name": "ipython",
        "version": 3
      },
      "file_extension": ".py",
      "mimetype": "text/x-python",
      "name": "python",
      "nbconvert_exporter": "python",
      "pygments_lexer": "ipython3",
      "version": "3.9.7"
    }
  },
  "nbformat": 4,
  "nbformat_minor": 5
}