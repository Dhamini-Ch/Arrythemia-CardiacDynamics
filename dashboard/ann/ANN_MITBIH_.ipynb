{
  "cells": [
    {
      "cell_type": "code",
      "execution_count": null,
      "id": "CjqVBZF34r7h",
      "metadata": {
        "colab": {
          "base_uri": "https://localhost:8080/"
        },
        "id": "CjqVBZF34r7h",
        "outputId": "6884f77f-d2c0-4a8f-8405-6f92c064542c"
      },
      "outputs": [
        {
          "name": "stdout",
          "output_type": "stream",
          "text": [
            "Mounted at /content/drive\n"
          ]
        }
      ],
      "source": [
        "from google.colab import drive\n",
        "drive.mount('/content/drive')"
      ]
    },
    {
      "cell_type": "code",
      "execution_count": null,
      "id": "f9b9dc65",
      "metadata": {
        "id": "f9b9dc65"
      },
      "outputs": [],
      "source": [
        "#importing the libraries\n",
        "import numpy as np\n",
        "import pandas as pd\n",
        "import matplotlib.pyplot as plt\n",
        "import seaborn as sns\n",
        "from numpy import percentile\n",
        "from numpy.random import rand"
      ]
    },
    {
      "cell_type": "code",
      "execution_count": null,
      "id": "8bba711b",
      "metadata": {
        "colab": {
          "base_uri": "https://localhost:8080/",
          "height": 235
        },
        "id": "8bba711b",
        "outputId": "eb5e666d-148d-421a-fb27-33f536949f68"
      },
      "outputs": [
        {
          "data": {
            "text/html": [
              "\n",
              "  <div id=\"df-92f6abd2-4ab9-4457-9cac-19a405d6c7dc\">\n",
              "    <div class=\"colab-df-container\">\n",
              "      <div>\n",
              "<style scoped>\n",
              "    .dataframe tbody tr th:only-of-type {\n",
              "        vertical-align: middle;\n",
              "    }\n",
              "\n",
              "    .dataframe tbody tr th {\n",
              "        vertical-align: top;\n",
              "    }\n",
              "\n",
              "    .dataframe thead th {\n",
              "        text-align: right;\n",
              "    }\n",
              "</style>\n",
              "<table border=\"1\" class=\"dataframe\">\n",
              "  <thead>\n",
              "    <tr style=\"text-align: right;\">\n",
              "      <th></th>\n",
              "      <th>0</th>\n",
              "      <th>1</th>\n",
              "      <th>2</th>\n",
              "      <th>3</th>\n",
              "      <th>4</th>\n",
              "      <th>5</th>\n",
              "      <th>6</th>\n",
              "      <th>7</th>\n",
              "      <th>8</th>\n",
              "      <th>9</th>\n",
              "      <th>...</th>\n",
              "      <th>178</th>\n",
              "      <th>179</th>\n",
              "      <th>180</th>\n",
              "      <th>181</th>\n",
              "      <th>182</th>\n",
              "      <th>183</th>\n",
              "      <th>184</th>\n",
              "      <th>185</th>\n",
              "      <th>186</th>\n",
              "      <th>187</th>\n",
              "    </tr>\n",
              "  </thead>\n",
              "  <tbody>\n",
              "    <tr>\n",
              "      <th>0</th>\n",
              "      <td>1.000000</td>\n",
              "      <td>0.758264</td>\n",
              "      <td>0.111570</td>\n",
              "      <td>0.000000</td>\n",
              "      <td>0.080579</td>\n",
              "      <td>0.078512</td>\n",
              "      <td>0.066116</td>\n",
              "      <td>0.049587</td>\n",
              "      <td>0.047521</td>\n",
              "      <td>0.035124</td>\n",
              "      <td>...</td>\n",
              "      <td>0.0</td>\n",
              "      <td>0.0</td>\n",
              "      <td>0.0</td>\n",
              "      <td>0.0</td>\n",
              "      <td>0.0</td>\n",
              "      <td>0.0</td>\n",
              "      <td>0.0</td>\n",
              "      <td>0.0</td>\n",
              "      <td>0.0</td>\n",
              "      <td>0.0</td>\n",
              "    </tr>\n",
              "    <tr>\n",
              "      <th>1</th>\n",
              "      <td>0.908425</td>\n",
              "      <td>0.783883</td>\n",
              "      <td>0.531136</td>\n",
              "      <td>0.362637</td>\n",
              "      <td>0.366300</td>\n",
              "      <td>0.344322</td>\n",
              "      <td>0.333333</td>\n",
              "      <td>0.307692</td>\n",
              "      <td>0.296703</td>\n",
              "      <td>0.300366</td>\n",
              "      <td>...</td>\n",
              "      <td>0.0</td>\n",
              "      <td>0.0</td>\n",
              "      <td>0.0</td>\n",
              "      <td>0.0</td>\n",
              "      <td>0.0</td>\n",
              "      <td>0.0</td>\n",
              "      <td>0.0</td>\n",
              "      <td>0.0</td>\n",
              "      <td>0.0</td>\n",
              "      <td>0.0</td>\n",
              "    </tr>\n",
              "    <tr>\n",
              "      <th>2</th>\n",
              "      <td>0.730088</td>\n",
              "      <td>0.212389</td>\n",
              "      <td>0.000000</td>\n",
              "      <td>0.119469</td>\n",
              "      <td>0.101770</td>\n",
              "      <td>0.101770</td>\n",
              "      <td>0.110619</td>\n",
              "      <td>0.123894</td>\n",
              "      <td>0.115044</td>\n",
              "      <td>0.132743</td>\n",
              "      <td>...</td>\n",
              "      <td>0.0</td>\n",
              "      <td>0.0</td>\n",
              "      <td>0.0</td>\n",
              "      <td>0.0</td>\n",
              "      <td>0.0</td>\n",
              "      <td>0.0</td>\n",
              "      <td>0.0</td>\n",
              "      <td>0.0</td>\n",
              "      <td>0.0</td>\n",
              "      <td>0.0</td>\n",
              "    </tr>\n",
              "    <tr>\n",
              "      <th>3</th>\n",
              "      <td>1.000000</td>\n",
              "      <td>0.910417</td>\n",
              "      <td>0.681250</td>\n",
              "      <td>0.472917</td>\n",
              "      <td>0.229167</td>\n",
              "      <td>0.068750</td>\n",
              "      <td>0.000000</td>\n",
              "      <td>0.004167</td>\n",
              "      <td>0.014583</td>\n",
              "      <td>0.054167</td>\n",
              "      <td>...</td>\n",
              "      <td>0.0</td>\n",
              "      <td>0.0</td>\n",
              "      <td>0.0</td>\n",
              "      <td>0.0</td>\n",
              "      <td>0.0</td>\n",
              "      <td>0.0</td>\n",
              "      <td>0.0</td>\n",
              "      <td>0.0</td>\n",
              "      <td>0.0</td>\n",
              "      <td>0.0</td>\n",
              "    </tr>\n",
              "    <tr>\n",
              "      <th>4</th>\n",
              "      <td>0.570470</td>\n",
              "      <td>0.399329</td>\n",
              "      <td>0.238255</td>\n",
              "      <td>0.147651</td>\n",
              "      <td>0.000000</td>\n",
              "      <td>0.003356</td>\n",
              "      <td>0.040268</td>\n",
              "      <td>0.080537</td>\n",
              "      <td>0.070470</td>\n",
              "      <td>0.090604</td>\n",
              "      <td>...</td>\n",
              "      <td>0.0</td>\n",
              "      <td>0.0</td>\n",
              "      <td>0.0</td>\n",
              "      <td>0.0</td>\n",
              "      <td>0.0</td>\n",
              "      <td>0.0</td>\n",
              "      <td>0.0</td>\n",
              "      <td>0.0</td>\n",
              "      <td>0.0</td>\n",
              "      <td>0.0</td>\n",
              "    </tr>\n",
              "  </tbody>\n",
              "</table>\n",
              "<p>5 rows × 188 columns</p>\n",
              "</div>\n",
              "      <button class=\"colab-df-convert\" onclick=\"convertToInteractive('df-92f6abd2-4ab9-4457-9cac-19a405d6c7dc')\"\n",
              "              title=\"Convert this dataframe to an interactive table.\"\n",
              "              style=\"display:none;\">\n",
              "        \n",
              "  <svg xmlns=\"http://www.w3.org/2000/svg\" height=\"24px\"viewBox=\"0 0 24 24\"\n",
              "       width=\"24px\">\n",
              "    <path d=\"M0 0h24v24H0V0z\" fill=\"none\"/>\n",
              "    <path d=\"M18.56 5.44l.94 2.06.94-2.06 2.06-.94-2.06-.94-.94-2.06-.94 2.06-2.06.94zm-11 1L8.5 8.5l.94-2.06 2.06-.94-2.06-.94L8.5 2.5l-.94 2.06-2.06.94zm10 10l.94 2.06.94-2.06 2.06-.94-2.06-.94-.94-2.06-.94 2.06-2.06.94z\"/><path d=\"M17.41 7.96l-1.37-1.37c-.4-.4-.92-.59-1.43-.59-.52 0-1.04.2-1.43.59L10.3 9.45l-7.72 7.72c-.78.78-.78 2.05 0 2.83L4 21.41c.39.39.9.59 1.41.59.51 0 1.02-.2 1.41-.59l7.78-7.78 2.81-2.81c.8-.78.8-2.07 0-2.86zM5.41 20L4 18.59l7.72-7.72 1.47 1.35L5.41 20z\"/>\n",
              "  </svg>\n",
              "      </button>\n",
              "      \n",
              "  <style>\n",
              "    .colab-df-container {\n",
              "      display:flex;\n",
              "      flex-wrap:wrap;\n",
              "      gap: 12px;\n",
              "    }\n",
              "\n",
              "    .colab-df-convert {\n",
              "      background-color: #E8F0FE;\n",
              "      border: none;\n",
              "      border-radius: 50%;\n",
              "      cursor: pointer;\n",
              "      display: none;\n",
              "      fill: #1967D2;\n",
              "      height: 32px;\n",
              "      padding: 0 0 0 0;\n",
              "      width: 32px;\n",
              "    }\n",
              "\n",
              "    .colab-df-convert:hover {\n",
              "      background-color: #E2EBFA;\n",
              "      box-shadow: 0px 1px 2px rgba(60, 64, 67, 0.3), 0px 1px 3px 1px rgba(60, 64, 67, 0.15);\n",
              "      fill: #174EA6;\n",
              "    }\n",
              "\n",
              "    [theme=dark] .colab-df-convert {\n",
              "      background-color: #3B4455;\n",
              "      fill: #D2E3FC;\n",
              "    }\n",
              "\n",
              "    [theme=dark] .colab-df-convert:hover {\n",
              "      background-color: #434B5C;\n",
              "      box-shadow: 0px 1px 3px 1px rgba(0, 0, 0, 0.15);\n",
              "      filter: drop-shadow(0px 1px 2px rgba(0, 0, 0, 0.3));\n",
              "      fill: #FFFFFF;\n",
              "    }\n",
              "  </style>\n",
              "\n",
              "      <script>\n",
              "        const buttonEl =\n",
              "          document.querySelector('#df-92f6abd2-4ab9-4457-9cac-19a405d6c7dc button.colab-df-convert');\n",
              "        buttonEl.style.display =\n",
              "          google.colab.kernel.accessAllowed ? 'block' : 'none';\n",
              "\n",
              "        async function convertToInteractive(key) {\n",
              "          const element = document.querySelector('#df-92f6abd2-4ab9-4457-9cac-19a405d6c7dc');\n",
              "          const dataTable =\n",
              "            await google.colab.kernel.invokeFunction('convertToInteractive',\n",
              "                                                     [key], {});\n",
              "          if (!dataTable) return;\n",
              "\n",
              "          const docLinkHtml = 'Like what you see? Visit the ' +\n",
              "            '<a target=\"_blank\" href=https://colab.research.google.com/notebooks/data_table.ipynb>data table notebook</a>'\n",
              "            + ' to learn more about interactive tables.';\n",
              "          element.innerHTML = '';\n",
              "          dataTable['output_type'] = 'display_data';\n",
              "          await google.colab.output.renderOutput(dataTable, element);\n",
              "          const docLink = document.createElement('div');\n",
              "          docLink.innerHTML = docLinkHtml;\n",
              "          element.appendChild(docLink);\n",
              "        }\n",
              "      </script>\n",
              "    </div>\n",
              "  </div>\n",
              "  "
            ],
            "text/plain": [
              "        0         1         2         3         4         5         6    \\\n",
              "0  1.000000  0.758264  0.111570  0.000000  0.080579  0.078512  0.066116   \n",
              "1  0.908425  0.783883  0.531136  0.362637  0.366300  0.344322  0.333333   \n",
              "2  0.730088  0.212389  0.000000  0.119469  0.101770  0.101770  0.110619   \n",
              "3  1.000000  0.910417  0.681250  0.472917  0.229167  0.068750  0.000000   \n",
              "4  0.570470  0.399329  0.238255  0.147651  0.000000  0.003356  0.040268   \n",
              "\n",
              "        7         8         9    ...  178  179  180  181  182  183  184  185  \\\n",
              "0  0.049587  0.047521  0.035124  ...  0.0  0.0  0.0  0.0  0.0  0.0  0.0  0.0   \n",
              "1  0.307692  0.296703  0.300366  ...  0.0  0.0  0.0  0.0  0.0  0.0  0.0  0.0   \n",
              "2  0.123894  0.115044  0.132743  ...  0.0  0.0  0.0  0.0  0.0  0.0  0.0  0.0   \n",
              "3  0.004167  0.014583  0.054167  ...  0.0  0.0  0.0  0.0  0.0  0.0  0.0  0.0   \n",
              "4  0.080537  0.070470  0.090604  ...  0.0  0.0  0.0  0.0  0.0  0.0  0.0  0.0   \n",
              "\n",
              "   186  187  \n",
              "0  0.0  0.0  \n",
              "1  0.0  0.0  \n",
              "2  0.0  0.0  \n",
              "3  0.0  0.0  \n",
              "4  0.0  0.0  \n",
              "\n",
              "[5 rows x 188 columns]"
            ]
          },
          "execution_count": 2,
          "metadata": {},
          "output_type": "execute_result"
        }
      ],
      "source": [
        "#Loading the mitbih data set\n",
        "test = pd.read_csv(\"/content/drive/My Drive/Colab Notebooks/datafiles/mitbih_test.csv\", header=None)\n",
        "train = pd.read_csv(\"/content/drive/My Drive/Colab Notebooks/datafiles/mitbih_train.csv\", header=None)\n",
        "test.head()"
      ]
    },
    {
      "cell_type": "code",
      "execution_count": null,
      "id": "gCgGclubp7KQ",
      "metadata": {
        "colab": {
          "base_uri": "https://localhost:8080/"
        },
        "id": "gCgGclubp7KQ",
        "outputId": "3e280af1-7297-4b45-e03d-a0d09476bbd6"
      },
      "outputs": [
        {
          "data": {
            "text/plain": [
              "(87554, 188)"
            ]
          },
          "execution_count": 3,
          "metadata": {},
          "output_type": "execute_result"
        }
      ],
      "source": [
        "train.shape"
      ]
    },
    {
      "cell_type": "code",
      "execution_count": null,
      "id": "7CATdVm5UlPJ",
      "metadata": {
        "colab": {
          "base_uri": "https://localhost:8080/"
        },
        "id": "7CATdVm5UlPJ",
        "outputId": "0b6104bb-f37c-4888-c90f-26e6d31d369f"
      },
      "outputs": [
        {
          "data": {
            "text/plain": [
              "(21892, 188)"
            ]
          },
          "execution_count": 4,
          "metadata": {},
          "output_type": "execute_result"
        }
      ],
      "source": [
        "test.shape"
      ]
    },
    {
      "cell_type": "code",
      "execution_count": null,
      "id": "dwCvfX8-UlMW",
      "metadata": {
        "colab": {
          "base_uri": "https://localhost:8080/"
        },
        "id": "dwCvfX8-UlMW",
        "outputId": "06654e82-a62d-47d3-ab1a-970f24985d45"
      },
      "outputs": [
        {
          "data": {
            "text/plain": [
              "array([0., 1., 2., 3., 4.])"
            ]
          },
          "execution_count": 5,
          "metadata": {},
          "output_type": "execute_result"
        }
      ],
      "source": [
        "train[187].unique()"
      ]
    },
    {
      "cell_type": "code",
      "execution_count": null,
      "id": "G-M9MhDUUvt-",
      "metadata": {
        "id": "G-M9MhDUUvt-"
      },
      "outputs": [],
      "source": [
        "import numpy as np\n",
        "import pandas as pd\n",
        "from sklearn.metrics import f1_score, confusion_matrix\n",
        "from sklearn.utils import resample\n",
        "import random\n",
        "import matplotlib.pyplot as plt\n",
        "import seaborn as sns\n",
        "train_lbl0 = resample(train[train[187]==0], replace=True, n_samples=15000, random_state=113)\n",
        "train_lbl1 = resample(train[train[187]==1], replace=True, n_samples=15000, random_state=113)\n",
        "train_lbl2 = resample(train[train[187]==2], replace=True, n_samples=15000, random_state=113)\n",
        "train_lbl3 = resample(train[train[187]==3], replace=True, n_samples=15000, random_state=113)\n",
        "train_lbl4 = resample(train[train[187]==4], replace=True, n_samples=15000, random_state=113)"
      ]
    },
    {
      "cell_type": "code",
      "execution_count": null,
      "id": "CMKk8lmVUvrK",
      "metadata": {
        "colab": {
          "base_uri": "https://localhost:8080/"
        },
        "id": "CMKk8lmVUvrK",
        "outputId": "fad51e56-3c0f-4977-8b22-cd8731fc2620"
      },
      "outputs": [
        {
          "name": "stdout",
          "output_type": "stream",
          "text": [
            "Count in each label: \n",
            "0    15000\n",
            "1    15000\n",
            "2    15000\n",
            "3    15000\n",
            "4    15000\n",
            "Name: 187, dtype: int64\n"
          ]
        }
      ],
      "source": [
        "train= pd.concat([train_lbl0, train_lbl1, train_lbl2, train_lbl3, train_lbl4])\n",
        "\n",
        "labels = train[187].astype('int64')   # last column has the labels\n",
        "\n",
        "print(\"Count in each label: \")\n",
        "print(labels.value_counts())"
      ]
    },
    {
      "cell_type": "code",
      "execution_count": null,
      "id": "6756e684",
      "metadata": {
        "id": "6756e684"
      },
      "outputs": [],
      "source": [
        "x_train = train.iloc[:, 1:-1].values\n",
        "y_train = train.iloc[:, -1].values"
      ]
    },
    {
      "cell_type": "code",
      "execution_count": null,
      "id": "7e5e7264",
      "metadata": {
        "id": "7e5e7264"
      },
      "outputs": [],
      "source": [
        "x_test = test.iloc[:, 1:-1].values\n",
        "y_test = test.iloc[:, -1].values"
      ]
    },
    {
      "cell_type": "code",
      "execution_count": null,
      "id": "44dd4dc5",
      "metadata": {
        "id": "44dd4dc5"
      },
      "outputs": [],
      "source": [
        "from sklearn.preprocessing import StandardScaler\n",
        "sc = StandardScaler()\n",
        "x_train = sc.fit_transform(x_train)\n",
        "x_test = sc.fit_transform(x_test)"
      ]
    },
    {
      "cell_type": "markdown",
      "id": "xT1iML5aVXHj",
      "metadata": {
        "id": "xT1iML5aVXHj"
      },
      "source": [
        "#**ANN**"
      ]
    },
    {
      "cell_type": "code",
      "execution_count": null,
      "id": "mYBe83BejuJg",
      "metadata": {
        "colab": {
          "base_uri": "https://localhost:8080/"
        },
        "id": "mYBe83BejuJg",
        "outputId": "3c9582a2-c48e-4dc5-c608-04945f4dc367"
      },
      "outputs": [
        {
          "name": "stdout",
          "output_type": "stream",
          "text": [
            "Epoch 1/5\n",
            "2344/2344 [==============================] - 17s 7ms/step - loss: 0.5589 - accuracy: 0.8023 - val_loss: 0.6517 - val_accuracy: 0.8260\n",
            "Epoch 2/5\n",
            "2344/2344 [==============================] - 17s 7ms/step - loss: 0.3369 - accuracy: 0.8895 - val_loss: 0.7190 - val_accuracy: 0.7896\n",
            "Epoch 3/5\n",
            "2344/2344 [==============================] - 16s 7ms/step - loss: 0.2919 - accuracy: 0.9068 - val_loss: 0.6115 - val_accuracy: 0.7810\n",
            "Epoch 4/5\n",
            "2344/2344 [==============================] - 15s 6ms/step - loss: 0.2472 - accuracy: 0.9198 - val_loss: 0.6228 - val_accuracy: 0.8284\n",
            "Epoch 5/5\n",
            "2344/2344 [==============================] - 16s 7ms/step - loss: 0.2050 - accuracy: 0.9348 - val_loss: 0.4536 - val_accuracy: 0.8521\n",
            "685/685 [==============================] - 1s 2ms/step - loss: 0.4536 - accuracy: 0.8521\n",
            "Epoch 1/5\n",
            "2344/2344 [==============================] - 16s 7ms/step - loss: 0.5178 - accuracy: 0.8240 - val_loss: 0.7757 - val_accuracy: 0.7169\n",
            "Epoch 2/5\n",
            "2344/2344 [==============================] - 15s 6ms/step - loss: 0.3599 - accuracy: 0.8846 - val_loss: 0.5960 - val_accuracy: 0.7966\n",
            "Epoch 3/5\n",
            "2344/2344 [==============================] - 15s 6ms/step - loss: 0.2718 - accuracy: 0.9134 - val_loss: 0.4926 - val_accuracy: 0.8377\n",
            "Epoch 4/5\n",
            "2344/2344 [==============================] - 15s 6ms/step - loss: 0.2718 - accuracy: 0.9121 - val_loss: 0.6219 - val_accuracy: 0.7957\n",
            "Epoch 5/5\n",
            "2344/2344 [==============================] - 15s 6ms/step - loss: 0.2563 - accuracy: 0.9172 - val_loss: 0.4465 - val_accuracy: 0.8523\n",
            "685/685 [==============================] - 1s 2ms/step - loss: 0.4465 - accuracy: 0.8523\n",
            "Epoch 1/5\n",
            "2344/2344 [==============================] - 16s 6ms/step - loss: 0.5571 - accuracy: 0.8010 - val_loss: 0.6522 - val_accuracy: 0.8161\n",
            "Epoch 2/5\n",
            "2344/2344 [==============================] - 15s 6ms/step - loss: 0.3540 - accuracy: 0.8840 - val_loss: 0.6033 - val_accuracy: 0.8053\n",
            "Epoch 3/5\n",
            "2344/2344 [==============================] - 15s 6ms/step - loss: 0.3604 - accuracy: 0.8820 - val_loss: 0.3663 - val_accuracy: 0.8967\n",
            "Epoch 4/5\n",
            "2344/2344 [==============================] - 15s 6ms/step - loss: 0.2546 - accuracy: 0.9162 - val_loss: 0.3837 - val_accuracy: 0.8905\n",
            "Epoch 5/5\n",
            "2344/2344 [==============================] - 15s 6ms/step - loss: 0.2593 - accuracy: 0.9168 - val_loss: 0.6392 - val_accuracy: 0.8581\n",
            "685/685 [==============================] - 1s 2ms/step - loss: 0.6392 - accuracy: 0.8581\n",
            "Epoch 1/5\n",
            "2344/2344 [==============================] - 16s 6ms/step - loss: 0.5150 - accuracy: 0.8183 - val_loss: 0.6383 - val_accuracy: 0.8216\n",
            "Epoch 2/5\n",
            "2344/2344 [==============================] - 15s 6ms/step - loss: 0.3392 - accuracy: 0.8896 - val_loss: 0.5126 - val_accuracy: 0.8150\n",
            "Epoch 3/5\n",
            "2344/2344 [==============================] - 15s 6ms/step - loss: 0.2752 - accuracy: 0.9095 - val_loss: 0.5269 - val_accuracy: 0.8247\n",
            "Epoch 4/5\n",
            "2344/2344 [==============================] - 15s 6ms/step - loss: 0.2336 - accuracy: 0.9250 - val_loss: 0.3265 - val_accuracy: 0.9003\n",
            "Epoch 5/5\n",
            "2344/2344 [==============================] - 15s 6ms/step - loss: 0.1993 - accuracy: 0.9376 - val_loss: 0.3832 - val_accuracy: 0.8787\n",
            "685/685 [==============================] - 1s 2ms/step - loss: 0.3832 - accuracy: 0.8787\n",
            "Epoch 1/5\n",
            "2344/2344 [==============================] - 16s 7ms/step - loss: 0.5351 - accuracy: 0.8116 - val_loss: 0.6408 - val_accuracy: 0.7742\n",
            "Epoch 2/5\n",
            "2344/2344 [==============================] - 15s 6ms/step - loss: 0.3423 - accuracy: 0.8862 - val_loss: 0.4637 - val_accuracy: 0.8405\n",
            "Epoch 3/5\n",
            "2344/2344 [==============================] - 15s 6ms/step - loss: 0.2909 - accuracy: 0.9031 - val_loss: 0.6222 - val_accuracy: 0.7912\n",
            "Epoch 4/5\n",
            "2344/2344 [==============================] - 15s 6ms/step - loss: 0.2468 - accuracy: 0.9207 - val_loss: 0.4695 - val_accuracy: 0.8601\n",
            "Epoch 5/5\n",
            "2344/2344 [==============================] - 15s 7ms/step - loss: 0.2000 - accuracy: 0.9373 - val_loss: 0.4864 - val_accuracy: 0.8463\n",
            "685/685 [==============================] - 1s 2ms/step - loss: 0.4864 - accuracy: 0.8463\n",
            "Epoch 1/5\n",
            "2344/2344 [==============================] - 17s 7ms/step - loss: 0.5094 - accuracy: 0.8241 - val_loss: 0.6517 - val_accuracy: 0.7741\n",
            "Epoch 2/5\n",
            "2344/2344 [==============================] - 15s 7ms/step - loss: 0.3432 - accuracy: 0.8876 - val_loss: 0.4983 - val_accuracy: 0.8489\n",
            "Epoch 3/5\n",
            "2344/2344 [==============================] - 16s 7ms/step - loss: 0.3164 - accuracy: 0.8956 - val_loss: 0.4253 - val_accuracy: 0.8462\n",
            "Epoch 4/5\n",
            "2344/2344 [==============================] - 16s 7ms/step - loss: 0.2627 - accuracy: 0.9155 - val_loss: 0.4157 - val_accuracy: 0.8557\n",
            "Epoch 5/5\n",
            "2344/2344 [==============================] - 16s 7ms/step - loss: 0.2169 - accuracy: 0.9327 - val_loss: 0.3386 - val_accuracy: 0.8950\n",
            "685/685 [==============================] - 1s 2ms/step - loss: 0.3386 - accuracy: 0.8950\n",
            "Epoch 1/5\n",
            "2344/2344 [==============================] - 16s 6ms/step - loss: 0.5270 - accuracy: 0.8174 - val_loss: 0.7131 - val_accuracy: 0.8176\n",
            "Epoch 2/5\n",
            "2344/2344 [==============================] - 15s 6ms/step - loss: 0.3606 - accuracy: 0.8811 - val_loss: 0.5970 - val_accuracy: 0.7913\n",
            "Epoch 3/5\n",
            "2344/2344 [==============================] - 15s 6ms/step - loss: 0.2900 - accuracy: 0.9044 - val_loss: 0.4482 - val_accuracy: 0.8551\n",
            "Epoch 4/5\n",
            "2344/2344 [==============================] - 15s 6ms/step - loss: 0.2472 - accuracy: 0.9192 - val_loss: 0.5557 - val_accuracy: 0.7897\n",
            "Epoch 5/5\n",
            "2344/2344 [==============================] - 15s 6ms/step - loss: 0.2192 - accuracy: 0.9281 - val_loss: 0.4283 - val_accuracy: 0.8481\n",
            "685/685 [==============================] - 1s 2ms/step - loss: 0.4283 - accuracy: 0.8481\n"
          ]
        }
      ],
      "source": [
        "import tensorflow as tf\n",
        "from tensorflow import keras\n",
        "from sklearn.metrics import precision_score, recall_score\n",
        "from sklearn.metrics import accuracy_score, confusion_matrix, classification_report\n",
        "\n",
        "accuracy = pd.DataFrame( columns=[\"Accuracy\",\"Precision\",\"Recall\"])\n",
        "#predictions = np.zeros(shape=(10000,7))\n",
        "row_index = 0\n",
        "for i in range(7):\n",
        "        # bootstrap sampling  \n",
        "        boot_train = resample(x_train,y_train,replace=True, n_samples=40000, random_state=None)\n",
        "        model1 = tf.keras.Sequential([\n",
        "            tf.keras.layers.Flatten(input_shape=x_train[0].shape),\n",
        "            tf.keras.layers.Dense(256, activation=tf.nn.relu),\n",
        "            tf.keras.layers.Dense(128, activation=tf.nn.relu),\n",
        "            tf.keras.layers.Dense(128, activation=tf.nn.relu),\n",
        "            tf.keras.layers.Dense(128, activation=tf.nn.relu),\n",
        "            tf.keras.layers.Dense(128, activation=tf.nn.relu),\n",
        "            tf.keras.layers.Dense(128, activation=tf.nn.relu),\n",
        "            tf.keras.layers.Dense(128, activation=tf.nn.relu),\n",
        "            tf.keras.layers.Dense(128, activation=tf.nn.relu),\n",
        "            tf.keras.layers.Dense(128, activation=tf.nn.relu),\n",
        "            tf.keras.layers.Dense(128, activation=tf.nn.relu),\n",
        "            tf.keras.layers.Dense(128, activation=tf.nn.relu),\n",
        "            tf.keras.layers.Dense(128, activation=tf.nn.relu),\n",
        "            tf.keras.layers.Dense(128, activation=tf.nn.relu),\n",
        "            tf.keras.layers.Dense(128, activation=tf.nn.relu),\n",
        "            tf.keras.layers.Dense(128, activation=tf.nn.relu),\n",
        "            tf.keras.layers.Dense(128, activation=tf.nn.relu),\n",
        "            tf.keras.layers.Dense(128, activation=tf.nn.relu),\n",
        "            tf.keras.layers.Dense(5, activation=tf.nn.softmax)])\n",
        "  \n",
        "        # compile the model1\n",
        "        model1.compile(loss='sparse_categorical_crossentropy',optimizer='adam',metrics=['accuracy'])\n",
        "\n",
        "        # Train the model1\n",
        "        model1.fit(x_train,y_train,epochs=5,batch_size=32, validation_data=(x_test, y_test))\n",
        "        # evaluate the model1\n",
        "        model1.evaluate(x_test, y_test)"
      ]
    },
    {
      "cell_type": "code",
      "execution_count": null,
      "id": "MfkjSElaVrB9",
      "metadata": {
        "colab": {
          "base_uri": "https://localhost:8080/"
        },
        "id": "MfkjSElaVrB9",
        "outputId": "2f2804e1-48e9-4b50-cc88-4c8a4a331bcc"
      },
      "outputs": [
        {
          "name": "stdout",
          "output_type": "stream",
          "text": [
            "accuracy: 84.81%\n",
            "84.81% (+/- 0.00%)\n"
          ]
        }
      ],
      "source": [
        "import numpy \n",
        "cvscores1 = []\n",
        "scores = model1.evaluate(x_test, y_test, verbose=0)\n",
        "print(\"%s: %.2f%%\" % (model1.metrics_names[1], scores[1]*100))\n",
        "cvscores1.append(scores[1] * 100)\n",
        "print(\"%.2f%% (+/- %.2f%%)\" % (numpy.mean(cvscores1), numpy.std(cvscores1)))\n",
        "      "
      ]
    },
    {
      "cell_type": "code",
      "execution_count": null,
      "id": "IG5j12bJbmK8",
      "metadata": {
        "id": "IG5j12bJbmK8"
      },
      "outputs": [],
      "source": []
    },
    {
      "cell_type": "code",
      "execution_count": null,
      "id": "HeaNm4d4bmIK",
      "metadata": {
        "id": "HeaNm4d4bmIK"
      },
      "outputs": [],
      "source": []
    }
  ],
  "metadata": {
    "colab": {
      "collapsed_sections": [],
      "name": "ANN MITBIH .ipynb",
      "provenance": []
    },
    "kernelspec": {
      "display_name": "Python 3 (ipykernel)",
      "language": "python",
      "name": "python3"
    },
    "language_info": {
      "codemirror_mode": {
        "name": "ipython",
        "version": 3
      },
      "file_extension": ".py",
      "mimetype": "text/x-python",
      "name": "python",
      "nbconvert_exporter": "python",
      "pygments_lexer": "ipython3",
      "version": "3.9.7"
    }
  },
  "nbformat": 4,
  "nbformat_minor": 5
}
