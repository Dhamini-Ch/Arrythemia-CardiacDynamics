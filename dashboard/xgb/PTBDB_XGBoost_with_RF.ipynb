{
  "nbformat": 4,
  "nbformat_minor": 0,
  "metadata": {
    "colab": {
      "name": "PTBDB-XGBoost with RF.ipynb",
      "provenance": [],
      "collapsed_sections": []
    },
    "kernelspec": {
      "name": "python3",
      "display_name": "Python 3"
    },
    "language_info": {
      "name": "python"
    }
  },
  "cells": [
    {
      "cell_type": "code",
      "source": [
        "import pandas as pd\n",
        "import xgboost as xgb\n",
        "from sklearn.datasets import load_breast_cancer\n",
        "from sklearn.model_selection import train_test_split\n",
        "from sklearn.metrics import accuracy_score\n",
        "import numpy as np"
      ],
      "metadata": {
        "id": "wxkXH3Gv9V1A"
      },
      "execution_count": 1,
      "outputs": []
    },
    {
      "cell_type": "code",
      "source": [
        "abnormal=pd.read_csv(\"/content/drive/MyDrive/NEW GMAIL ACC RELATED/ptbdb_abnormal.csv\", header=None)\n",
        "normal=pd.read_csv(\"/content/drive/MyDrive/NEW GMAIL ACC RELATED/ptbdb_normal.csv\", header=None)"
      ],
      "metadata": {
        "id": "dYJZXmdF9Yhz"
      },
      "execution_count": 3,
      "outputs": []
    },
    {
      "cell_type": "code",
      "source": [
        "ptbdb=pd.concat([normal, abnormal])"
      ],
      "metadata": {
        "id": "z15aJys00ah2"
      },
      "execution_count": 4,
      "outputs": []
    },
    {
      "cell_type": "code",
      "source": [
        "#Finding the outliers\n",
        "continous_features =   ptbdb[187].unique()\n",
        "def outliers(df_out, drop = False):\n",
        "    for each_feature in df_out.columns:\n",
        "        feature_data = df_out[each_feature]\n",
        "        Q1 = np.percentile(feature_data, 25.) # 25th percentile of the data of the given feature\n",
        "        Q3 = np.percentile(feature_data, 75.) # 75th percentile of the data of the given feature\n",
        "        IQR = Q3-Q1 \n",
        "        outlier_step = IQR * 1.5 \n",
        "        outliers = feature_data[~((feature_data >= Q1 - outlier_step) & (feature_data <= Q3 + outlier_step))].index.tolist()  \n",
        "        if not drop:\n",
        "            print('For the feature {}, No of Outliers is {}'.format(each_feature, len(outliers)))\n",
        "        if drop:\n",
        "            ptbdb.drop(outliers, inplace = True, errors = 'ignore')\n",
        "            print('Outliers from {} feature removed'.format(each_feature))\n",
        "outliers(ptbdb[continous_features])"
      ],
      "metadata": {
        "colab": {
          "base_uri": "https://localhost:8080/"
        },
        "id": "bOCpKdcx9mnB",
        "outputId": "d3816e95-4369-40a8-c71a-69ecaa1de5a1"
      },
      "execution_count": 5,
      "outputs": [
        {
          "output_type": "stream",
          "name": "stdout",
          "text": [
            "For the feature 0, No of Outliers is 424\n",
            "For the feature 1, No of Outliers is 50\n"
          ]
        }
      ]
    },
    {
      "cell_type": "code",
      "source": [
        "#Removing the outliers\n",
        "outliers(ptbdb[continous_features], drop=True)"
      ],
      "metadata": {
        "colab": {
          "base_uri": "https://localhost:8080/"
        },
        "id": "aeBEID0f90ft",
        "outputId": "8961467a-3199-4281-91a3-9a14f4eb450e"
      },
      "execution_count": 6,
      "outputs": [
        {
          "output_type": "stream",
          "name": "stdout",
          "text": [
            "Outliers from 0 feature removed\n",
            "Outliers from 1 feature removed\n"
          ]
        }
      ]
    },
    {
      "cell_type": "code",
      "source": [
        "import numpy as np\n",
        "import pandas as pd\n",
        "from sklearn.metrics import f1_score, confusion_matrix\n",
        "from sklearn.utils import resample\n",
        "import random\n",
        "import matplotlib.pyplot as plt\n",
        "import seaborn as sns\n",
        "ptbdb_lbl0 = resample(ptbdb[ptbdb[187]==0], replace=True, n_samples=15000, random_state=113)\n",
        "ptbdb_lbl1 = resample(ptbdb[ptbdb[187]==1], replace=True, n_samples=15000, random_state=113)"
      ],
      "metadata": {
        "id": "r14Pigpm921T"
      },
      "execution_count": 8,
      "outputs": []
    },
    {
      "cell_type": "code",
      "source": [
        "ptbdb= pd.concat([ptbdb_lbl0, ptbdb_lbl1])\n",
        "\n",
        "labels = ptbdb[187].astype('int64')   # last column has the labels\n",
        "\n",
        "print(\"Count in each label: \")\n",
        "print(labels.value_counts())"
      ],
      "metadata": {
        "colab": {
          "base_uri": "https://localhost:8080/"
        },
        "id": "IqqgnLHC944O",
        "outputId": "b8e7e713-22f6-4d1d-d9d8-2e973b206a77"
      },
      "execution_count": 9,
      "outputs": [
        {
          "output_type": "stream",
          "name": "stdout",
          "text": [
            "Count in each label: \n",
            "0    15000\n",
            "1    15000\n",
            "Name: 187, dtype: int64\n"
          ]
        }
      ]
    },
    {
      "cell_type": "code",
      "source": [
        "from xgboost import XGBRFClassifier\n",
        "from sklearn.model_selection import cross_val_score\n",
        "from sklearn.model_selection import RepeatedStratifiedKFold\n",
        "from numpy import std\n",
        "from numpy import mean"
      ],
      "metadata": {
        "id": "KVnq8oagOgj8"
      },
      "execution_count": 10,
      "outputs": []
    },
    {
      "cell_type": "code",
      "source": [
        "x=ptbdb.iloc[:, 1:-1].values\n",
        "y=ptbdb.iloc[:, -1].values\n",
        "# split into train test sets\n",
        "x_train, x_test, y_train, y_test = train_test_split(x, y, test_size=0.33)"
      ],
      "metadata": {
        "id": "tpCb2tqZ0zPz"
      },
      "execution_count": 11,
      "outputs": []
    },
    {
      "cell_type": "code",
      "source": [
        "dtrain = xgb.DMatrix(x_train, label=y_train)\n",
        "dtest = xgb.DMatrix(x_test, label=y_test)"
      ],
      "metadata": {
        "id": "o3HAFw5US5m9"
      },
      "execution_count": 12,
      "outputs": []
    },
    {
      "cell_type": "code",
      "source": [
        "param = {\n",
        "'max_depth': 5, # the maximum depth of each tree\n",
        "'eta': 0.3, # the training step for each iteration\n",
        "'silent': 1, # logging mode - quiet\n",
        "'objective': 'multi:softprob', # error evaluation for multiclass training\n",
        "'num_class': 5} # the number of classes that exist in this datset\n",
        "num_round = 200 # the number of training iterations\n"
      ],
      "metadata": {
        "id": "QKfT_yKFS8BA"
      },
      "execution_count": 13,
      "outputs": []
    },
    {
      "cell_type": "code",
      "source": [
        "bst = xgb.train(param, dtrain, num_round)"
      ],
      "metadata": {
        "id": "ixaSaNmeTAZg"
      },
      "execution_count": 14,
      "outputs": []
    },
    {
      "cell_type": "code",
      "source": [
        "# make prediction\n",
        "preds = bst.predict(dtest)\n",
        "preds_rounded = np.argmax(preds, axis=1)\n",
        "print(accuracy_score(y_test, preds_rounded))"
      ],
      "metadata": {
        "colab": {
          "base_uri": "https://localhost:8080/"
        },
        "id": "rQAu7_ejTBj2",
        "outputId": "23957a15-1954-4c1c-fa36-41e69a2bda3c"
      },
      "execution_count": 15,
      "outputs": [
        {
          "output_type": "stream",
          "name": "stdout",
          "text": [
            "0.9932323232323232\n"
          ]
        }
      ]
    },
    {
      "cell_type": "markdown",
      "source": [
        "LEARNING CURVE"
      ],
      "metadata": {
        "id": "zuwlSWCHVboI"
      }
    },
    {
      "cell_type": "code",
      "source": [
        "from numpy import loadtxt\n",
        "from xgboost import XGBClassifier\n",
        "from sklearn.model_selection import train_test_split\n",
        "from sklearn.metrics import accuracy_score\n",
        "from matplotlib import pyplot"
      ],
      "metadata": {
        "id": "RjBED3CTTCzL"
      },
      "execution_count": 16,
      "outputs": []
    },
    {
      "cell_type": "code",
      "source": [
        "# fit model on training data\n",
        "model = XGBClassifier()\n",
        "eval_set = [(x_train, y_train), (x_test, y_test)]\n",
        "model.fit(x_train, y_train, eval_metric=[\"error\", \"logloss\"], eval_set=eval_set,verbose=True)"
      ],
      "metadata": {
        "colab": {
          "base_uri": "https://localhost:8080/"
        },
        "id": "6k1mV9OMVfAq",
        "outputId": "cbaefe05-97ea-40da-d7d5-7405896e6c7b"
      },
      "execution_count": 18,
      "outputs": [
        {
          "output_type": "stream",
          "name": "stdout",
          "text": [
            "[0]\tvalidation_0-error:0.204129\tvalidation_0-logloss:0.655654\tvalidation_1-error:0.210606\tvalidation_1-logloss:0.656075\n",
            "[1]\tvalidation_0-error:0.195025\tvalidation_0-logloss:0.624031\tvalidation_1-error:0.202525\tvalidation_1-logloss:0.62481\n",
            "[2]\tvalidation_0-error:0.18995\tvalidation_0-logloss:0.597707\tvalidation_1-error:0.197475\tvalidation_1-logloss:0.599206\n",
            "[3]\tvalidation_0-error:0.193035\tvalidation_0-logloss:0.575001\tvalidation_1-error:0.199697\tvalidation_1-logloss:0.576851\n",
            "[4]\tvalidation_0-error:0.186119\tvalidation_0-logloss:0.555533\tvalidation_1-error:0.192626\tvalidation_1-logloss:0.557799\n",
            "[5]\tvalidation_0-error:0.186667\tvalidation_0-logloss:0.537452\tvalidation_1-error:0.192626\tvalidation_1-logloss:0.540417\n",
            "[6]\tvalidation_0-error:0.186617\tvalidation_0-logloss:0.522538\tvalidation_1-error:0.193131\tvalidation_1-logloss:0.525699\n",
            "[7]\tvalidation_0-error:0.185672\tvalidation_0-logloss:0.508629\tvalidation_1-error:0.192424\tvalidation_1-logloss:0.512201\n",
            "[8]\tvalidation_0-error:0.18602\tvalidation_0-logloss:0.496607\tvalidation_1-error:0.192727\tvalidation_1-logloss:0.500423\n",
            "[9]\tvalidation_0-error:0.17995\tvalidation_0-logloss:0.483198\tvalidation_1-error:0.187374\tvalidation_1-logloss:0.487453\n",
            "[10]\tvalidation_0-error:0.175721\tvalidation_0-logloss:0.473385\tvalidation_1-error:0.183131\tvalidation_1-logloss:0.478071\n",
            "[11]\tvalidation_0-error:0.170199\tvalidation_0-logloss:0.462204\tvalidation_1-error:0.177879\tvalidation_1-logloss:0.466809\n",
            "[12]\tvalidation_0-error:0.16995\tvalidation_0-logloss:0.454963\tvalidation_1-error:0.177172\tvalidation_1-logloss:0.459417\n",
            "[13]\tvalidation_0-error:0.169005\tvalidation_0-logloss:0.447652\tvalidation_1-error:0.175758\tvalidation_1-logloss:0.452309\n",
            "[14]\tvalidation_0-error:0.166866\tvalidation_0-logloss:0.438472\tvalidation_1-error:0.174949\tvalidation_1-logloss:0.443518\n",
            "[15]\tvalidation_0-error:0.163632\tvalidation_0-logloss:0.43248\tvalidation_1-error:0.172828\tvalidation_1-logloss:0.437798\n",
            "[16]\tvalidation_0-error:0.161194\tvalidation_0-logloss:0.423721\tvalidation_1-error:0.169596\tvalidation_1-logloss:0.429365\n",
            "[17]\tvalidation_0-error:0.159901\tvalidation_0-logloss:0.413585\tvalidation_1-error:0.166061\tvalidation_1-logloss:0.419358\n",
            "[18]\tvalidation_0-error:0.158706\tvalidation_0-logloss:0.409136\tvalidation_1-error:0.165556\tvalidation_1-logloss:0.41514\n",
            "[19]\tvalidation_0-error:0.157612\tvalidation_0-logloss:0.402271\tvalidation_1-error:0.164141\tvalidation_1-logloss:0.408553\n",
            "[20]\tvalidation_0-error:0.15607\tvalidation_0-logloss:0.394046\tvalidation_1-error:0.161313\tvalidation_1-logloss:0.400373\n",
            "[21]\tvalidation_0-error:0.156219\tvalidation_0-logloss:0.3906\tvalidation_1-error:0.161515\tvalidation_1-logloss:0.397062\n",
            "[22]\tvalidation_0-error:0.153483\tvalidation_0-logloss:0.38577\tvalidation_1-error:0.159192\tvalidation_1-logloss:0.392522\n",
            "[23]\tvalidation_0-error:0.153184\tvalidation_0-logloss:0.382657\tvalidation_1-error:0.158687\tvalidation_1-logloss:0.389436\n",
            "[24]\tvalidation_0-error:0.152935\tvalidation_0-logloss:0.377848\tvalidation_1-error:0.158384\tvalidation_1-logloss:0.384737\n",
            "[25]\tvalidation_0-error:0.149353\tvalidation_0-logloss:0.37268\tvalidation_1-error:0.157576\tvalidation_1-logloss:0.379652\n",
            "[26]\tvalidation_0-error:0.14806\tvalidation_0-logloss:0.367742\tvalidation_1-error:0.155657\tvalidation_1-logloss:0.375028\n",
            "[27]\tvalidation_0-error:0.14398\tvalidation_0-logloss:0.362439\tvalidation_1-error:0.151919\tvalidation_1-logloss:0.369815\n",
            "[28]\tvalidation_0-error:0.14403\tvalidation_0-logloss:0.35851\tvalidation_1-error:0.151212\tvalidation_1-logloss:0.365843\n",
            "[29]\tvalidation_0-error:0.143333\tvalidation_0-logloss:0.356043\tvalidation_1-error:0.150606\tvalidation_1-logloss:0.363442\n",
            "[30]\tvalidation_0-error:0.140348\tvalidation_0-logloss:0.351566\tvalidation_1-error:0.148788\tvalidation_1-logloss:0.359033\n",
            "[31]\tvalidation_0-error:0.138657\tvalidation_0-logloss:0.345692\tvalidation_1-error:0.146768\tvalidation_1-logloss:0.353468\n",
            "[32]\tvalidation_0-error:0.138657\tvalidation_0-logloss:0.343776\tvalidation_1-error:0.14596\tvalidation_1-logloss:0.351544\n",
            "[33]\tvalidation_0-error:0.137065\tvalidation_0-logloss:0.338351\tvalidation_1-error:0.143939\tvalidation_1-logloss:0.345832\n",
            "[34]\tvalidation_0-error:0.132886\tvalidation_0-logloss:0.335247\tvalidation_1-error:0.139697\tvalidation_1-logloss:0.342953\n",
            "[35]\tvalidation_0-error:0.132687\tvalidation_0-logloss:0.3332\tvalidation_1-error:0.140404\tvalidation_1-logloss:0.341\n",
            "[36]\tvalidation_0-error:0.132637\tvalidation_0-logloss:0.331571\tvalidation_1-error:0.140404\tvalidation_1-logloss:0.339316\n",
            "[37]\tvalidation_0-error:0.12801\tvalidation_0-logloss:0.326182\tvalidation_1-error:0.135657\tvalidation_1-logloss:0.334243\n",
            "[38]\tvalidation_0-error:0.125274\tvalidation_0-logloss:0.322056\tvalidation_1-error:0.132626\tvalidation_1-logloss:0.330275\n",
            "[39]\tvalidation_0-error:0.124328\tvalidation_0-logloss:0.319045\tvalidation_1-error:0.131111\tvalidation_1-logloss:0.327216\n",
            "[40]\tvalidation_0-error:0.123333\tvalidation_0-logloss:0.315809\tvalidation_1-error:0.130202\tvalidation_1-logloss:0.324002\n",
            "[41]\tvalidation_0-error:0.121343\tvalidation_0-logloss:0.310682\tvalidation_1-error:0.128687\tvalidation_1-logloss:0.319231\n",
            "[42]\tvalidation_0-error:0.119652\tvalidation_0-logloss:0.308022\tvalidation_1-error:0.127071\tvalidation_1-logloss:0.31686\n",
            "[43]\tvalidation_0-error:0.117114\tvalidation_0-logloss:0.304788\tvalidation_1-error:0.124242\tvalidation_1-logloss:0.313948\n",
            "[44]\tvalidation_0-error:0.11602\tvalidation_0-logloss:0.303299\tvalidation_1-error:0.123333\tvalidation_1-logloss:0.312611\n",
            "[45]\tvalidation_0-error:0.11393\tvalidation_0-logloss:0.299201\tvalidation_1-error:0.120404\tvalidation_1-logloss:0.308379\n",
            "[46]\tvalidation_0-error:0.112637\tvalidation_0-logloss:0.29641\tvalidation_1-error:0.119293\tvalidation_1-logloss:0.305875\n",
            "[47]\tvalidation_0-error:0.111294\tvalidation_0-logloss:0.293857\tvalidation_1-error:0.117071\tvalidation_1-logloss:0.303593\n",
            "[48]\tvalidation_0-error:0.10995\tvalidation_0-logloss:0.290991\tvalidation_1-error:0.116667\tvalidation_1-logloss:0.300856\n",
            "[49]\tvalidation_0-error:0.10791\tvalidation_0-logloss:0.289407\tvalidation_1-error:0.114646\tvalidation_1-logloss:0.299318\n",
            "[50]\tvalidation_0-error:0.107711\tvalidation_0-logloss:0.28766\tvalidation_1-error:0.114747\tvalidation_1-logloss:0.297636\n",
            "[51]\tvalidation_0-error:0.106667\tvalidation_0-logloss:0.284325\tvalidation_1-error:0.114141\tvalidation_1-logloss:0.294686\n",
            "[52]\tvalidation_0-error:0.103035\tvalidation_0-logloss:0.280042\tvalidation_1-error:0.111616\tvalidation_1-logloss:0.290838\n",
            "[53]\tvalidation_0-error:0.101642\tvalidation_0-logloss:0.277676\tvalidation_1-error:0.110202\tvalidation_1-logloss:0.288628\n",
            "[54]\tvalidation_0-error:0.100498\tvalidation_0-logloss:0.275\tvalidation_1-error:0.109293\tvalidation_1-logloss:0.28615\n",
            "[55]\tvalidation_0-error:0.099104\tvalidation_0-logloss:0.27312\tvalidation_1-error:0.106869\tvalidation_1-logloss:0.28423\n",
            "[56]\tvalidation_0-error:0.097114\tvalidation_0-logloss:0.271703\tvalidation_1-error:0.106162\tvalidation_1-logloss:0.2829\n",
            "[57]\tvalidation_0-error:0.096318\tvalidation_0-logloss:0.270193\tvalidation_1-error:0.105758\tvalidation_1-logloss:0.281689\n",
            "[58]\tvalidation_0-error:0.095224\tvalidation_0-logloss:0.269025\tvalidation_1-error:0.104545\tvalidation_1-logloss:0.280502\n",
            "[59]\tvalidation_0-error:0.094428\tvalidation_0-logloss:0.266719\tvalidation_1-error:0.104848\tvalidation_1-logloss:0.278191\n",
            "[60]\tvalidation_0-error:0.093184\tvalidation_0-logloss:0.264802\tvalidation_1-error:0.103333\tvalidation_1-logloss:0.276504\n",
            "[61]\tvalidation_0-error:0.092438\tvalidation_0-logloss:0.263384\tvalidation_1-error:0.102727\tvalidation_1-logloss:0.275179\n",
            "[62]\tvalidation_0-error:0.091741\tvalidation_0-logloss:0.260862\tvalidation_1-error:0.103232\tvalidation_1-logloss:0.272719\n",
            "[63]\tvalidation_0-error:0.090149\tvalidation_0-logloss:0.258406\tvalidation_1-error:0.100202\tvalidation_1-logloss:0.270444\n",
            "[64]\tvalidation_0-error:0.087711\tvalidation_0-logloss:0.256303\tvalidation_1-error:0.098788\tvalidation_1-logloss:0.268511\n",
            "[65]\tvalidation_0-error:0.087612\tvalidation_0-logloss:0.255308\tvalidation_1-error:0.098485\tvalidation_1-logloss:0.267479\n",
            "[66]\tvalidation_0-error:0.086517\tvalidation_0-logloss:0.252639\tvalidation_1-error:0.098081\tvalidation_1-logloss:0.265024\n",
            "[67]\tvalidation_0-error:0.085672\tvalidation_0-logloss:0.250687\tvalidation_1-error:0.097273\tvalidation_1-logloss:0.263092\n",
            "[68]\tvalidation_0-error:0.085721\tvalidation_0-logloss:0.24976\tvalidation_1-error:0.097172\tvalidation_1-logloss:0.262254\n",
            "[69]\tvalidation_0-error:0.08408\tvalidation_0-logloss:0.248568\tvalidation_1-error:0.095556\tvalidation_1-logloss:0.261172\n",
            "[70]\tvalidation_0-error:0.083234\tvalidation_0-logloss:0.246029\tvalidation_1-error:0.095354\tvalidation_1-logloss:0.258806\n",
            "[71]\tvalidation_0-error:0.082637\tvalidation_0-logloss:0.244408\tvalidation_1-error:0.094747\tvalidation_1-logloss:0.257243\n",
            "[72]\tvalidation_0-error:0.082488\tvalidation_0-logloss:0.243577\tvalidation_1-error:0.094646\tvalidation_1-logloss:0.256383\n",
            "[73]\tvalidation_0-error:0.081144\tvalidation_0-logloss:0.241913\tvalidation_1-error:0.094343\tvalidation_1-logloss:0.254956\n",
            "[74]\tvalidation_0-error:0.079254\tvalidation_0-logloss:0.239754\tvalidation_1-error:0.092323\tvalidation_1-logloss:0.252887\n",
            "[75]\tvalidation_0-error:0.078358\tvalidation_0-logloss:0.237626\tvalidation_1-error:0.091919\tvalidation_1-logloss:0.250821\n",
            "[76]\tvalidation_0-error:0.076965\tvalidation_0-logloss:0.235812\tvalidation_1-error:0.090404\tvalidation_1-logloss:0.248967\n",
            "[77]\tvalidation_0-error:0.076418\tvalidation_0-logloss:0.234725\tvalidation_1-error:0.08899\tvalidation_1-logloss:0.247797\n",
            "[78]\tvalidation_0-error:0.07607\tvalidation_0-logloss:0.233591\tvalidation_1-error:0.088182\tvalidation_1-logloss:0.246669\n",
            "[79]\tvalidation_0-error:0.076368\tvalidation_0-logloss:0.231944\tvalidation_1-error:0.088182\tvalidation_1-logloss:0.245273\n",
            "[80]\tvalidation_0-error:0.075323\tvalidation_0-logloss:0.229061\tvalidation_1-error:0.08798\tvalidation_1-logloss:0.242355\n",
            "[81]\tvalidation_0-error:0.073284\tvalidation_0-logloss:0.226716\tvalidation_1-error:0.08596\tvalidation_1-logloss:0.240203\n",
            "[82]\tvalidation_0-error:0.072537\tvalidation_0-logloss:0.224296\tvalidation_1-error:0.084747\tvalidation_1-logloss:0.237914\n",
            "[83]\tvalidation_0-error:0.070945\tvalidation_0-logloss:0.222322\tvalidation_1-error:0.08303\tvalidation_1-logloss:0.235954\n",
            "[84]\tvalidation_0-error:0.070647\tvalidation_0-logloss:0.220669\tvalidation_1-error:0.082727\tvalidation_1-logloss:0.234527\n",
            "[85]\tvalidation_0-error:0.0701\tvalidation_0-logloss:0.219351\tvalidation_1-error:0.081818\tvalidation_1-logloss:0.233407\n",
            "[86]\tvalidation_0-error:0.069204\tvalidation_0-logloss:0.218346\tvalidation_1-error:0.081212\tvalidation_1-logloss:0.232503\n",
            "[87]\tvalidation_0-error:0.068607\tvalidation_0-logloss:0.217034\tvalidation_1-error:0.080808\tvalidation_1-logloss:0.231135\n",
            "[88]\tvalidation_0-error:0.068458\tvalidation_0-logloss:0.216397\tvalidation_1-error:0.080101\tvalidation_1-logloss:0.230453\n",
            "[89]\tvalidation_0-error:0.068507\tvalidation_0-logloss:0.215467\tvalidation_1-error:0.080303\tvalidation_1-logloss:0.229666\n",
            "[90]\tvalidation_0-error:0.06801\tvalidation_0-logloss:0.213917\tvalidation_1-error:0.080202\tvalidation_1-logloss:0.228182\n",
            "[91]\tvalidation_0-error:0.066915\tvalidation_0-logloss:0.212653\tvalidation_1-error:0.078788\tvalidation_1-logloss:0.226886\n",
            "[92]\tvalidation_0-error:0.066468\tvalidation_0-logloss:0.210616\tvalidation_1-error:0.078889\tvalidation_1-logloss:0.224662\n",
            "[93]\tvalidation_0-error:0.065572\tvalidation_0-logloss:0.208939\tvalidation_1-error:0.076465\tvalidation_1-logloss:0.223278\n",
            "[94]\tvalidation_0-error:0.065124\tvalidation_0-logloss:0.208141\tvalidation_1-error:0.076263\tvalidation_1-logloss:0.222578\n",
            "[95]\tvalidation_0-error:0.064328\tvalidation_0-logloss:0.206264\tvalidation_1-error:0.075859\tvalidation_1-logloss:0.220709\n",
            "[96]\tvalidation_0-error:0.064279\tvalidation_0-logloss:0.205706\tvalidation_1-error:0.075657\tvalidation_1-logloss:0.220158\n",
            "[97]\tvalidation_0-error:0.063383\tvalidation_0-logloss:0.204103\tvalidation_1-error:0.074141\tvalidation_1-logloss:0.218502\n",
            "[98]\tvalidation_0-error:0.06209\tvalidation_0-logloss:0.202505\tvalidation_1-error:0.073333\tvalidation_1-logloss:0.217014\n",
            "[99]\tvalidation_0-error:0.061294\tvalidation_0-logloss:0.201253\tvalidation_1-error:0.072222\tvalidation_1-logloss:0.215813\n"
          ]
        },
        {
          "output_type": "execute_result",
          "data": {
            "text/plain": [
              "XGBClassifier()"
            ]
          },
          "metadata": {},
          "execution_count": 18
        }
      ]
    },
    {
      "cell_type": "code",
      "source": [
        "# make predictions for test data\n",
        "predictions = model.predict(x_test)"
      ],
      "metadata": {
        "id": "FjWIQ3nKWH9y"
      },
      "execution_count": 19,
      "outputs": []
    },
    {
      "cell_type": "code",
      "source": [
        "# evaluate predictions\n",
        "accuracy = accuracy_score(y_test, predictions)"
      ],
      "metadata": {
        "id": "bKHhqWy3WKGM"
      },
      "execution_count": 20,
      "outputs": []
    },
    {
      "cell_type": "code",
      "source": [
        "# retrieve performance metrics\n",
        "results = model.evals_result()\n",
        "epochs = len(results['validation_0']['error'])\n",
        "x_axis = range(0, epochs)"
      ],
      "metadata": {
        "id": "ybStIEo4WLrI"
      },
      "execution_count": 21,
      "outputs": []
    },
    {
      "cell_type": "code",
      "source": [
        "# plot log loss\n",
        "fig, ax = pyplot.subplots()\n",
        "ax.plot(x_axis, results['validation_0']['logloss'], label='Train')\n",
        "ax.plot(x_axis, results['validation_1']['logloss'], label='Test')\n",
        "ax.legend()\n",
        "pyplot.ylabel('Log Loss')\n",
        "pyplot.title('XGBoost Log Loss')\n",
        "pyplot.show()"
      ],
      "metadata": {
        "colab": {
          "base_uri": "https://localhost:8080/",
          "height": 281
        },
        "id": "zuaHQQisWLoU",
        "outputId": "8667fad3-0522-40f7-d303-0fdea6b2c1df"
      },
      "execution_count": 22,
      "outputs": [
        {
          "output_type": "display_data",
          "data": {
            "text/plain": [
              "<Figure size 432x288 with 1 Axes>"
            ],
            "image/png": "[encoded data removed]"
          },
          "metadata": {
            "needs_background": "light"
          }
        }
      ]
    },
    {
      "cell_type": "code",
      "source": [
        "# plot classification error\n",
        "fig, ax = pyplot.subplots()\n",
        "ax.plot(x_axis, results['validation_0']['error'], label='Train')\n",
        "ax.plot(x_axis, results['validation_1']['error'], label='Test')\n",
        "ax.legend()\n",
        "pyplot.ylabel('Classification Error')\n",
        "pyplot.title('XGBoost Classification Error')\n",
        "pyplot.show()"
      ],
      "metadata": {
        "colab": {
          "base_uri": "https://localhost:8080/",
          "height": 281
        },
        "id": "DaWVqxHUWLmd",
        "outputId": "85af6b09-300e-43f7-9400-ae19b2338480"
      },
      "execution_count": 23,
      "outputs": [
        {
          "output_type": "display_data",
          "data": {
            "text/plain": [
              "<Figure size 432x288 with 1 Axes>"
            ],
            "image/png": "[encoded data removed]"
          },
          "metadata": {
            "needs_background": "light"
          }
        }
      ]
    }
  ]
}