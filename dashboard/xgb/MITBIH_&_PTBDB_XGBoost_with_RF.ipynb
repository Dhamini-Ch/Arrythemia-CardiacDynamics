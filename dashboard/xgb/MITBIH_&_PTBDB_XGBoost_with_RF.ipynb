{
  "nbformat": 4,
  "nbformat_minor": 0,
  "metadata": {
    "colab": {
      "name": "MITBIH & PTBDB-XGBoost with RF.ipynb",
      "provenance": [],
      "collapsed_sections": []
    },
    "kernelspec": {
      "name": "python3",
      "display_name": "Python 3"
    },
    "language_info": {
      "name": "python"
    }
  },
  "cells": [
    {
      "cell_type": "code",
      "source": [
        "import pandas as pd\n",
        "import xgboost as xgb\n",
        "from sklearn.datasets import load_breast_cancer\n",
        "from sklearn.model_selection import train_test_split\n",
        "from sklearn.metrics import accuracy_score\n",
        "import numpy as np"
      ],
      "metadata": {
        "id": "wxkXH3Gv9V1A"
      },
      "execution_count": 1,
      "outputs": []
    },
    {
      "cell_type": "code",
      "source": [
        "train=pd.read_csv(\"/content/drive/MyDrive/NEW GMAIL ACC RELATED/mitbih_train.csv\", header=None)\n",
        "test=pd.read_csv(\"/content/drive/MyDrive/NEW GMAIL ACC RELATED/mitbih_test.csv\", header=None)\n",
        "abnormal=pd.read_csv(\"/content/drive/MyDrive/NEW GMAIL ACC RELATED/ptbdb_abnormal.csv\", header=None)\n",
        "normal=pd.read_csv(\"/content/drive/MyDrive/NEW GMAIL ACC RELATED/ptbdb_normal.csv\", header=None)"
      ],
      "metadata": {
        "id": "dYJZXmdF9Yhz"
      },
      "execution_count": 2,
      "outputs": []
    },
    {
      "cell_type": "code",
      "source": [
        "abnormal[187]=5\n",
        "normal[187]=6"
      ],
      "metadata": {
        "id": "RY0sCh063S4s"
      },
      "execution_count": 4,
      "outputs": []
    },
    {
      "cell_type": "code",
      "source": [
        "merged_data=pd.concat([train, test, abnormal, normal])"
      ],
      "metadata": {
        "id": "MxUH73QI2DSI"
      },
      "execution_count": 6,
      "outputs": []
    },
    {
      "cell_type": "code",
      "source": [
        "#Finding the outliers\n",
        "continous_features =   merged_data[187].unique()\n",
        "def outliers(df_out, drop = False):\n",
        "    for each_feature in df_out.columns:\n",
        "        feature_data = df_out[each_feature]\n",
        "        Q1 = np.percentile(feature_data, 25.) # 25th percentile of the data of the given feature\n",
        "        Q3 = np.percentile(feature_data, 75.) # 75th percentile of the data of the given feature\n",
        "        IQR = Q3-Q1 \n",
        "        outlier_step = IQR * 1.5 \n",
        "        outliers = feature_data[~((feature_data >= Q1 - outlier_step) & (feature_data <= Q3 + outlier_step))].index.tolist()  \n",
        "        if not drop:\n",
        "            print('For the feature {}, No of Outliers is {}'.format(each_feature, len(outliers)))\n",
        "        if drop:\n",
        "            merged_data.drop(outliers, inplace = True, errors = 'ignore')\n",
        "            print('Outliers from {} feature removed'.format(each_feature))\n",
        "outliers(merged_data[continous_features])"
      ],
      "metadata": {
        "colab": {
          "base_uri": "https://localhost:8080/"
        },
        "id": "bOCpKdcx9mnB",
        "outputId": "48aa65cd-9c80-4f6f-8388-540255c02285"
      },
      "execution_count": 7,
      "outputs": [
        {
          "output_type": "stream",
          "name": "stdout",
          "text": [
            "For the feature 0, No of Outliers is 16238\n",
            "For the feature 1, No of Outliers is 6857\n",
            "For the feature 2, No of Outliers is 0\n",
            "For the feature 3, No of Outliers is 3244\n",
            "For the feature 4, No of Outliers is 9434\n",
            "For the feature 5, No of Outliers is 5969\n",
            "For the feature 6, No of Outliers is 4627\n"
          ]
        }
      ]
    },
    {
      "cell_type": "code",
      "source": [
        "#Removing the outliers\n",
        "outliers(merged_data[continous_features], drop=True)"
      ],
      "metadata": {
        "colab": {
          "base_uri": "https://localhost:8080/"
        },
        "id": "aeBEID0f90ft",
        "outputId": "8576d72b-391b-4ad5-d250-8f9965d693c9"
      },
      "execution_count": 8,
      "outputs": [
        {
          "output_type": "stream",
          "name": "stdout",
          "text": [
            "Outliers from 0 feature removed\n",
            "Outliers from 1 feature removed\n",
            "Outliers from 2 feature removed\n",
            "Outliers from 3 feature removed\n",
            "Outliers from 4 feature removed\n",
            "Outliers from 5 feature removed\n",
            "Outliers from 6 feature removed\n"
          ]
        }
      ]
    },
    {
      "cell_type": "code",
      "source": [
        "import numpy as np\n",
        "import pandas as pd\n",
        "from sklearn.metrics import f1_score, confusion_matrix\n",
        "from sklearn.utils import resample\n",
        "import random\n",
        "import matplotlib.pyplot as plt\n",
        "import seaborn as sns\n",
        "merged_data_lbl0 = resample(merged_data[merged_data[187]==0], replace=True, n_samples=15000, random_state=113)\n",
        "merged_data_lbl1 = resample(merged_data[merged_data[187]==1], replace=True, n_samples=15000, random_state=113)\n",
        "merged_data_lbl2 = resample(merged_data[merged_data[187]==2], replace=True, n_samples=15000, random_state=113)\n",
        "merged_data_lbl3 = resample(merged_data[merged_data[187]==3], replace=True, n_samples=15000, random_state=113)\n",
        "merged_data_lbl4 = resample(merged_data[merged_data[187]==4], replace=True, n_samples=15000, random_state=113)"
      ],
      "metadata": {
        "id": "r14Pigpm921T"
      },
      "execution_count": 9,
      "outputs": []
    },
    {
      "cell_type": "code",
      "source": [
        "merged_data= pd.concat([merged_data_lbl0, merged_data_lbl1, merged_data_lbl2, merged_data_lbl3, merged_data_lbl4])\n",
        "\n",
        "labels = merged_data[187].astype('int64')   # last column has the labels\n",
        "\n",
        "print(\"Count in each label: \")\n",
        "print(labels.value_counts())"
      ],
      "metadata": {
        "colab": {
          "base_uri": "https://localhost:8080/"
        },
        "id": "IqqgnLHC944O",
        "outputId": "03e7c58e-614a-4fd0-905a-036b21a1b60a"
      },
      "execution_count": 10,
      "outputs": [
        {
          "output_type": "stream",
          "name": "stdout",
          "text": [
            "Count in each label: \n",
            "0    15000\n",
            "1    15000\n",
            "2    15000\n",
            "3    15000\n",
            "4    15000\n",
            "Name: 187, dtype: int64\n"
          ]
        }
      ]
    },
    {
      "cell_type": "code",
      "source": [
        "from xgboost import XGBRFClassifier\n",
        "from sklearn.model_selection import cross_val_score\n",
        "from sklearn.model_selection import RepeatedStratifiedKFold\n",
        "from numpy import std\n",
        "from numpy import mean"
      ],
      "metadata": {
        "id": "KVnq8oagOgj8"
      },
      "execution_count": 11,
      "outputs": []
    },
    {
      "cell_type": "code",
      "source": [
        "x=merged_data.iloc[:, 1:-1].values\n",
        "y=merged_data.iloc[:, -1].values\n",
        "# split into train test sets\n",
        "x_train, x_test, y_train, y_test = train_test_split(x, y, test_size=0.33)"
      ],
      "metadata": {
        "id": "66wfRSq52vBQ"
      },
      "execution_count": 12,
      "outputs": []
    },
    {
      "cell_type": "code",
      "source": [
        "dtrain = xgb.DMatrix(x_train, label=y_train)\n",
        "dtest = xgb.DMatrix(x_test, label=y_test)"
      ],
      "metadata": {
        "id": "o3HAFw5US5m9"
      },
      "execution_count": 13,
      "outputs": []
    },
    {
      "cell_type": "code",
      "source": [
        "param = {\n",
        "'max_depth': 5, # the maximum depth of each tree\n",
        "'eta': 0.3, # the training step for each iteration\n",
        "'silent': 1, # logging mode - quiet\n",
        "'objective': 'multi:softprob', # error evaluation for multiclass training\n",
        "'num_class': 7} # the number of classes that exist in this datset\n",
        "num_round = 200 # the number of training iterations\n"
      ],
      "metadata": {
        "id": "QKfT_yKFS8BA"
      },
      "execution_count": 14,
      "outputs": []
    },
    {
      "cell_type": "code",
      "source": [
        "bst = xgb.train(param, dtrain, num_round)"
      ],
      "metadata": {
        "id": "ixaSaNmeTAZg"
      },
      "execution_count": 15,
      "outputs": []
    },
    {
      "cell_type": "code",
      "source": [
        "# make prediction\n",
        "preds = bst.predict(dtest)\n",
        "preds_rounded = np.argmax(preds, axis=1)\n",
        "print(accuracy_score(y_test, preds_rounded))"
      ],
      "metadata": {
        "colab": {
          "base_uri": "https://localhost:8080/"
        },
        "id": "rQAu7_ejTBj2",
        "outputId": "a8428619-740c-4219-9c4e-32a1ae67c795"
      },
      "execution_count": 16,
      "outputs": [
        {
          "output_type": "stream",
          "name": "stdout",
          "text": [
            "0.9942626262626263\n"
          ]
        }
      ]
    },
    {
      "cell_type": "markdown",
      "source": [
        "LEARNING CURVE"
      ],
      "metadata": {
        "id": "zuwlSWCHVboI"
      }
    },
    {
      "cell_type": "code",
      "source": [
        "from numpy import loadtxt\n",
        "from xgboost import XGBClassifier\n",
        "from sklearn.model_selection import train_test_split\n",
        "from sklearn.metrics import accuracy_score\n",
        "from matplotlib import pyplot"
      ],
      "metadata": {
        "id": "RjBED3CTTCzL"
      },
      "execution_count": 17,
      "outputs": []
    },
    {
      "cell_type": "code",
      "source": [
        "# fit model on training data\n",
        "model = XGBClassifier()\n",
        "eval_set = [(x_train, y_train), (x_test, y_test)]\n",
        "model.fit(x_train, y_train, eval_metric=[\"merror\", \"mlogloss\"], eval_set=eval_set,verbose=True)"
      ],
      "metadata": {
        "colab": {
          "base_uri": "https://localhost:8080/"
        },
        "id": "6k1mV9OMVfAq",
        "outputId": "6a2699d9-dd1f-4b54-a371-08e25af0ad81"
      },
      "execution_count": 18,
      "outputs": [
        {
          "output_type": "stream",
          "name": "stdout",
          "text": [
            "[0]\tvalidation_0-merror:0.225353\tvalidation_0-mlogloss:1.47577\tvalidation_1-merror:0.227596\tvalidation_1-mlogloss:1.47673\n",
            "[1]\tvalidation_0-merror:0.214905\tvalidation_0-mlogloss:1.36644\tvalidation_1-merror:0.21503\tvalidation_1-mlogloss:1.36803\n",
            "[2]\tvalidation_0-merror:0.207841\tvalidation_0-mlogloss:1.27524\tvalidation_1-merror:0.211475\tvalidation_1-mlogloss:1.27787\n",
            "[3]\tvalidation_0-merror:0.202587\tvalidation_0-mlogloss:1.19458\tvalidation_1-merror:0.205576\tvalidation_1-mlogloss:1.19778\n",
            "[4]\tvalidation_0-merror:0.199303\tvalidation_0-mlogloss:1.1248\tvalidation_1-merror:0.202182\tvalidation_1-mlogloss:1.12863\n",
            "[5]\tvalidation_0-merror:0.193711\tvalidation_0-mlogloss:1.06258\tvalidation_1-merror:0.197697\tvalidation_1-mlogloss:1.06713\n",
            "[6]\tvalidation_0-merror:0.191821\tvalidation_0-mlogloss:1.00821\tvalidation_1-merror:0.19499\tvalidation_1-mlogloss:1.01319\n",
            "[7]\tvalidation_0-merror:0.189851\tvalidation_0-mlogloss:0.959742\tvalidation_1-merror:0.192929\tvalidation_1-mlogloss:0.96472\n",
            "[8]\tvalidation_0-merror:0.188915\tvalidation_0-mlogloss:0.91604\tvalidation_1-merror:0.192808\tvalidation_1-mlogloss:0.921232\n",
            "[9]\tvalidation_0-merror:0.186169\tvalidation_0-mlogloss:0.876207\tvalidation_1-merror:0.19002\tvalidation_1-mlogloss:0.881669\n",
            "[10]\tvalidation_0-merror:0.184756\tvalidation_0-mlogloss:0.841101\tvalidation_1-merror:0.188808\tvalidation_1-mlogloss:0.846714\n",
            "[11]\tvalidation_0-merror:0.183164\tvalidation_0-mlogloss:0.808029\tvalidation_1-merror:0.186909\tvalidation_1-mlogloss:0.813874\n",
            "[12]\tvalidation_0-merror:0.182627\tvalidation_0-mlogloss:0.778306\tvalidation_1-merror:0.187152\tvalidation_1-mlogloss:0.784495\n",
            "[13]\tvalidation_0-merror:0.178587\tvalidation_0-mlogloss:0.750652\tvalidation_1-merror:0.18303\tvalidation_1-mlogloss:0.756982\n",
            "[14]\tvalidation_0-merror:0.176896\tvalidation_0-mlogloss:0.724849\tvalidation_1-merror:0.180889\tvalidation_1-mlogloss:0.731389\n",
            "[15]\tvalidation_0-merror:0.17604\tvalidation_0-mlogloss:0.701947\tvalidation_1-merror:0.180242\tvalidation_1-mlogloss:0.708781\n",
            "[16]\tvalidation_0-merror:0.174488\tvalidation_0-mlogloss:0.679973\tvalidation_1-merror:0.178747\tvalidation_1-mlogloss:0.68683\n",
            "[17]\tvalidation_0-merror:0.171721\tvalidation_0-mlogloss:0.660422\tvalidation_1-merror:0.175717\tvalidation_1-mlogloss:0.667605\n",
            "[18]\tvalidation_0-merror:0.169274\tvalidation_0-mlogloss:0.64114\tvalidation_1-merror:0.172727\tvalidation_1-mlogloss:0.648429\n",
            "[19]\tvalidation_0-merror:0.167662\tvalidation_0-mlogloss:0.623514\tvalidation_1-merror:0.170343\tvalidation_1-mlogloss:0.631011\n",
            "[20]\tvalidation_0-merror:0.166328\tvalidation_0-mlogloss:0.607742\tvalidation_1-merror:0.16901\tvalidation_1-mlogloss:0.615602\n",
            "[21]\tvalidation_0-merror:0.164617\tvalidation_0-mlogloss:0.592432\tvalidation_1-merror:0.16699\tvalidation_1-mlogloss:0.600718\n",
            "[22]\tvalidation_0-merror:0.162687\tvalidation_0-mlogloss:0.578565\tvalidation_1-merror:0.165414\tvalidation_1-mlogloss:0.586949\n",
            "[23]\tvalidation_0-merror:0.160358\tvalidation_0-mlogloss:0.565855\tvalidation_1-merror:0.162949\tvalidation_1-mlogloss:0.574396\n",
            "[24]\tvalidation_0-merror:0.159104\tvalidation_0-mlogloss:0.553657\tvalidation_1-merror:0.163111\tvalidation_1-mlogloss:0.562462\n",
            "[25]\tvalidation_0-merror:0.157791\tvalidation_0-mlogloss:0.542337\tvalidation_1-merror:0.161212\tvalidation_1-mlogloss:0.551349\n",
            "[26]\tvalidation_0-merror:0.15594\tvalidation_0-mlogloss:0.530906\tvalidation_1-merror:0.159313\tvalidation_1-mlogloss:0.540207\n",
            "[27]\tvalidation_0-merror:0.154129\tvalidation_0-mlogloss:0.52065\tvalidation_1-merror:0.157657\tvalidation_1-mlogloss:0.530155\n",
            "[28]\tvalidation_0-merror:0.153234\tvalidation_0-mlogloss:0.511111\tvalidation_1-merror:0.157131\tvalidation_1-mlogloss:0.520745\n",
            "[29]\tvalidation_0-merror:0.150985\tvalidation_0-mlogloss:0.501692\tvalidation_1-merror:0.155313\tvalidation_1-mlogloss:0.511387\n",
            "[30]\tvalidation_0-merror:0.148577\tvalidation_0-mlogloss:0.492635\tvalidation_1-merror:0.153212\tvalidation_1-mlogloss:0.502449\n",
            "[31]\tvalidation_0-merror:0.146846\tvalidation_0-mlogloss:0.483764\tvalidation_1-merror:0.152\tvalidation_1-mlogloss:0.49386\n",
            "[32]\tvalidation_0-merror:0.14603\tvalidation_0-mlogloss:0.475639\tvalidation_1-merror:0.151475\tvalidation_1-mlogloss:0.485876\n",
            "[33]\tvalidation_0-merror:0.143284\tvalidation_0-mlogloss:0.468183\tvalidation_1-merror:0.148485\tvalidation_1-mlogloss:0.478464\n",
            "[34]\tvalidation_0-merror:0.142169\tvalidation_0-mlogloss:0.460787\tvalidation_1-merror:0.14796\tvalidation_1-mlogloss:0.471109\n",
            "[35]\tvalidation_0-merror:0.140896\tvalidation_0-mlogloss:0.454346\tvalidation_1-merror:0.145778\tvalidation_1-mlogloss:0.464783\n",
            "[36]\tvalidation_0-merror:0.138448\tvalidation_0-mlogloss:0.447426\tvalidation_1-merror:0.143717\tvalidation_1-mlogloss:0.45786\n",
            "[37]\tvalidation_0-merror:0.137532\tvalidation_0-mlogloss:0.440697\tvalidation_1-merror:0.142465\tvalidation_1-mlogloss:0.451336\n",
            "[38]\tvalidation_0-merror:0.136876\tvalidation_0-mlogloss:0.434788\tvalidation_1-merror:0.141737\tvalidation_1-mlogloss:0.445548\n",
            "[39]\tvalidation_0-merror:0.134786\tvalidation_0-mlogloss:0.429135\tvalidation_1-merror:0.139758\tvalidation_1-mlogloss:0.439995\n",
            "[40]\tvalidation_0-merror:0.13399\tvalidation_0-mlogloss:0.42361\tvalidation_1-merror:0.138586\tvalidation_1-mlogloss:0.434548\n",
            "[41]\tvalidation_0-merror:0.132478\tvalidation_0-mlogloss:0.418319\tvalidation_1-merror:0.136889\tvalidation_1-mlogloss:0.429264\n",
            "[42]\tvalidation_0-merror:0.131383\tvalidation_0-mlogloss:0.413449\tvalidation_1-merror:0.136283\tvalidation_1-mlogloss:0.42449\n",
            "[43]\tvalidation_0-merror:0.13009\tvalidation_0-mlogloss:0.408875\tvalidation_1-merror:0.134909\tvalidation_1-mlogloss:0.419938\n",
            "[44]\tvalidation_0-merror:0.127741\tvalidation_0-mlogloss:0.403446\tvalidation_1-merror:0.132121\tvalidation_1-mlogloss:0.414648\n",
            "[45]\tvalidation_0-merror:0.126109\tvalidation_0-mlogloss:0.399067\tvalidation_1-merror:0.130182\tvalidation_1-mlogloss:0.410428\n",
            "[46]\tvalidation_0-merror:0.125512\tvalidation_0-mlogloss:0.395275\tvalidation_1-merror:0.129091\tvalidation_1-mlogloss:0.406777\n",
            "[47]\tvalidation_0-merror:0.12402\tvalidation_0-mlogloss:0.390923\tvalidation_1-merror:0.127394\tvalidation_1-mlogloss:0.40258\n",
            "[48]\tvalidation_0-merror:0.122488\tvalidation_0-mlogloss:0.387037\tvalidation_1-merror:0.126222\tvalidation_1-mlogloss:0.398736\n",
            "[49]\tvalidation_0-merror:0.12201\tvalidation_0-mlogloss:0.383718\tvalidation_1-merror:0.126343\tvalidation_1-mlogloss:0.395388\n",
            "[50]\tvalidation_0-merror:0.120915\tvalidation_0-mlogloss:0.380358\tvalidation_1-merror:0.125495\tvalidation_1-mlogloss:0.392221\n",
            "[51]\tvalidation_0-merror:0.119204\tvalidation_0-mlogloss:0.376943\tvalidation_1-merror:0.123919\tvalidation_1-mlogloss:0.38894\n",
            "[52]\tvalidation_0-merror:0.118308\tvalidation_0-mlogloss:0.374061\tvalidation_1-merror:0.123111\tvalidation_1-mlogloss:0.385961\n",
            "[53]\tvalidation_0-merror:0.116597\tvalidation_0-mlogloss:0.371209\tvalidation_1-merror:0.121495\tvalidation_1-mlogloss:0.383252\n",
            "[54]\tvalidation_0-merror:0.115622\tvalidation_0-mlogloss:0.368606\tvalidation_1-merror:0.120283\tvalidation_1-mlogloss:0.380619\n",
            "[55]\tvalidation_0-merror:0.113652\tvalidation_0-mlogloss:0.364943\tvalidation_1-merror:0.118141\tvalidation_1-mlogloss:0.376961\n",
            "[56]\tvalidation_0-merror:0.112657\tvalidation_0-mlogloss:0.362096\tvalidation_1-merror:0.117616\tvalidation_1-mlogloss:0.374159\n",
            "[57]\tvalidation_0-merror:0.112219\tvalidation_0-mlogloss:0.359187\tvalidation_1-merror:0.11697\tvalidation_1-mlogloss:0.371271\n",
            "[58]\tvalidation_0-merror:0.112119\tvalidation_0-mlogloss:0.356493\tvalidation_1-merror:0.11697\tvalidation_1-mlogloss:0.368637\n",
            "[59]\tvalidation_0-merror:0.110687\tvalidation_0-mlogloss:0.353416\tvalidation_1-merror:0.115758\tvalidation_1-mlogloss:0.365641\n",
            "[60]\tvalidation_0-merror:0.110587\tvalidation_0-mlogloss:0.351197\tvalidation_1-merror:0.115556\tvalidation_1-mlogloss:0.363332\n",
            "[61]\tvalidation_0-merror:0.109612\tvalidation_0-mlogloss:0.348505\tvalidation_1-merror:0.114828\tvalidation_1-mlogloss:0.360624\n",
            "[62]\tvalidation_0-merror:0.108776\tvalidation_0-mlogloss:0.34614\tvalidation_1-merror:0.113899\tvalidation_1-mlogloss:0.35832\n",
            "[63]\tvalidation_0-merror:0.107483\tvalidation_0-mlogloss:0.343616\tvalidation_1-merror:0.11297\tvalidation_1-mlogloss:0.355886\n",
            "[64]\tvalidation_0-merror:0.107502\tvalidation_0-mlogloss:0.340459\tvalidation_1-merror:0.11297\tvalidation_1-mlogloss:0.352728\n",
            "[65]\tvalidation_0-merror:0.10603\tvalidation_0-mlogloss:0.338173\tvalidation_1-merror:0.111313\tvalidation_1-mlogloss:0.350437\n",
            "[66]\tvalidation_0-merror:0.10603\tvalidation_0-mlogloss:0.33639\tvalidation_1-merror:0.111273\tvalidation_1-mlogloss:0.348777\n",
            "[67]\tvalidation_0-merror:0.105393\tvalidation_0-mlogloss:0.333955\tvalidation_1-merror:0.110828\tvalidation_1-mlogloss:0.346178\n",
            "[68]\tvalidation_0-merror:0.105075\tvalidation_0-mlogloss:0.33176\tvalidation_1-merror:0.110384\tvalidation_1-mlogloss:0.34396\n",
            "[69]\tvalidation_0-merror:0.104\tvalidation_0-mlogloss:0.329775\tvalidation_1-merror:0.109495\tvalidation_1-mlogloss:0.342036\n",
            "[70]\tvalidation_0-merror:0.104\tvalidation_0-mlogloss:0.326825\tvalidation_1-merror:0.109333\tvalidation_1-mlogloss:0.339185\n",
            "[71]\tvalidation_0-merror:0.102368\tvalidation_0-mlogloss:0.324579\tvalidation_1-merror:0.108202\tvalidation_1-mlogloss:0.337084\n",
            "[72]\tvalidation_0-merror:0.101174\tvalidation_0-mlogloss:0.322728\tvalidation_1-merror:0.107232\tvalidation_1-mlogloss:0.335262\n",
            "[73]\tvalidation_0-merror:0.100398\tvalidation_0-mlogloss:0.320231\tvalidation_1-merror:0.106141\tvalidation_1-mlogloss:0.332791\n",
            "[74]\tvalidation_0-merror:0.098985\tvalidation_0-mlogloss:0.318276\tvalidation_1-merror:0.104646\tvalidation_1-mlogloss:0.330864\n",
            "[75]\tvalidation_0-merror:0.098965\tvalidation_0-mlogloss:0.316401\tvalidation_1-merror:0.10404\tvalidation_1-mlogloss:0.329017\n",
            "[76]\tvalidation_0-merror:0.098607\tvalidation_0-mlogloss:0.314266\tvalidation_1-merror:0.104\tvalidation_1-mlogloss:0.327079\n",
            "[77]\tvalidation_0-merror:0.09795\tvalidation_0-mlogloss:0.311817\tvalidation_1-merror:0.103192\tvalidation_1-mlogloss:0.324475\n",
            "[78]\tvalidation_0-merror:0.097294\tvalidation_0-mlogloss:0.309534\tvalidation_1-merror:0.102788\tvalidation_1-mlogloss:0.322254\n",
            "[79]\tvalidation_0-merror:0.096736\tvalidation_0-mlogloss:0.307559\tvalidation_1-merror:0.102303\tvalidation_1-mlogloss:0.320243\n",
            "[80]\tvalidation_0-merror:0.09592\tvalidation_0-mlogloss:0.305339\tvalidation_1-merror:0.101778\tvalidation_1-mlogloss:0.318099\n",
            "[81]\tvalidation_0-merror:0.093791\tvalidation_0-mlogloss:0.302823\tvalidation_1-merror:0.099354\tvalidation_1-mlogloss:0.315606\n",
            "[82]\tvalidation_0-merror:0.093532\tvalidation_0-mlogloss:0.301035\tvalidation_1-merror:0.099071\tvalidation_1-mlogloss:0.313811\n",
            "[83]\tvalidation_0-merror:0.093055\tvalidation_0-mlogloss:0.299286\tvalidation_1-merror:0.098909\tvalidation_1-mlogloss:0.31211\n",
            "[84]\tvalidation_0-merror:0.092259\tvalidation_0-mlogloss:0.297329\tvalidation_1-merror:0.097737\tvalidation_1-mlogloss:0.310217\n",
            "[85]\tvalidation_0-merror:0.091801\tvalidation_0-mlogloss:0.295608\tvalidation_1-merror:0.09701\tvalidation_1-mlogloss:0.308538\n",
            "[86]\tvalidation_0-merror:0.090507\tvalidation_0-mlogloss:0.294142\tvalidation_1-merror:0.096242\tvalidation_1-mlogloss:0.307044\n",
            "[87]\tvalidation_0-merror:0.089373\tvalidation_0-mlogloss:0.292218\tvalidation_1-merror:0.095273\tvalidation_1-mlogloss:0.305133\n",
            "[88]\tvalidation_0-merror:0.088736\tvalidation_0-mlogloss:0.290174\tvalidation_1-merror:0.09499\tvalidation_1-mlogloss:0.30308\n",
            "[89]\tvalidation_0-merror:0.087582\tvalidation_0-mlogloss:0.288431\tvalidation_1-merror:0.093899\tvalidation_1-mlogloss:0.301432\n",
            "[90]\tvalidation_0-merror:0.087761\tvalidation_0-mlogloss:0.287258\tvalidation_1-merror:0.093697\tvalidation_1-mlogloss:0.300247\n",
            "[91]\tvalidation_0-merror:0.086846\tvalidation_0-mlogloss:0.28559\tvalidation_1-merror:0.093414\tvalidation_1-mlogloss:0.298574\n",
            "[92]\tvalidation_0-merror:0.086547\tvalidation_0-mlogloss:0.283597\tvalidation_1-merror:0.092929\tvalidation_1-mlogloss:0.296588\n",
            "[93]\tvalidation_0-merror:0.086209\tvalidation_0-mlogloss:0.28163\tvalidation_1-merror:0.092768\tvalidation_1-mlogloss:0.294627\n",
            "[94]\tvalidation_0-merror:0.08591\tvalidation_0-mlogloss:0.28023\tvalidation_1-merror:0.092485\tvalidation_1-mlogloss:0.293227\n",
            "[95]\tvalidation_0-merror:0.085413\tvalidation_0-mlogloss:0.278813\tvalidation_1-merror:0.091596\tvalidation_1-mlogloss:0.291757\n",
            "[96]\tvalidation_0-merror:0.084398\tvalidation_0-mlogloss:0.277323\tvalidation_1-merror:0.090626\tvalidation_1-mlogloss:0.29029\n",
            "[97]\tvalidation_0-merror:0.08402\tvalidation_0-mlogloss:0.275035\tvalidation_1-merror:0.089899\tvalidation_1-mlogloss:0.287992\n",
            "[98]\tvalidation_0-merror:0.083582\tvalidation_0-mlogloss:0.273616\tvalidation_1-merror:0.089414\tvalidation_1-mlogloss:0.286597\n",
            "[99]\tvalidation_0-merror:0.082368\tvalidation_0-mlogloss:0.272042\tvalidation_1-merror:0.088566\tvalidation_1-mlogloss:0.285074\n"
          ]
        },
        {
          "output_type": "execute_result",
          "data": {
            "text/plain": [
              "XGBClassifier(objective='multi:softprob')"
            ]
          },
          "metadata": {},
          "execution_count": 18
        }
      ]
    },
    {
      "cell_type": "code",
      "source": [
        "# make predictions for test data\n",
        "predictions = model.predict(x_test)"
      ],
      "metadata": {
        "id": "FjWIQ3nKWH9y"
      },
      "execution_count": 19,
      "outputs": []
    },
    {
      "cell_type": "code",
      "source": [
        "# evaluate predictions\n",
        "accuracy = accuracy_score(y_test, predictions)"
      ],
      "metadata": {
        "id": "bKHhqWy3WKGM"
      },
      "execution_count": 20,
      "outputs": []
    },
    {
      "cell_type": "code",
      "source": [
        "# retrieve performance metrics\n",
        "results = model.evals_result()\n",
        "epochs = len(results['validation_0']['merror'])\n",
        "x_axis = range(0, epochs)"
      ],
      "metadata": {
        "id": "ybStIEo4WLrI"
      },
      "execution_count": 21,
      "outputs": []
    },
    {
      "cell_type": "code",
      "source": [
        "# plot log loss\n",
        "fig, ax = pyplot.subplots()\n",
        "ax.plot(x_axis, results['validation_0']['mlogloss'], label='Train')\n",
        "ax.plot(x_axis, results['validation_1']['mlogloss'], label='Test')\n",
        "ax.legend()\n",
        "pyplot.ylabel('Log Loss')\n",
        "pyplot.title('XGBoost Log Loss')\n",
        "pyplot.show()"
      ],
      "metadata": {
        "colab": {
          "base_uri": "https://localhost:8080/",
          "height": 281
        },
        "id": "zuaHQQisWLoU",
        "outputId": "371faaca-0783-4ccf-ceb1-3d29dda6413d"
      },
      "execution_count": 22,
      "outputs": [
        {
          "output_type": "display_data",
          "data": {
            "text/plain": [
              "<Figure size 432x288 with 1 Axes>"
            ],
            "image/png": "[encoded data removed]"
          },
          "metadata": {
            "needs_background": "light"
          }
        }
      ]
    },
    {
      "cell_type": "code",
      "source": [
        "# plot classification error\n",
        "fig, ax = pyplot.subplots()\n",
        "ax.plot(x_axis, results['validation_0']['merror'], label='Train')\n",
        "ax.plot(x_axis, results['validation_1']['merror'], label='Test')\n",
        "ax.legend()\n",
        "pyplot.ylabel('Classification Error')\n",
        "pyplot.title('XGBoost Classification Error')\n",
        "pyplot.show()"
      ],
      "metadata": {
        "colab": {
          "base_uri": "https://localhost:8080/",
          "height": 281
        },
        "id": "DaWVqxHUWLmd",
        "outputId": "6096cfa5-e550-440c-fdd1-48a03c27e513"
      },
      "execution_count": 23,
      "outputs": [
        {
          "output_type": "display_data",
          "data": {
            "text/plain": [
              "<Figure size 432x288 with 1 Axes>"
            ],
            "image/png": "[encoded data removed]"
          },
          "metadata": {
            "needs_background": "light"
          }
        }
      ]
    }
  ]
}