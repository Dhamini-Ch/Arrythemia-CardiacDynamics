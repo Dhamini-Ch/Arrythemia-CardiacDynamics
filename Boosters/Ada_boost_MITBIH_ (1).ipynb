{
  "cells": [
    {
      "cell_type": "code",
      "source": [
        "from google.colab import drive\n",
        "drive.mount('/content/drive')"
      ],
      "metadata": {
        "colab": {
          "base_uri": "https://localhost:8080/"
        },
        "id": "RawB2GktBQFs",
        "outputId": "95071a99-e605-4577-cb24-20fde61743a9"
      },
      "id": "RawB2GktBQFs",
      "execution_count": null,
      "outputs": [
        {
          "output_type": "stream",
          "name": "stdout",
          "text": [
            "Mounted at /content/drive\n"
          ]
        }
      ]
    },
    {
      "cell_type": "code",
      "execution_count": null,
      "id": "789a890b",
      "metadata": {
        "id": "789a890b"
      },
      "outputs": [],
      "source": [
        "#Importing the libraries\n",
        "import pandas as pd\n",
        "import numpy as np\n",
        "import matplotlib.pyplot as plt"
      ]
    },
    {
      "cell_type": "code",
      "execution_count": null,
      "id": "8e88669c",
      "metadata": {
        "id": "8e88669c"
      },
      "outputs": [],
      "source": [
        "#Loading the ptbdb dats set\n",
        "test  = pd.read_csv(\"/content/drive/My Drive/Colab Notebooks/datafiles/mitbih_test.csv\", header=None)\n",
        "train = pd.read_csv(\"/content/drive/My Drive/Colab Notebooks/datafiles/mitbih_train.csv\", header=None)"
      ]
    },
    {
      "cell_type": "code",
      "source": [
        "test.shape"
      ],
      "metadata": {
        "colab": {
          "base_uri": "https://localhost:8080/"
        },
        "id": "I7cTqUEsmQ8j",
        "outputId": "76a8204b-1045-4101-bdf7-c6323967fe17"
      },
      "id": "I7cTqUEsmQ8j",
      "execution_count": null,
      "outputs": [
        {
          "output_type": "execute_result",
          "data": {
            "text/plain": [
              "(21892, 188)"
            ]
          },
          "metadata": {},
          "execution_count": 3
        }
      ]
    },
    {
      "cell_type": "code",
      "source": [
        "train.shape"
      ],
      "metadata": {
        "colab": {
          "base_uri": "https://localhost:8080/"
        },
        "id": "vcF-nZb2mt3o",
        "outputId": "b8400f4a-05e2-48e4-9ed9-ffbff19db6d0"
      },
      "id": "vcF-nZb2mt3o",
      "execution_count": null,
      "outputs": [
        {
          "output_type": "execute_result",
          "data": {
            "text/plain": [
              "(87554, 188)"
            ]
          },
          "metadata": {},
          "execution_count": 4
        }
      ]
    },
    {
      "cell_type": "code",
      "execution_count": null,
      "id": "686783d3",
      "metadata": {
        "colab": {
          "base_uri": "https://localhost:8080/"
        },
        "id": "686783d3",
        "outputId": "c0b2ab21-6f0e-44ae-b6e3-f2bf1577ac5f"
      },
      "outputs": [
        {
          "output_type": "execute_result",
          "data": {
            "text/plain": [
              "array([0., 1., 2., 3., 4.])"
            ]
          },
          "metadata": {},
          "execution_count": 5
        }
      ],
      "source": [
        "#Finding the number of classes in the datset\n",
        "train[187].unique()"
      ]
    },
    {
      "cell_type": "code",
      "source": [
        "import numpy as np\n",
        "import pandas as pd\n",
        "from sklearn.metrics import f1_score, confusion_matrix\n",
        "from sklearn.utils import resample\n",
        "import random\n",
        "import matplotlib.pyplot as plt\n",
        "import seaborn as sns\n",
        "train_lbl0 = resample(train[train[187]==0], replace=True, n_samples=15000, random_state=113)\n",
        "train_lbl1 = resample(train[train[187]==1], replace=True, n_samples=15000, random_state=113)\n",
        "train_lbl2 = resample(train[train[187]==2], replace=True, n_samples=15000, random_state=113)\n",
        "train_lbl3 = resample(train[train[187]==3], replace=True, n_samples=15000, random_state=113)\n",
        "train_lbl4 = resample(train[train[187]==4], replace=True, n_samples=15000, random_state=113)"
      ],
      "metadata": {
        "id": "zUZi0RknJFra"
      },
      "id": "zUZi0RknJFra",
      "execution_count": null,
      "outputs": []
    },
    {
      "cell_type": "code",
      "source": [
        "train= pd.concat([train_lbl0, train_lbl1, train_lbl2, train_lbl3, train_lbl4])\n",
        "labels = train[187].astype('int64')   # last column has the labels\n",
        "\n",
        "print(\"Count in each label: \")\n",
        "print(labels.value_counts())"
      ],
      "metadata": {
        "colab": {
          "base_uri": "https://localhost:8080/"
        },
        "id": "eWGV_DhrJFn2",
        "outputId": "a5916587-8ad4-4ce3-fe58-021720149b5c"
      },
      "id": "eWGV_DhrJFn2",
      "execution_count": null,
      "outputs": [
        {
          "output_type": "stream",
          "name": "stdout",
          "text": [
            "Count in each label: \n",
            "0    15000\n",
            "1    15000\n",
            "2    15000\n",
            "3    15000\n",
            "4    15000\n",
            "Name: 187, dtype: int64\n"
          ]
        }
      ]
    },
    {
      "cell_type": "code",
      "source": [
        "# #Fining the outliers\n",
        "# continous_features =   train[187].unique()\n",
        "# def outliers(df_out, drop = False):\n",
        "#     for each_feature in df_out.columns:\n",
        "#         feature_data = df_out[each_feature]\n",
        "#         Q1 = np.percentile(feature_data, 25.) # 25th percentile of the data of the given feature\n",
        "#         Q3 = np.percentile(feature_data, 75.) # 75th percentile of the data of the given feature\n",
        "#         IQR = Q3-Q1 \n",
        "#         outlier_step = IQR * 1.5 \n",
        "#         outliers = feature_data[~((feature_data >= Q1 - outlier_step) & (feature_data <= Q3 + outlier_step))].index.tolist()  \n",
        "#         if not drop:\n",
        "#             print('For the feature {}, No of Outliers is {}'.format(each_feature, len(outliers)))\n",
        "#         if drop:\n",
        "#             train.drop(outliers, inplace = True, errors = 'ignore')\n",
        "#             print('Outliers from {} feature removed'.format(each_feature))\n",
        "# outliers(train[continous_features])"
      ],
      "metadata": {
        "id": "91S4cNbGJFlI"
      },
      "id": "91S4cNbGJFlI",
      "execution_count": null,
      "outputs": []
    },
    {
      "cell_type": "code",
      "source": [
        "# #Removing the outliers\n",
        "# outliers(train[continous_features], drop=True)"
      ],
      "metadata": {
        "id": "5akZftn2JFiR"
      },
      "id": "5akZftn2JFiR",
      "execution_count": null,
      "outputs": []
    },
    {
      "cell_type": "code",
      "source": [
        "# #Fining the outliers\n",
        "# continous_features =   test[187].unique()\n",
        "# def outliers(df_out, drop = False):\n",
        "#     for each_feature in df_out.columns:\n",
        "#         feature_data = df_out[each_feature]\n",
        "#         Q1 = np.percentile(feature_data, 25.) # 25th percentile of the data of the given feature\n",
        "#         Q3 = np.percentile(feature_data, 75.) # 75th percentile of the data of the given feature\n",
        "#         IQR = Q3-Q1 \n",
        "#         outlier_step = IQR * 1.5 \n",
        "#         outliers = feature_data[~((feature_data >= Q1 - outlier_step) & (feature_data <= Q3 + outlier_step))].index.tolist()  \n",
        "#         if not drop:\n",
        "#             print('For the feature {}, No of Outliers is {}'.format(each_feature, len(outliers)))\n",
        "#         if drop:\n",
        "#             test.drop(outliers, inplace = True, errors = 'ignore')\n",
        "#             print('Outliers from {} feature removed'.format(each_feature))\n",
        "# outliers(test[continous_features])"
      ],
      "metadata": {
        "id": "8pW8mfelJFgP"
      },
      "id": "8pW8mfelJFgP",
      "execution_count": null,
      "outputs": []
    },
    {
      "cell_type": "code",
      "source": [
        "# #Removing the outliers\n",
        "# outliers(test[continous_features], drop=True)"
      ],
      "metadata": {
        "id": "kvrWElXHJPdw"
      },
      "id": "kvrWElXHJPdw",
      "execution_count": null,
      "outputs": []
    },
    {
      "cell_type": "code",
      "execution_count": null,
      "id": "b19b23fc",
      "metadata": {
        "id": "b19b23fc"
      },
      "outputs": [],
      "source": [
        "#Feature Scaling\n",
        "x_train = train.iloc[:, :-1].values\n",
        "y_train = train.iloc[:, -1].values"
      ]
    },
    {
      "cell_type": "code",
      "execution_count": null,
      "id": "4b346f79",
      "metadata": {
        "id": "4b346f79"
      },
      "outputs": [],
      "source": [
        "#Feature Scaling\n",
        "x_test = test.iloc[:, :-1].values\n",
        "y_test = test.iloc[:, -1].values"
      ]
    },
    {
      "cell_type": "code",
      "execution_count": null,
      "id": "41ad9ad5",
      "metadata": {
        "colab": {
          "base_uri": "https://localhost:8080/"
        },
        "id": "41ad9ad5",
        "outputId": "d32ea70c-b362-4e88-8cf3-5c3afdbd942d"
      },
      "outputs": [
        {
          "output_type": "execute_result",
          "data": {
            "text/plain": [
              "(21892, 187)"
            ]
          },
          "metadata": {},
          "execution_count": 14
        }
      ],
      "source": [
        "#Dimminsion of the dataset\n",
        "x_test.shape"
      ]
    },
    {
      "cell_type": "code",
      "execution_count": null,
      "id": "b3cfe3c0",
      "metadata": {
        "colab": {
          "base_uri": "https://localhost:8080/"
        },
        "id": "b3cfe3c0",
        "outputId": "72ea333e-20af-4b7b-d383-43a04572db81"
      },
      "outputs": [
        {
          "output_type": "execute_result",
          "data": {
            "text/plain": [
              "(21892,)"
            ]
          },
          "metadata": {},
          "execution_count": 15
        }
      ],
      "source": [
        "#Diminsion of the dataset\n",
        "y_test.shape"
      ]
    },
    {
      "cell_type": "markdown",
      "source": [
        "## **AdaBoost**"
      ],
      "metadata": {
        "id": "KzwxAyuprQ_O"
      },
      "id": "KzwxAyuprQ_O"
    },
    {
      "cell_type": "code",
      "source": [
        "from sklearn.ensemble import RandomForestClassifier\n",
        "from sklearn.ensemble import AdaBoostClassifier\n",
        "\n",
        "\n",
        "max_estimators = 100\n",
        "ada_boost = AdaBoostClassifier(RandomForestClassifier(max_depth = 1, # Just a stump.\n",
        "                                      random_state = np.random.RandomState(0)),\n",
        "                               n_estimators = max_estimators,\n",
        "                               random_state = np.random.RandomState(0))\n",
        "\n",
        "# Fit all estimators.\n",
        "ada_boost.fit(x_train, y_train)\n"
      ],
      "metadata": {
        "id": "Gl8-fdmVqJrS",
        "colab": {
          "base_uri": "https://localhost:8080/"
        },
        "outputId": "a5752b8a-8f31-42c1-be6b-c8da9e57a0c2"
      },
      "id": "Gl8-fdmVqJrS",
      "execution_count": null,
      "outputs": [
        {
          "output_type": "execute_result",
          "data": {
            "text/plain": [
              "AdaBoostClassifier(base_estimator=RandomForestClassifier(max_depth=1,\n",
              "                                                         random_state=RandomState(MT19937) at 0x7F09ECEEE490),\n",
              "                   n_estimators=100,\n",
              "                   random_state=RandomState(MT19937) at 0x7F09ECEEE8D0)"
            ]
          },
          "metadata": {},
          "execution_count": 16
        }
      ]
    },
    {
      "cell_type": "code",
      "source": [
        "ada_boost.score(x_test, y_test)"
      ],
      "metadata": {
        "colab": {
          "base_uri": "https://localhost:8080/"
        },
        "id": "G8tiz71GoylF",
        "outputId": "0b832a71-d25b-4d0c-e4a4-eebe864251c5"
      },
      "id": "G8tiz71GoylF",
      "execution_count": null,
      "outputs": [
        {
          "output_type": "execute_result",
          "data": {
            "text/plain": [
              "0.5853736524757902"
            ]
          },
          "metadata": {},
          "execution_count": 17
        }
      ]
    },
    {
      "cell_type": "code",
      "source": [
        ""
      ],
      "metadata": {
        "id": "RZu3-oyYJ7Vt"
      },
      "id": "RZu3-oyYJ7Vt",
      "execution_count": null,
      "outputs": []
    }
  ],
  "metadata": {
    "kernelspec": {
      "display_name": "Python 3 (ipykernel)",
      "language": "python",
      "name": "python3"
    },
    "language_info": {
      "codemirror_mode": {
        "name": "ipython",
        "version": 3
      },
      "file_extension": ".py",
      "mimetype": "text/x-python",
      "name": "python",
      "nbconvert_exporter": "python",
      "pygments_lexer": "ipython3",
      "version": "3.9.7"
    },
    "colab": {
      "name": " Ada boost_MITBIH .ipynb",
      "provenance": [],
      "collapsed_sections": []
    },
    "accelerator": "TPU"
  },
  "nbformat": 4,
  "nbformat_minor": 5
}