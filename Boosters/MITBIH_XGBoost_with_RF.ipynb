{
  "nbformat": 4,
  "nbformat_minor": 0,
  "metadata": {
    "colab": {
      "name": "MITBIH-XGBoost with RF.ipynb",
      "provenance": [],
      "collapsed_sections": []
    },
    "kernelspec": {
      "name": "python3",
      "display_name": "Python 3"
    },
    "language_info": {
      "name": "python"
    }
  },
  "cells": [
    {
      "cell_type": "code",
      "source": [
        "import pandas as pd\n",
        "import xgboost as xgb\n",
        "from sklearn.datasets import load_breast_cancer\n",
        "from sklearn.model_selection import train_test_split\n",
        "from sklearn.metrics import accuracy_score\n",
        "import numpy as np"
      ],
      "metadata": {
        "id": "wxkXH3Gv9V1A"
      },
      "execution_count": 1,
      "outputs": []
    },
    {
      "cell_type": "code",
      "source": [
        "train=pd.read_csv(\"/content/drive/MyDrive/NEW GMAIL ACC RELATED/mitbih_train.csv\", header=None)\n",
        "test=pd.read_csv(\"/content/drive/MyDrive/NEW GMAIL ACC RELATED/mitbih_test.csv\", header=None)"
      ],
      "metadata": {
        "id": "dYJZXmdF9Yhz"
      },
      "execution_count": 2,
      "outputs": []
    },
    {
      "cell_type": "code",
      "source": [
        "#Finding the outliers\n",
        "continous_features =   train[187].unique()\n",
        "def outliers(df_out, drop = False):\n",
        "    for each_feature in df_out.columns:\n",
        "        feature_data = df_out[each_feature]\n",
        "        Q1 = np.percentile(feature_data, 25.) # 25th percentile of the data of the given feature\n",
        "        Q3 = np.percentile(feature_data, 75.) # 75th percentile of the data of the given feature\n",
        "        IQR = Q3-Q1 \n",
        "        outlier_step = IQR * 1.5 \n",
        "        outliers = feature_data[~((feature_data >= Q1 - outlier_step) & (feature_data <= Q3 + outlier_step))].index.tolist()  \n",
        "        if not drop:\n",
        "            print('For the feature {}, No of Outliers is {}'.format(each_feature, len(outliers)))\n",
        "        if drop:\n",
        "            train.drop(outliers, inplace = True, errors = 'ignore')\n",
        "            print('Outliers from {} feature removed'.format(each_feature))\n",
        "outliers(train[continous_features])"
      ],
      "metadata": {
        "colab": {
          "base_uri": "https://localhost:8080/"
        },
        "id": "bOCpKdcx9mnB",
        "outputId": "7b84cbbd-f508-4ba5-b0f2-edb270b01953"
      },
      "execution_count": 3,
      "outputs": [
        {
          "output_type": "stream",
          "name": "stdout",
          "text": [
            "For the feature 0, No of Outliers is 12161\n",
            "For the feature 1, No of Outliers is 5575\n",
            "For the feature 2, No of Outliers is 0\n",
            "For the feature 3, No of Outliers is 1786\n",
            "For the feature 4, No of Outliers is 6596\n"
          ]
        }
      ]
    },
    {
      "cell_type": "code",
      "source": [
        "#Removing the outliers\n",
        "outliers(train[continous_features], drop=True)"
      ],
      "metadata": {
        "colab": {
          "base_uri": "https://localhost:8080/"
        },
        "id": "aeBEID0f90ft",
        "outputId": "9bf0f0bc-df8f-4e08-edd9-eb414d88016c"
      },
      "execution_count": 4,
      "outputs": [
        {
          "output_type": "stream",
          "name": "stdout",
          "text": [
            "Outliers from 0 feature removed\n",
            "Outliers from 1 feature removed\n",
            "Outliers from 2 feature removed\n",
            "Outliers from 3 feature removed\n",
            "Outliers from 4 feature removed\n"
          ]
        }
      ]
    },
    {
      "cell_type": "code",
      "source": [
        "import numpy as np\n",
        "import pandas as pd\n",
        "from sklearn.metrics import f1_score, confusion_matrix\n",
        "from sklearn.utils import resample\n",
        "import random\n",
        "import matplotlib.pyplot as plt\n",
        "import seaborn as sns\n",
        "train_lbl0 = resample(train[train[187]==0], replace=True, n_samples=15000, random_state=113)\n",
        "train_lbl1 = resample(train[train[187]==1], replace=True, n_samples=15000, random_state=113)\n",
        "train_lbl2 = resample(train[train[187]==2], replace=True, n_samples=15000, random_state=113)\n",
        "train_lbl3 = resample(train[train[187]==3], replace=True, n_samples=15000, random_state=113)\n",
        "train_lbl4 = resample(train[train[187]==4], replace=True, n_samples=15000, random_state=113)"
      ],
      "metadata": {
        "id": "r14Pigpm921T"
      },
      "execution_count": 5,
      "outputs": []
    },
    {
      "cell_type": "code",
      "source": [
        "train= pd.concat([train_lbl0, train_lbl1, train_lbl2, train_lbl3, train_lbl4])\n",
        "\n",
        "labels = train[187].astype('int64')   # last column has the labels\n",
        "\n",
        "print(\"Count in each label: \")\n",
        "print(labels.value_counts())"
      ],
      "metadata": {
        "colab": {
          "base_uri": "https://localhost:8080/"
        },
        "id": "IqqgnLHC944O",
        "outputId": "b386fe6b-e4da-42c2-bdf0-603fd1d00ad5"
      },
      "execution_count": 6,
      "outputs": [
        {
          "output_type": "stream",
          "name": "stdout",
          "text": [
            "Count in each label: \n",
            "0    15000\n",
            "1    15000\n",
            "2    15000\n",
            "3    15000\n",
            "4    15000\n",
            "Name: 187, dtype: int64\n"
          ]
        }
      ]
    },
    {
      "cell_type": "code",
      "source": [
        "from xgboost import XGBRFClassifier\n",
        "from sklearn.model_selection import cross_val_score\n",
        "from sklearn.model_selection import RepeatedStratifiedKFold\n",
        "from numpy import std\n",
        "from numpy import mean"
      ],
      "metadata": {
        "id": "KVnq8oagOgj8"
      },
      "execution_count": 7,
      "outputs": []
    },
    {
      "cell_type": "code",
      "source": [
        "x_train = train.iloc[:, 1:-1].values\n",
        "y_train = train.iloc[:, -1].values"
      ],
      "metadata": {
        "id": "6aQ4DXBLQEvU"
      },
      "execution_count": 8,
      "outputs": []
    },
    {
      "cell_type": "code",
      "source": [
        "x_test = test.iloc[:, 1:-1].values\n",
        "y_test = test.iloc[:, -1].values"
      ],
      "metadata": {
        "id": "YZUnYxVrSjDl"
      },
      "execution_count": 9,
      "outputs": []
    },
    {
      "cell_type": "code",
      "source": [
        "dtrain = xgb.DMatrix(x_train, label=y_train)\n",
        "dtest = xgb.DMatrix(x_test, label=y_test)"
      ],
      "metadata": {
        "id": "o3HAFw5US5m9"
      },
      "execution_count": 10,
      "outputs": []
    },
    {
      "cell_type": "code",
      "source": [
        "param = {\n",
        "'max_depth': 5, # the maximum depth of each tree\n",
        "'eta': 0.3, # the training step for each iteration\n",
        "'silent': 1, # logging mode - quiet\n",
        "'objective': 'multi:softprob', # error evaluation for multiclass training\n",
        "'num_class': 5} # the number of classes that exist in this datset\n",
        "num_round = 200 # the number of training iterations\n"
      ],
      "metadata": {
        "id": "QKfT_yKFS8BA"
      },
      "execution_count": 11,
      "outputs": []
    },
    {
      "cell_type": "code",
      "source": [
        "bst = xgb.train(param, dtrain, num_round)"
      ],
      "metadata": {
        "id": "ixaSaNmeTAZg"
      },
      "execution_count": 12,
      "outputs": []
    },
    {
      "cell_type": "code",
      "source": [
        "# make prediction\n",
        "preds = bst.predict(dtest)\n",
        "preds_rounded = np.argmax(preds, axis=1)\n",
        "print(accuracy_score(y_test, preds_rounded))"
      ],
      "metadata": {
        "colab": {
          "base_uri": "https://localhost:8080/"
        },
        "id": "rQAu7_ejTBj2",
        "outputId": "9d9a57bc-bb82-488f-aad5-0fa4e0539686"
      },
      "execution_count": 13,
      "outputs": [
        {
          "output_type": "stream",
          "name": "stdout",
          "text": [
            "0.9354101955052074\n"
          ]
        }
      ]
    },
    {
      "cell_type": "markdown",
      "source": [
        "LEARNING CURVE"
      ],
      "metadata": {
        "id": "zuwlSWCHVboI"
      }
    },
    {
      "cell_type": "code",
      "source": [
        "from numpy import loadtxt\n",
        "from xgboost import XGBClassifier\n",
        "from sklearn.model_selection import train_test_split\n",
        "from sklearn.metrics import accuracy_score\n",
        "from matplotlib import pyplot"
      ],
      "metadata": {
        "id": "RjBED3CTTCzL"
      },
      "execution_count": 14,
      "outputs": []
    },
    {
      "cell_type": "code",
      "source": [
        "# fit model on training data\n",
        "model = XGBClassifier()\n",
        "eval_set = [(x_train, y_train), (x_test, y_test)]\n",
        "model.fit(x_train, y_train, eval_metric=[\"merror\", \"mlogloss\"], eval_set=eval_set,verbose=True)"
      ],
      "metadata": {
        "colab": {
          "base_uri": "https://localhost:8080/"
        },
        "id": "6k1mV9OMVfAq",
        "outputId": "d89c9a6e-38cb-4c01-d869-031e3509cd11"
      },
      "execution_count": 18,
      "outputs": [
        {
          "output_type": "stream",
          "name": "stdout",
          "text": [
            "[0]\tvalidation_0-merror:0.2292\tvalidation_0-mlogloss:1.47519\tvalidation_1-merror:0.448703\tvalidation_1-mlogloss:1.53219\n",
            "[1]\tvalidation_0-merror:0.21592\tvalidation_0-mlogloss:1.36648\tvalidation_1-merror:0.444866\tvalidation_1-mlogloss:1.46807\n",
            "[2]\tvalidation_0-merror:0.2078\tvalidation_0-mlogloss:1.275\tvalidation_1-merror:0.427508\tvalidation_1-mlogloss:1.41116\n",
            "[3]\tvalidation_0-merror:0.199067\tvalidation_0-mlogloss:1.19281\tvalidation_1-merror:0.433446\tvalidation_1-mlogloss:1.35483\n",
            "[4]\tvalidation_0-merror:0.199347\tvalidation_0-mlogloss:1.12248\tvalidation_1-merror:0.432898\tvalidation_1-mlogloss:1.31245\n",
            "[5]\tvalidation_0-merror:0.194573\tvalidation_0-mlogloss:1.05956\tvalidation_1-merror:0.427462\tvalidation_1-mlogloss:1.26936\n",
            "[6]\tvalidation_0-merror:0.191373\tvalidation_0-mlogloss:1.00414\tvalidation_1-merror:0.407363\tvalidation_1-mlogloss:1.23334\n",
            "[7]\tvalidation_0-merror:0.18776\tvalidation_0-mlogloss:0.95559\tvalidation_1-merror:0.406313\tvalidation_1-mlogloss:1.2029\n",
            "[8]\tvalidation_0-merror:0.188987\tvalidation_0-mlogloss:0.910931\tvalidation_1-merror:0.405628\tvalidation_1-mlogloss:1.17433\n",
            "[9]\tvalidation_0-merror:0.18752\tvalidation_0-mlogloss:0.871202\tvalidation_1-merror:0.406404\tvalidation_1-mlogloss:1.14862\n",
            "[10]\tvalidation_0-merror:0.181293\tvalidation_0-mlogloss:0.835202\tvalidation_1-merror:0.360314\tvalidation_1-mlogloss:1.12588\n",
            "[11]\tvalidation_0-merror:0.178733\tvalidation_0-mlogloss:0.803253\tvalidation_1-merror:0.365933\tvalidation_1-mlogloss:1.10496\n",
            "[12]\tvalidation_0-merror:0.17948\tvalidation_0-mlogloss:0.772692\tvalidation_1-merror:0.351316\tvalidation_1-mlogloss:1.08299\n",
            "[13]\tvalidation_0-merror:0.174707\tvalidation_0-mlogloss:0.744973\tvalidation_1-merror:0.345103\tvalidation_1-mlogloss:1.06103\n",
            "[14]\tvalidation_0-merror:0.17268\tvalidation_0-mlogloss:0.719632\tvalidation_1-merror:0.341266\tvalidation_1-mlogloss:1.04356\n",
            "[15]\tvalidation_0-merror:0.172013\tvalidation_0-mlogloss:0.695889\tvalidation_1-merror:0.344601\tvalidation_1-mlogloss:1.02723\n",
            "[16]\tvalidation_0-merror:0.168627\tvalidation_0-mlogloss:0.674204\tvalidation_1-merror:0.341358\tvalidation_1-mlogloss:1.00864\n",
            "[17]\tvalidation_0-merror:0.165933\tvalidation_0-mlogloss:0.65409\tvalidation_1-merror:0.335556\tvalidation_1-mlogloss:0.994464\n",
            "[18]\tvalidation_0-merror:0.164427\tvalidation_0-mlogloss:0.635785\tvalidation_1-merror:0.335328\tvalidation_1-mlogloss:0.982646\n",
            "[19]\tvalidation_0-merror:0.163067\tvalidation_0-mlogloss:0.618633\tvalidation_1-merror:0.333684\tvalidation_1-mlogloss:0.967823\n",
            "[20]\tvalidation_0-merror:0.162653\tvalidation_0-mlogloss:0.602942\tvalidation_1-merror:0.332039\tvalidation_1-mlogloss:0.956377\n",
            "[21]\tvalidation_0-merror:0.160267\tvalidation_0-mlogloss:0.587655\tvalidation_1-merror:0.330943\tvalidation_1-mlogloss:0.943728\n",
            "[22]\tvalidation_0-merror:0.158533\tvalidation_0-mlogloss:0.574216\tvalidation_1-merror:0.327654\tvalidation_1-mlogloss:0.929647\n",
            "[23]\tvalidation_0-merror:0.155427\tvalidation_0-mlogloss:0.561247\tvalidation_1-merror:0.324776\tvalidation_1-mlogloss:0.912983\n",
            "[24]\tvalidation_0-merror:0.154133\tvalidation_0-mlogloss:0.549164\tvalidation_1-merror:0.322035\tvalidation_1-mlogloss:0.900651\n",
            "[25]\tvalidation_0-merror:0.152627\tvalidation_0-mlogloss:0.537451\tvalidation_1-merror:0.314681\tvalidation_1-mlogloss:0.889692\n",
            "[26]\tvalidation_0-merror:0.15116\tvalidation_0-mlogloss:0.526735\tvalidation_1-merror:0.309337\tvalidation_1-mlogloss:0.881077\n",
            "[27]\tvalidation_0-merror:0.149973\tvalidation_0-mlogloss:0.516369\tvalidation_1-merror:0.311255\tvalidation_1-mlogloss:0.871909\n",
            "[28]\tvalidation_0-merror:0.14636\tvalidation_0-mlogloss:0.506705\tvalidation_1-merror:0.30381\tvalidation_1-mlogloss:0.859128\n",
            "[29]\tvalidation_0-merror:0.1446\tvalidation_0-mlogloss:0.497635\tvalidation_1-merror:0.307007\tvalidation_1-mlogloss:0.851605\n",
            "[30]\tvalidation_0-merror:0.143187\tvalidation_0-mlogloss:0.488618\tvalidation_1-merror:0.303718\tvalidation_1-mlogloss:0.841174\n",
            "[31]\tvalidation_0-merror:0.141693\tvalidation_0-mlogloss:0.48029\tvalidation_1-merror:0.29915\tvalidation_1-mlogloss:0.832529\n",
            "[32]\tvalidation_0-merror:0.14096\tvalidation_0-mlogloss:0.472682\tvalidation_1-merror:0.29947\tvalidation_1-mlogloss:0.82784\n",
            "[33]\tvalidation_0-merror:0.138693\tvalidation_0-mlogloss:0.465032\tvalidation_1-merror:0.295496\tvalidation_1-mlogloss:0.821655\n",
            "[34]\tvalidation_0-merror:0.13656\tvalidation_0-mlogloss:0.458423\tvalidation_1-merror:0.294948\tvalidation_1-mlogloss:0.813587\n",
            "[35]\tvalidation_0-merror:0.135787\tvalidation_0-mlogloss:0.451425\tvalidation_1-merror:0.292116\tvalidation_1-mlogloss:0.803721\n",
            "[36]\tvalidation_0-merror:0.134667\tvalidation_0-mlogloss:0.445133\tvalidation_1-merror:0.290471\tvalidation_1-mlogloss:0.797657\n",
            "[37]\tvalidation_0-merror:0.133533\tvalidation_0-mlogloss:0.439206\tvalidation_1-merror:0.286908\tvalidation_1-mlogloss:0.789879\n",
            "[38]\tvalidation_0-merror:0.131253\tvalidation_0-mlogloss:0.432916\tvalidation_1-merror:0.282478\tvalidation_1-mlogloss:0.783984\n",
            "[39]\tvalidation_0-merror:0.130133\tvalidation_0-mlogloss:0.427668\tvalidation_1-merror:0.276539\tvalidation_1-mlogloss:0.776024\n",
            "[40]\tvalidation_0-merror:0.129613\tvalidation_0-mlogloss:0.422312\tvalidation_1-merror:0.280513\tvalidation_1-mlogloss:0.771087\n",
            "[41]\tvalidation_0-merror:0.12816\tvalidation_0-mlogloss:0.417126\tvalidation_1-merror:0.273707\tvalidation_1-mlogloss:0.763738\n",
            "[42]\tvalidation_0-merror:0.125853\tvalidation_0-mlogloss:0.412103\tvalidation_1-merror:0.272839\tvalidation_1-mlogloss:0.758181\n",
            "[43]\tvalidation_0-merror:0.12572\tvalidation_0-mlogloss:0.408155\tvalidation_1-merror:0.270236\tvalidation_1-mlogloss:0.752776\n",
            "[44]\tvalidation_0-merror:0.12364\tvalidation_0-mlogloss:0.403855\tvalidation_1-merror:0.270738\tvalidation_1-mlogloss:0.748881\n",
            "[45]\tvalidation_0-merror:0.123213\tvalidation_0-mlogloss:0.399824\tvalidation_1-merror:0.264937\tvalidation_1-mlogloss:0.742962\n",
            "[46]\tvalidation_0-merror:0.122347\tvalidation_0-mlogloss:0.395892\tvalidation_1-merror:0.264252\tvalidation_1-mlogloss:0.739323\n",
            "[47]\tvalidation_0-merror:0.120627\tvalidation_0-mlogloss:0.391389\tvalidation_1-merror:0.261511\tvalidation_1-mlogloss:0.734065\n",
            "[48]\tvalidation_0-merror:0.119453\tvalidation_0-mlogloss:0.387123\tvalidation_1-merror:0.258222\tvalidation_1-mlogloss:0.728093\n",
            "[49]\tvalidation_0-merror:0.117973\tvalidation_0-mlogloss:0.383799\tvalidation_1-merror:0.255984\tvalidation_1-mlogloss:0.723349\n",
            "[50]\tvalidation_0-merror:0.11796\tvalidation_0-mlogloss:0.380002\tvalidation_1-merror:0.253563\tvalidation_1-mlogloss:0.719104\n",
            "[51]\tvalidation_0-merror:0.116213\tvalidation_0-mlogloss:0.376187\tvalidation_1-merror:0.251964\tvalidation_1-mlogloss:0.71449\n",
            "[52]\tvalidation_0-merror:0.11536\tvalidation_0-mlogloss:0.372356\tvalidation_1-merror:0.250365\tvalidation_1-mlogloss:0.709386\n",
            "[53]\tvalidation_0-merror:0.114027\tvalidation_0-mlogloss:0.368615\tvalidation_1-merror:0.249406\tvalidation_1-mlogloss:0.70632\n",
            "[54]\tvalidation_0-merror:0.113173\tvalidation_0-mlogloss:0.365237\tvalidation_1-merror:0.247488\tvalidation_1-mlogloss:0.701896\n",
            "[55]\tvalidation_0-merror:0.110347\tvalidation_0-mlogloss:0.361185\tvalidation_1-merror:0.246072\tvalidation_1-mlogloss:0.69658\n",
            "[56]\tvalidation_0-merror:0.109853\tvalidation_0-mlogloss:0.358175\tvalidation_1-merror:0.245661\tvalidation_1-mlogloss:0.692617\n",
            "[57]\tvalidation_0-merror:0.108627\tvalidation_0-mlogloss:0.354637\tvalidation_1-merror:0.242646\tvalidation_1-mlogloss:0.687507\n",
            "[58]\tvalidation_0-merror:0.107933\tvalidation_0-mlogloss:0.351576\tvalidation_1-merror:0.241549\tvalidation_1-mlogloss:0.68553\n",
            "[59]\tvalidation_0-merror:0.1068\tvalidation_0-mlogloss:0.348418\tvalidation_1-merror:0.241915\tvalidation_1-mlogloss:0.682166\n",
            "[60]\tvalidation_0-merror:0.105973\tvalidation_0-mlogloss:0.345594\tvalidation_1-merror:0.240819\tvalidation_1-mlogloss:0.679561\n",
            "[61]\tvalidation_0-merror:0.105133\tvalidation_0-mlogloss:0.342323\tvalidation_1-merror:0.239585\tvalidation_1-mlogloss:0.676622\n",
            "[62]\tvalidation_0-merror:0.1038\tvalidation_0-mlogloss:0.339245\tvalidation_1-merror:0.236616\tvalidation_1-mlogloss:0.672776\n",
            "[63]\tvalidation_0-merror:0.103267\tvalidation_0-mlogloss:0.336778\tvalidation_1-merror:0.235428\tvalidation_1-mlogloss:0.670383\n",
            "[64]\tvalidation_0-merror:0.10276\tvalidation_0-mlogloss:0.334385\tvalidation_1-merror:0.233738\tvalidation_1-mlogloss:0.66859\n",
            "[65]\tvalidation_0-merror:0.102587\tvalidation_0-mlogloss:0.332128\tvalidation_1-merror:0.233007\tvalidation_1-mlogloss:0.665225\n",
            "[66]\tvalidation_0-merror:0.10096\tvalidation_0-mlogloss:0.329751\tvalidation_1-merror:0.231272\tvalidation_1-mlogloss:0.663047\n",
            "[67]\tvalidation_0-merror:0.09972\tvalidation_0-mlogloss:0.327211\tvalidation_1-merror:0.230449\tvalidation_1-mlogloss:0.659726\n",
            "[68]\tvalidation_0-merror:0.099547\tvalidation_0-mlogloss:0.324686\tvalidation_1-merror:0.228211\tvalidation_1-mlogloss:0.656005\n",
            "[69]\tvalidation_0-merror:0.09912\tvalidation_0-mlogloss:0.32234\tvalidation_1-merror:0.22748\tvalidation_1-mlogloss:0.652643\n",
            "[70]\tvalidation_0-merror:0.097933\tvalidation_0-mlogloss:0.320088\tvalidation_1-merror:0.225653\tvalidation_1-mlogloss:0.649956\n",
            "[71]\tvalidation_0-merror:0.097587\tvalidation_0-mlogloss:0.317623\tvalidation_1-merror:0.225151\tvalidation_1-mlogloss:0.648338\n",
            "[72]\tvalidation_0-merror:0.096507\tvalidation_0-mlogloss:0.315536\tvalidation_1-merror:0.22442\tvalidation_1-mlogloss:0.645775\n",
            "[73]\tvalidation_0-merror:0.096027\tvalidation_0-mlogloss:0.313611\tvalidation_1-merror:0.224283\tvalidation_1-mlogloss:0.643523\n",
            "[74]\tvalidation_0-merror:0.0954\tvalidation_0-mlogloss:0.31167\tvalidation_1-merror:0.222684\tvalidation_1-mlogloss:0.640034\n",
            "[75]\tvalidation_0-merror:0.0952\tvalidation_0-mlogloss:0.309419\tvalidation_1-merror:0.221908\tvalidation_1-mlogloss:0.637835\n",
            "[76]\tvalidation_0-merror:0.094267\tvalidation_0-mlogloss:0.307256\tvalidation_1-merror:0.220354\tvalidation_1-mlogloss:0.6356\n",
            "[77]\tvalidation_0-merror:0.093707\tvalidation_0-mlogloss:0.305502\tvalidation_1-merror:0.220903\tvalidation_1-mlogloss:0.634759\n",
            "[78]\tvalidation_0-merror:0.092893\tvalidation_0-mlogloss:0.303273\tvalidation_1-merror:0.219167\tvalidation_1-mlogloss:0.631986\n",
            "[79]\tvalidation_0-merror:0.09216\tvalidation_0-mlogloss:0.301174\tvalidation_1-merror:0.217385\tvalidation_1-mlogloss:0.62836\n",
            "[80]\tvalidation_0-merror:0.091267\tvalidation_0-mlogloss:0.298849\tvalidation_1-merror:0.215284\tvalidation_1-mlogloss:0.624939\n",
            "[81]\tvalidation_0-merror:0.09096\tvalidation_0-mlogloss:0.297233\tvalidation_1-merror:0.214234\tvalidation_1-mlogloss:0.622257\n",
            "[82]\tvalidation_0-merror:0.0906\tvalidation_0-mlogloss:0.295479\tvalidation_1-merror:0.214096\tvalidation_1-mlogloss:0.62134\n",
            "[83]\tvalidation_0-merror:0.08988\tvalidation_0-mlogloss:0.293946\tvalidation_1-merror:0.213046\tvalidation_1-mlogloss:0.619164\n",
            "[84]\tvalidation_0-merror:0.08876\tvalidation_0-mlogloss:0.291919\tvalidation_1-merror:0.212635\tvalidation_1-mlogloss:0.617187\n",
            "[85]\tvalidation_0-merror:0.08904\tvalidation_0-mlogloss:0.290014\tvalidation_1-merror:0.211401\tvalidation_1-mlogloss:0.615063\n",
            "[86]\tvalidation_0-merror:0.088467\tvalidation_0-mlogloss:0.288158\tvalidation_1-merror:0.210853\tvalidation_1-mlogloss:0.612507\n",
            "[87]\tvalidation_0-merror:0.087547\tvalidation_0-mlogloss:0.286139\tvalidation_1-merror:0.208615\tvalidation_1-mlogloss:0.609346\n",
            "[88]\tvalidation_0-merror:0.086907\tvalidation_0-mlogloss:0.284443\tvalidation_1-merror:0.20793\tvalidation_1-mlogloss:0.606512\n",
            "[89]\tvalidation_0-merror:0.086467\tvalidation_0-mlogloss:0.283108\tvalidation_1-merror:0.207245\tvalidation_1-mlogloss:0.605484\n",
            "[90]\tvalidation_0-merror:0.086373\tvalidation_0-mlogloss:0.281178\tvalidation_1-merror:0.20592\tvalidation_1-mlogloss:0.60325\n",
            "[91]\tvalidation_0-merror:0.08572\tvalidation_0-mlogloss:0.27965\tvalidation_1-merror:0.20455\tvalidation_1-mlogloss:0.601552\n",
            "[92]\tvalidation_0-merror:0.085173\tvalidation_0-mlogloss:0.278101\tvalidation_1-merror:0.20423\tvalidation_1-mlogloss:0.600049\n",
            "[93]\tvalidation_0-merror:0.083773\tvalidation_0-mlogloss:0.276215\tvalidation_1-merror:0.202814\tvalidation_1-mlogloss:0.598816\n",
            "[94]\tvalidation_0-merror:0.0836\tvalidation_0-mlogloss:0.274945\tvalidation_1-merror:0.203088\tvalidation_1-mlogloss:0.597122\n",
            "[95]\tvalidation_0-merror:0.08288\tvalidation_0-mlogloss:0.273339\tvalidation_1-merror:0.203042\tvalidation_1-mlogloss:0.595538\n",
            "[96]\tvalidation_0-merror:0.081853\tvalidation_0-mlogloss:0.27138\tvalidation_1-merror:0.2019\tvalidation_1-mlogloss:0.593395\n",
            "[97]\tvalidation_0-merror:0.082107\tvalidation_0-mlogloss:0.269741\tvalidation_1-merror:0.200758\tvalidation_1-mlogloss:0.591713\n",
            "[98]\tvalidation_0-merror:0.081133\tvalidation_0-mlogloss:0.268126\tvalidation_1-merror:0.200256\tvalidation_1-mlogloss:0.590029\n",
            "[99]\tvalidation_0-merror:0.080267\tvalidation_0-mlogloss:0.266816\tvalidation_1-merror:0.199388\tvalidation_1-mlogloss:0.588108\n"
          ]
        },
        {
          "output_type": "execute_result",
          "data": {
            "text/plain": [
              "XGBClassifier(objective='multi:softprob')"
            ]
          },
          "metadata": {},
          "execution_count": 18
        }
      ]
    },
    {
      "cell_type": "code",
      "source": [
        "# make predictions for test data\n",
        "predictions = model.predict(x_test)"
      ],
      "metadata": {
        "id": "FjWIQ3nKWH9y"
      },
      "execution_count": 19,
      "outputs": []
    },
    {
      "cell_type": "code",
      "source": [
        "# evaluate predictions\n",
        "accuracy = accuracy_score(y_test, predictions)"
      ],
      "metadata": {
        "id": "bKHhqWy3WKGM"
      },
      "execution_count": 20,
      "outputs": []
    },
    {
      "cell_type": "code",
      "source": [
        "# retrieve performance metrics\n",
        "results = model.evals_result()\n",
        "epochs = len(results['validation_0']['merror'])\n",
        "x_axis = range(0, epochs)"
      ],
      "metadata": {
        "id": "ybStIEo4WLrI"
      },
      "execution_count": 22,
      "outputs": []
    },
    {
      "cell_type": "code",
      "source": [
        "# plot log loss\n",
        "fig, ax = pyplot.subplots()\n",
        "ax.plot(x_axis, results['validation_0']['mlogloss'], label='Train')\n",
        "ax.plot(x_axis, results['validation_1']['mlogloss'], label='Test')\n",
        "ax.legend()\n",
        "pyplot.ylabel('Log Loss')\n",
        "pyplot.title('XGBoost Log Loss')\n",
        "pyplot.show()"
      ],
      "metadata": {
        "colab": {
          "base_uri": "https://localhost:8080/",
          "height": 281
        },
        "id": "zuaHQQisWLoU",
        "outputId": "1e3ddf2d-134d-4741-8887-fb5b46a229e2"
      },
      "execution_count": 24,
      "outputs": [
        {
          "output_type": "display_data",
          "data": {
            "text/plain": [
              "<Figure size 432x288 with 1 Axes>"
            ],
            "image/png": "[encoded data removed]"
          },
          "metadata": {
            "needs_background": "light"
          }
        }
      ]
    },
    {
      "cell_type": "code",
      "source": [
        "# plot classification error\n",
        "fig, ax = pyplot.subplots()\n",
        "ax.plot(x_axis, results['validation_0']['merror'], label='Train')\n",
        "ax.plot(x_axis, results['validation_1']['merror'], label='Test')\n",
        "ax.legend()\n",
        "pyplot.ylabel('Classification Error')\n",
        "pyplot.title('XGBoost Classification Error')\n",
        "pyplot.show()"
      ],
      "metadata": {
        "colab": {
          "base_uri": "https://localhost:8080/",
          "height": 281
        },
        "id": "DaWVqxHUWLmd",
        "outputId": "6d5f3447-a716-4bb9-8c91-00279057522d"
      },
      "execution_count": 26,
      "outputs": [
        {
          "output_type": "display_data",
          "data": {
            "text/plain": [
              "<Figure size 432x288 with 1 Axes>"
            ],
            "image/png": "[encoded data removed]"
          },
          "metadata": {
            "needs_background": "light"
          }
        }
      ]
    }
  ]
}