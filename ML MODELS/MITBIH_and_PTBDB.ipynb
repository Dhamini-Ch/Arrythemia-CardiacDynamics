{
 "cells": [
  {
   "cell_type": "code",
   "execution_count": 1,
   "id": "RawB2GktBQFs",
   "metadata": {
    "colab": {
     "base_uri": "https://localhost:8080/"
    },
    "id": "RawB2GktBQFs",
    "outputId": "1fa750ef-2d49-4736-c902-4096e1672948"
   },
   "outputs": [
    {
     "name": "stdout",
     "output_type": "stream",
     "text": [
      "Mounted at /content/drive\n"
     ]
    }
   ],
   "source": [
    "from google.colab import drive\n",
    "drive.mount('/content/drive')"
   ]
  },
  {
   "cell_type": "code",
   "execution_count": 2,
   "id": "789a890b",
   "metadata": {
    "id": "789a890b"
   },
   "outputs": [],
   "source": [
    "#Importing the libraries\n",
    "import pandas as pd\n",
    "import numpy as np\n",
    "import matplotlib.pyplot as plt"
   ]
  },
  {
   "cell_type": "code",
   "execution_count": 3,
   "id": "8e88669c",
   "metadata": {
    "id": "8e88669c"
   },
   "outputs": [],
   "source": [
    "#Loading the ptbdb dats set\n",
    "abnormal     = pd.read_csv(\"/content/drive/My Drive/Colab Notebooks/datafiles/ptbdb_abnormal.csv\", header = None)\n",
    "normal       = pd.read_csv(\"/content/drive/My Drive/Colab Notebooks/datafiles/ptbdb_normal.csv\", header = None)\n",
    "mitbih_test  = pd.read_csv(\"/content/drive/My Drive/Colab Notebooks/datafiles/mitbih_test.csv\", header=None)\n",
    "mitbih_train = pd.read_csv(\"/content/drive/My Drive/Colab Notebooks/datafiles/mitbih_train.csv\", header=None)"
   ]
  },
  {
   "cell_type": "code",
   "execution_count": 4,
   "id": "06f5f4d0",
   "metadata": {
    "colab": {
     "base_uri": "https://localhost:8080/"
    },
    "id": "06f5f4d0",
    "outputId": "27d3b421-d876-43a3-9ce7-0e5e9dd9feba"
   },
   "outputs": [
    {
     "data": {
      "text/plain": [
       "(10506, 188)"
      ]
     },
     "execution_count": 4,
     "metadata": {},
     "output_type": "execute_result"
    }
   ],
   "source": [
    "abnormal.shape"
   ]
  },
  {
   "cell_type": "code",
   "execution_count": 5,
   "id": "632f175a",
   "metadata": {
    "colab": {
     "base_uri": "https://localhost:8080/"
    },
    "id": "632f175a",
    "outputId": "b07c4441-e24c-4af5-a459-b57e2652045e"
   },
   "outputs": [
    {
     "data": {
      "text/plain": [
       "10506.0"
      ]
     },
     "execution_count": 5,
     "metadata": {},
     "output_type": "execute_result"
    }
   ],
   "source": [
    "# id_0 = np.where(abnormal[187]==0)\n",
    "# id_1 = np.where(abnormal[187]==1)\n",
    "# abnormal[id_0] = 5\n",
    "# abnormal[id_1] = 6\n",
    "# # print(abnormal)\n",
    "abnormal[187].sum()"
   ]
  },
  {
   "cell_type": "code",
   "execution_count": 6,
   "id": "f9d8a746",
   "metadata": {
    "id": "f9d8a746"
   },
   "outputs": [],
   "source": [
    "abnormal[187] = 5"
   ]
  },
  {
   "cell_type": "code",
   "execution_count": 7,
   "id": "a36408c5",
   "metadata": {
    "colab": {
     "base_uri": "https://localhost:8080/"
    },
    "id": "a36408c5",
    "outputId": "0055502d-29a0-47a1-ca5f-e58cf9b87106"
   },
   "outputs": [
    {
     "data": {
      "text/plain": [
       "array([5])"
      ]
     },
     "execution_count": 7,
     "metadata": {},
     "output_type": "execute_result"
    }
   ],
   "source": [
    "abnormal[187].unique()"
   ]
  },
  {
   "cell_type": "code",
   "execution_count": 8,
   "id": "72459f26",
   "metadata": {
    "colab": {
     "base_uri": "https://localhost:8080/"
    },
    "id": "72459f26",
    "outputId": "332ea758-6668-4437-89f8-58e173ef6ce0"
   },
   "outputs": [
    {
     "data": {
      "text/plain": [
       "(4046, 188)"
      ]
     },
     "execution_count": 8,
     "metadata": {},
     "output_type": "execute_result"
    }
   ],
   "source": [
    "normal.shape"
   ]
  },
  {
   "cell_type": "code",
   "execution_count": 9,
   "id": "358d4f9b",
   "metadata": {
    "colab": {
     "base_uri": "https://localhost:8080/"
    },
    "id": "358d4f9b",
    "outputId": "d0ed930e-aba1-44de-c9cb-86560512e0ac"
   },
   "outputs": [
    {
     "data": {
      "text/plain": [
       "0.0"
      ]
     },
     "execution_count": 9,
     "metadata": {},
     "output_type": "execute_result"
    }
   ],
   "source": [
    "normal[187].sum()"
   ]
  },
  {
   "cell_type": "code",
   "execution_count": 10,
   "id": "22f6a35a",
   "metadata": {
    "id": "22f6a35a"
   },
   "outputs": [],
   "source": [
    "normal[187] = 6"
   ]
  },
  {
   "cell_type": "code",
   "execution_count": 11,
   "id": "83b34a9b",
   "metadata": {
    "colab": {
     "base_uri": "https://localhost:8080/"
    },
    "id": "83b34a9b",
    "outputId": "bbcd0d1a-5528-4dc0-8f83-c4e11d2e2831"
   },
   "outputs": [
    {
     "data": {
      "text/plain": [
       "array([6])"
      ]
     },
     "execution_count": 11,
     "metadata": {},
     "output_type": "execute_result"
    }
   ],
   "source": [
    "normal[187].unique()"
   ]
  },
  {
   "cell_type": "code",
   "execution_count": 12,
   "id": "99569bb9",
   "metadata": {
    "colab": {
     "base_uri": "https://localhost:8080/"
    },
    "id": "99569bb9",
    "outputId": "b46fe4a2-4d8d-4352-fc8b-a608da185c7d"
   },
   "outputs": [
    {
     "name": "stdout",
     "output_type": "stream",
     "text": [
      "2626.5\n",
      "7879\n"
     ]
    }
   ],
   "source": [
    "print(10506*0.25)\n",
    "print(10506-2627)"
   ]
  },
  {
   "cell_type": "code",
   "execution_count": 13,
   "id": "313795f0",
   "metadata": {
    "colab": {
     "base_uri": "https://localhost:8080/"
    },
    "id": "313795f0",
    "outputId": "ab0efea4-7019-4941-f29a-1bae40b89c56"
   },
   "outputs": [
    {
     "name": "stdout",
     "output_type": "stream",
     "text": [
      "1011.5\n",
      "3034\n"
     ]
    }
   ],
   "source": [
    "print(4046*0.25)\n",
    "print(4046-1012)"
   ]
  },
  {
   "cell_type": "code",
   "execution_count": 14,
   "id": "08e15f2b",
   "metadata": {
    "id": "08e15f2b"
   },
   "outputs": [],
   "source": [
    "a = abnormal.head(2627)\n",
    "a1 = abnormal.tail(7878)"
   ]
  },
  {
   "cell_type": "code",
   "execution_count": 15,
   "id": "2bb0fd45",
   "metadata": {
    "id": "2bb0fd45"
   },
   "outputs": [],
   "source": [
    "b = normal.head(1012)\n",
    "b1 = normal.tail(3034)"
   ]
  },
  {
   "cell_type": "code",
   "execution_count": 16,
   "id": "5353ed95",
   "metadata": {
    "id": "5353ed95"
   },
   "outputs": [],
   "source": [
    "#Concatinating abnormal and normal\n",
    "ptbdb_test = pd.concat([a, b])\n",
    "ptbdb_train = pd.concat([a1, b1])"
   ]
  },
  {
   "cell_type": "code",
   "execution_count": 17,
   "id": "706a9ff8",
   "metadata": {
    "colab": {
     "base_uri": "https://localhost:8080/"
    },
    "id": "706a9ff8",
    "outputId": "120c2cee-6ecc-4b36-a7ba-7b748dc0b8a1"
   },
   "outputs": [
    {
     "data": {
      "text/plain": [
       "(10912, 188)"
      ]
     },
     "execution_count": 17,
     "metadata": {},
     "output_type": "execute_result"
    }
   ],
   "source": [
    "#Dimisions of the dataset\n",
    "ptbdb_train.shape"
   ]
  },
  {
   "cell_type": "code",
   "execution_count": 18,
   "id": "b89ecf8b",
   "metadata": {
    "colab": {
     "base_uri": "https://localhost:8080/"
    },
    "id": "b89ecf8b",
    "outputId": "39666825-3880-450b-e030-c46460a78a87"
   },
   "outputs": [
    {
     "data": {
      "text/plain": [
       "(3639, 188)"
      ]
     },
     "execution_count": 18,
     "metadata": {},
     "output_type": "execute_result"
    }
   ],
   "source": [
    "#Diminsions of the dataset\n",
    "ptbdb_test.shape"
   ]
  },
  {
   "cell_type": "code",
   "execution_count": 19,
   "id": "42171bc0",
   "metadata": {
    "colab": {
     "base_uri": "https://localhost:8080/"
    },
    "id": "42171bc0",
    "outputId": "5ed04a10-406d-416f-842f-327a4040f82a"
   },
   "outputs": [
    {
     "data": {
      "text/plain": [
       "(98466, 188)"
      ]
     },
     "execution_count": 19,
     "metadata": {},
     "output_type": "execute_result"
    }
   ],
   "source": [
    "#Combinig the train data\n",
    "train = pd.concat([mitbih_train, ptbdb_train])\n",
    "train.shape"
   ]
  },
  {
   "cell_type": "code",
   "execution_count": 20,
   "id": "f3a54163",
   "metadata": {
    "colab": {
     "base_uri": "https://localhost:8080/"
    },
    "id": "f3a54163",
    "outputId": "db4b0b19-2d75-4d62-ce83-31815e4fdea5"
   },
   "outputs": [
    {
     "data": {
      "text/plain": [
       "(25531, 188)"
      ]
     },
     "execution_count": 20,
     "metadata": {},
     "output_type": "execute_result"
    }
   ],
   "source": [
    "#Combining the test data\n",
    "test = pd.concat([mitbih_test, ptbdb_test])\n",
    "test.shape"
   ]
  },
  {
   "cell_type": "code",
   "execution_count": 21,
   "id": "686783d3",
   "metadata": {
    "colab": {
     "base_uri": "https://localhost:8080/"
    },
    "id": "686783d3",
    "outputId": "beaa5f0e-a4b3-4b4b-ee5b-9cded34ad495"
   },
   "outputs": [
    {
     "data": {
      "text/plain": [
       "array([0., 1., 2., 3., 4., 5., 6.])"
      ]
     },
     "execution_count": 21,
     "metadata": {},
     "output_type": "execute_result"
    }
   ],
   "source": [
    "#Finding the number of classes in the datset\n",
    "train[187].unique()"
   ]
  },
  {
   "cell_type": "code",
   "execution_count": 22,
   "id": "b19b23fc",
   "metadata": {
    "id": "b19b23fc"
   },
   "outputs": [],
   "source": [
    "#Feature Scaling\n",
    "x_train = train.iloc[:, :-1].values\n",
    "y_train = train.iloc[:, -1].values"
   ]
  },
  {
   "cell_type": "code",
   "execution_count": 23,
   "id": "4b346f79",
   "metadata": {
    "id": "4b346f79"
   },
   "outputs": [],
   "source": [
    "#Feature Scaling\n",
    "x_test = test.iloc[:, :-1].values\n",
    "y_test = test.iloc[:, -1].values"
   ]
  },
  {
   "cell_type": "code",
   "execution_count": 24,
   "id": "41ad9ad5",
   "metadata": {
    "colab": {
     "base_uri": "https://localhost:8080/"
    },
    "id": "41ad9ad5",
    "outputId": "d1454a12-32f3-416f-e845-77e1405f6b3d"
   },
   "outputs": [
    {
     "data": {
      "text/plain": [
       "(25531, 187)"
      ]
     },
     "execution_count": 24,
     "metadata": {},
     "output_type": "execute_result"
    }
   ],
   "source": [
    "#Dimminsion of the dataset\n",
    "x_test.shape"
   ]
  },
  {
   "cell_type": "code",
   "execution_count": 25,
   "id": "b3cfe3c0",
   "metadata": {
    "colab": {
     "base_uri": "https://localhost:8080/"
    },
    "id": "b3cfe3c0",
    "outputId": "0192c94b-c775-4be0-a833-4b11c47e0cd3"
   },
   "outputs": [
    {
     "data": {
      "text/plain": [
       "(25531,)"
      ]
     },
     "execution_count": 25,
     "metadata": {},
     "output_type": "execute_result"
    }
   ],
   "source": [
    "#Diminsion of the dataset\n",
    "y_test.shape"
   ]
  },
  {
   "cell_type": "markdown",
   "id": "_3P264MRNMZX",
   "metadata": {
    "id": "_3P264MRNMZX"
   },
   "source": [
    "## **Random Forest Classifier**"
   ]
  },
  {
   "cell_type": "code",
   "execution_count": 26,
   "id": "45af3217",
   "metadata": {
    "colab": {
     "base_uri": "https://localhost:8080/"
    },
    "id": "45af3217",
    "outputId": "a586d7ac-3102-43d2-a59c-a94fd7dd940c"
   },
   "outputs": [
    {
     "data": {
      "text/plain": [
       "RandomForestClassifier(criterion='entropy', n_estimators=15, random_state=0)"
      ]
     },
     "execution_count": 26,
     "metadata": {},
     "output_type": "execute_result"
    }
   ],
   "source": [
    "#Random Forest classification\n",
    "from sklearn.ensemble import RandomForestClassifier\n",
    "RFC = RandomForestClassifier(n_estimators = 15, criterion = 'entropy', random_state = 0)\n",
    "RFC.fit(x_train, y_train)    "
   ]
  },
  {
   "cell_type": "code",
   "execution_count": 27,
   "id": "40d0e6a5",
   "metadata": {
    "id": "40d0e6a5"
   },
   "outputs": [],
   "source": [
    "#Predicting the test values\n",
    "pred_RFC = RFC.predict(x_test)"
   ]
  },
  {
   "cell_type": "code",
   "execution_count": 28,
   "id": "81064088",
   "metadata": {
    "colab": {
     "base_uri": "https://localhost:8080/"
    },
    "id": "81064088",
    "outputId": "ed18c004-19e5-40db-cedf-7fdb4c003771"
   },
   "outputs": [
    {
     "name": "stdout",
     "output_type": "stream",
     "text": [
      "[[18059    12     9     0     4    31     3]\n",
      " [  209   339     1     0     1     4     2]\n",
      " [  151     2  1266    14     3    12     0]\n",
      " [   52     0    12    98     0     0     0]\n",
      " [   79     0     6     0  1517     6     0]\n",
      " [  561     0    10     0     3  2033    20]\n",
      " [  165     0     0     0     0    36   811]]\n",
      "Accuarcy of the model 0.944851357173632\n",
      "              precision    recall  f1-score   support\n",
      "\n",
      "         0.0       0.94      1.00      0.97     18118\n",
      "         1.0       0.96      0.61      0.75       556\n",
      "         2.0       0.97      0.87      0.92      1448\n",
      "         3.0       0.88      0.60      0.72       162\n",
      "         4.0       0.99      0.94      0.97      1608\n",
      "         5.0       0.96      0.77      0.86      2627\n",
      "         6.0       0.97      0.80      0.88      1012\n",
      "\n",
      "    accuracy                           0.94     25531\n",
      "   macro avg       0.95      0.80      0.86     25531\n",
      "weighted avg       0.95      0.94      0.94     25531\n",
      "\n"
     ]
    }
   ],
   "source": [
    "#Obtaining the confusion matrix, accuracy score and classification report\n",
    "from sklearn.metrics import confusion_matrix, accuracy_score\n",
    "from sklearn.metrics import classification_report\n",
    "\n",
    "cm_RFC = confusion_matrix(y_test, pred_RFC)\n",
    "print(cm_RFC)\n",
    "a_RFC = accuracy_score(y_test, pred_RFC)\n",
    "print(\"Accuarcy of the model\",a_RFC)\n",
    "print(classification_report(y_test, pred_RFC))"
   ]
  },
  {
   "cell_type": "markdown",
   "id": "IWXs0gHyNm8D",
   "metadata": {
    "id": "IWXs0gHyNm8D"
   },
   "source": [
    "## **KNeighbor Classification**"
   ]
  },
  {
   "cell_type": "code",
   "execution_count": 29,
   "id": "1a24b00a",
   "metadata": {
    "colab": {
     "base_uri": "https://localhost:8080/"
    },
    "id": "1a24b00a",
    "outputId": "802537fd-e834-4755-f999-9583ea086e5b"
   },
   "outputs": [
    {
     "data": {
      "text/plain": [
       "KNeighborsClassifier(n_neighbors=15)"
      ]
     },
     "execution_count": 29,
     "metadata": {},
     "output_type": "execute_result"
    }
   ],
   "source": [
    "#Kneighbors classification\n",
    "from sklearn.neighbors import KNeighborsClassifier\n",
    "KNN = KNeighborsClassifier(n_neighbors = 15, metric = 'minkowski', p = 2)\n",
    "KNN.fit(x_train, y_train)    "
   ]
  },
  {
   "cell_type": "code",
   "execution_count": 30,
   "id": "c06a20fb",
   "metadata": {
    "id": "c06a20fb"
   },
   "outputs": [],
   "source": [
    "#Predicting the test values\n",
    "pred_KNN = KNN.predict(x_test)"
   ]
  },
  {
   "cell_type": "code",
   "execution_count": 31,
   "id": "7bddfc74",
   "metadata": {
    "colab": {
     "base_uri": "https://localhost:8080/"
    },
    "id": "7bddfc74",
    "outputId": "16f9be2e-b81e-4c08-a9de-91be9443af5a"
   },
   "outputs": [
    {
     "name": "stdout",
     "output_type": "stream",
     "text": [
      "[[17943    35    58     7     3    46    26]\n",
      " [  216   328     6     0     0     3     3]\n",
      " [  150     4  1252    23     2    11     6]\n",
      " [   48     0    13   101     0     0     0]\n",
      " [   96     0    11     0  1496     5     0]\n",
      " [  752    13    15     2     6  1744    95]\n",
      " [  380     4     0     0     0    64   564]]\n",
      "Accuarcy of the model 0.9176295483921507\n",
      "              precision    recall  f1-score   support\n",
      "\n",
      "         0.0       0.92      0.99      0.95     18118\n",
      "         1.0       0.85      0.59      0.70       556\n",
      "         2.0       0.92      0.86      0.89      1448\n",
      "         3.0       0.76      0.62      0.68       162\n",
      "         4.0       0.99      0.93      0.96      1608\n",
      "         5.0       0.93      0.66      0.78      2627\n",
      "         6.0       0.81      0.56      0.66      1012\n",
      "\n",
      "    accuracy                           0.92     25531\n",
      "   macro avg       0.88      0.75      0.80     25531\n",
      "weighted avg       0.92      0.92      0.91     25531\n",
      "\n"
     ]
    }
   ],
   "source": [
    "#Obtainig the confusion matrix, accuracy score and classification report\n",
    "from sklearn.metrics import confusion_matrix, accuracy_score\n",
    "from sklearn.metrics import classification_report\n",
    "\n",
    "cm_KNN = confusion_matrix(y_test, pred_KNN)\n",
    "print(cm_KNN)\n",
    "a_KNN = accuracy_score(y_test, pred_KNN)\n",
    "print(\"Accuarcy of the model\",a_KNN)\n",
    "print(classification_report(y_test, pred_KNN))"
   ]
  },
  {
   "cell_type": "markdown",
   "id": "QjVKuP7LOOpY",
   "metadata": {
    "id": "QjVKuP7LOOpY"
   },
   "source": [
    "## **Naive Bayes**"
   ]
  },
  {
   "cell_type": "code",
   "execution_count": 32,
   "id": "ECGIkX4ULGZO",
   "metadata": {
    "colab": {
     "base_uri": "https://localhost:8080/"
    },
    "id": "ECGIkX4ULGZO",
    "outputId": "e8f59e78-a873-40c7-b831-84413de88d1e"
   },
   "outputs": [
    {
     "data": {
      "text/plain": [
       "GaussianNB()"
      ]
     },
     "execution_count": 32,
     "metadata": {},
     "output_type": "execute_result"
    }
   ],
   "source": [
    "#Training the Navie Bayes\n",
    "from sklearn.naive_bayes import GaussianNB\n",
    "NB = GaussianNB()\n",
    "NB.fit(x_train, y_train)"
   ]
  },
  {
   "cell_type": "code",
   "execution_count": 33,
   "id": "0QIDr4Q3LNdq",
   "metadata": {
    "id": "0QIDr4Q3LNdq"
   },
   "outputs": [],
   "source": [
    "#Predicting the test values\n",
    "pred_NB = NB.predict(x_test)"
   ]
  },
  {
   "cell_type": "code",
   "execution_count": 34,
   "id": "eWsvu84bLNaq",
   "metadata": {
    "colab": {
     "base_uri": "https://localhost:8080/"
    },
    "id": "eWsvu84bLNaq",
    "outputId": "adc501b8-27e0-4388-c903-6276972baeed"
   },
   "outputs": [
    {
     "name": "stdout",
     "output_type": "stream",
     "text": [
      "[[   71    41  1062  2162 12527   208  2047]\n",
      " [    7    52    29    50   349    12    57]\n",
      " [    9     9   272    78   950    16   114]\n",
      " [    0     0     1   134    27     0     0]\n",
      " [    0     0     5     9  1592     2     0]\n",
      " [    6     9   107   134  1983    29   359]\n",
      " [    5    23    45     5   557    18   359]]\n",
      "Accuarcy of the model 0.09827268810465709\n",
      "              precision    recall  f1-score   support\n",
      "\n",
      "         0.0       0.72      0.00      0.01     18118\n",
      "         1.0       0.39      0.09      0.15       556\n",
      "         2.0       0.18      0.19      0.18      1448\n",
      "         3.0       0.05      0.83      0.10       162\n",
      "         4.0       0.09      0.99      0.16      1608\n",
      "         5.0       0.10      0.01      0.02      2627\n",
      "         6.0       0.12      0.35      0.18      1012\n",
      "\n",
      "    accuracy                           0.10     25531\n",
      "   macro avg       0.24      0.35      0.11     25531\n",
      "weighted avg       0.55      0.10      0.04     25531\n",
      "\n"
     ]
    }
   ],
   "source": [
    "#Obtainig confusion matrix, accuracy score and classification report\n",
    "from sklearn.metrics import confusion_matrix, accuracy_score\n",
    "from sklearn.metrics import classification_report\n",
    "\n",
    "cm_NB = confusion_matrix(y_test, pred_NB)\n",
    "print(cm_NB)\n",
    "a_NB = accuracy_score(y_test, pred_NB)\n",
    "print(\"Accuarcy of the model\",a_NB)\n",
    "print(classification_report(y_test, pred_NB))"
   ]
  },
  {
   "cell_type": "markdown",
   "id": "NRTtJYl1OrCb",
   "metadata": {
    "id": "NRTtJYl1OrCb"
   },
   "source": [
    "## **Ensemling Classification**"
   ]
  },
  {
   "cell_type": "code",
   "execution_count": 35,
   "id": "NIsUPp78jZQj",
   "metadata": {
    "colab": {
     "base_uri": "https://localhost:8080/"
    },
    "id": "NIsUPp78jZQj",
    "outputId": "3401f788-4f01-4281-d722-87db2506d65a"
   },
   "outputs": [
    {
     "data": {
      "text/plain": [
       "0.919196271199718"
      ]
     },
     "execution_count": 35,
     "metadata": {},
     "output_type": "execute_result"
    }
   ],
   "source": [
    "from sklearn.ensemble import VotingClassifier\n",
    "\n",
    "model = VotingClassifier(estimators=[('NB', NB), ('knn', KNN), ('rfc', RFC)])\n",
    "model.fit(x_train, y_train)\n",
    "model.score(x_test, y_test)"
   ]
  },
  {
   "cell_type": "code",
   "execution_count": null,
   "id": "iqB0Bzh1jaL2",
   "metadata": {
    "id": "iqB0Bzh1jaL2"
   },
   "outputs": [],
   "source": [
    ""
   ]
  }
 ],
 "metadata": {
  "colab": {
   "name": "MITBIH and PTBDB-checkpoint.ipynb",
   "provenance": []
  },
  "kernelspec": {
   "display_name": "Python 3 (ipykernel)",
   "language": "python",
   "name": "python3"
  },
  "language_info": {
   "codemirror_mode": {
    "name": "ipython",
    "version": 3
   },
   "file_extension": ".py",
   "mimetype": "text/x-python",
   "name": "python",
   "nbconvert_exporter": "python",
   "pygments_lexer": "ipython3",
   "version": "3.9.7"
  }
 },
 "nbformat": 4,
 "nbformat_minor": 5
}
