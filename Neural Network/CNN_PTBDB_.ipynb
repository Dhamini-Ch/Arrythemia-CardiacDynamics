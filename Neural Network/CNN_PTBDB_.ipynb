{
  "cells": [
    {
      "cell_type": "code",
      "source": [
        "from google.colab import drive\n",
        "drive.mount('/content/drive')"
      ],
      "metadata": {
        "colab": {
          "base_uri": "https://localhost:8080/"
        },
        "id": "GKzwrIbek8Je",
        "outputId": "b620b91b-7637-4338-d85c-2e4d165c87ee"
      },
      "id": "GKzwrIbek8Je",
      "execution_count": 5,
      "outputs": [
        {
          "output_type": "stream",
          "name": "stdout",
          "text": [
            "Mounted at /content/drive\n"
          ]
        }
      ]
    },
    {
      "cell_type": "code",
      "execution_count": 1,
      "id": "ad2fd263",
      "metadata": {
        "id": "ad2fd263"
      },
      "outputs": [],
      "source": [
        "import numpy as np\n",
        "import pandas as pd\n",
        "import matplotlib.pyplot as plt\n",
        "from sklearn.metrics import f1_score, confusion_matrix\n",
        "from sklearn.utils import resample\n",
        "import tensorflow.keras\n",
        "from tensorflow.keras.models import Sequential\n",
        "from tensorflow.keras.layers import Conv1D, MaxPooling1D, Dense, Dropout, Flatten, MaxPool1D, Convolution1D\n",
        "from tensorflow.keras.layers import BatchNormalization\n",
        "from tensorflow.keras.callbacks import EarlyStopping, ModelCheckpoint\n",
        "import random"
      ]
    },
    {
      "cell_type": "code",
      "execution_count": 2,
      "id": "dc6df695",
      "metadata": {
        "id": "dc6df695"
      },
      "outputs": [],
      "source": [
        "#Loading the ptbdb dats set\n",
        "abnormal     = pd.read_csv(\"/content/drive/My Drive/Colab Notebooks/datafiles/ptbdb_abnormal.csv\", header = None)\n",
        "normal       = pd.read_csv(\"/content/drive/My Drive/Colab Notebooks/datafiles/ptbdb_normal.csv\", header = None)"
      ]
    },
    {
      "cell_type": "code",
      "source": [
        "abnormal.shape"
      ],
      "metadata": {
        "colab": {
          "base_uri": "https://localhost:8080/"
        },
        "id": "7UDEhr1HWbcH",
        "outputId": "db6e7ee1-b4dd-4cda-88e2-97b2a172b9e3"
      },
      "id": "7UDEhr1HWbcH",
      "execution_count": 3,
      "outputs": [
        {
          "output_type": "execute_result",
          "data": {
            "text/plain": [
              "(10506, 188)"
            ]
          },
          "metadata": {},
          "execution_count": 3
        }
      ]
    },
    {
      "cell_type": "code",
      "source": [
        "normal.shape"
      ],
      "metadata": {
        "colab": {
          "base_uri": "https://localhost:8080/"
        },
        "id": "GkS36FodWbYf",
        "outputId": "68864051-12e6-4b76-c335-774481deec3b"
      },
      "id": "GkS36FodWbYf",
      "execution_count": 4,
      "outputs": [
        {
          "output_type": "execute_result",
          "data": {
            "text/plain": [
              "(4046, 188)"
            ]
          },
          "metadata": {},
          "execution_count": 4
        }
      ]
    },
    {
      "cell_type": "code",
      "source": [
        "abnormal[187].unique()"
      ],
      "metadata": {
        "colab": {
          "base_uri": "https://localhost:8080/"
        },
        "id": "RZvxhyX_WbWZ",
        "outputId": "13d6a37d-ef5a-47eb-d6b2-3f8ad43fdeb7"
      },
      "id": "RZvxhyX_WbWZ",
      "execution_count": 5,
      "outputs": [
        {
          "output_type": "execute_result",
          "data": {
            "text/plain": [
              "array([1.])"
            ]
          },
          "metadata": {},
          "execution_count": 5
        }
      ]
    },
    {
      "cell_type": "code",
      "source": [
        "normal[187].unique()"
      ],
      "metadata": {
        "colab": {
          "base_uri": "https://localhost:8080/"
        },
        "id": "IYLQHS2pWbUU",
        "outputId": "b6b1d28a-89c5-4e5a-893e-336ea4cd40a9"
      },
      "id": "IYLQHS2pWbUU",
      "execution_count": 6,
      "outputs": [
        {
          "output_type": "execute_result",
          "data": {
            "text/plain": [
              "array([0.])"
            ]
          },
          "metadata": {},
          "execution_count": 6
        }
      ]
    },
    {
      "cell_type": "code",
      "source": [
        "#Combining abnormal and normal\n",
        "ptbdb_data = pd.merge(abnormal, normal, how='outer')\n",
        "ptbdb_data"
      ],
      "metadata": {
        "colab": {
          "base_uri": "https://localhost:8080/",
          "height": 423
        },
        "id": "dTfbxYeSWbSN",
        "outputId": "7609d98c-fe24-4864-a682-4171fe328b66"
      },
      "id": "dTfbxYeSWbSN",
      "execution_count": 7,
      "outputs": [
        {
          "output_type": "execute_result",
          "data": {
            "text/plain": [
              "            0         1         2         3         4         5         6    \\\n",
              "0      0.932233  0.869679  0.886186  0.929626  0.908775  0.933970  0.801043   \n",
              "1      1.000000  0.606941  0.384181  0.254237  0.223567  0.276836  0.253430   \n",
              "2      1.000000  0.951613  0.923963  0.853303  0.791859  0.734255  0.672043   \n",
              "3      0.977819  0.899261  0.230129  0.032348  0.142329  0.223660  0.328096   \n",
              "4      0.935618  0.801661  0.805815  1.000000  0.722741  0.480789  0.454829   \n",
              "...         ...       ...       ...       ...       ...       ...       ...   \n",
              "14547  1.000000  0.929586  0.503550  0.293491  0.169822  0.159763  0.130769   \n",
              "14548  1.000000  0.637579  0.154837  0.061983  0.088965  0.083374  0.065143   \n",
              "14549  1.000000  0.872574  0.465071  0.232212  0.126132  0.155886  0.174644   \n",
              "14550  0.915983  0.529373  0.288406  0.144536  0.171802  0.180669  0.177566   \n",
              "14551  1.000000  0.838643  0.390567  0.191146  0.033513  0.055854  0.129086   \n",
              "\n",
              "            7         8         9    ...  178  179  180  181  182  183  184  \\\n",
              "0      0.749783  0.687229  0.635100  ...  0.0  0.0  0.0  0.0  0.0  0.0  0.0   \n",
              "1      0.184826  0.153349  0.121872  ...  0.0  0.0  0.0  0.0  0.0  0.0  0.0   \n",
              "2      0.685100  0.670507  0.667435  ...  0.0  0.0  0.0  0.0  0.0  0.0  0.0   \n",
              "3      0.367837  0.381701  0.389094  ...  0.0  0.0  0.0  0.0  0.0  0.0  0.0   \n",
              "4      0.319834  0.266874  0.308411  ...  0.0  0.0  0.0  0.0  0.0  0.0  0.0   \n",
              "...         ...       ...       ...  ...  ...  ...  ...  ...  ...  ...  ...   \n",
              "14547  0.125444  0.137278  0.111243  ...  0.0  0.0  0.0  0.0  0.0  0.0  0.0   \n",
              "14548  0.057365  0.060039  0.060039  ...  0.0  0.0  0.0  0.0  0.0  0.0  0.0   \n",
              "14549  0.190168  0.203752  0.168823  ...  0.0  0.0  0.0  0.0  0.0  0.0  0.0   \n",
              "14550  0.176458  0.178896  0.180448  ...  0.0  0.0  0.0  0.0  0.0  0.0  0.0   \n",
              "14551  0.147290  0.155151  0.165494  ...  0.0  0.0  0.0  0.0  0.0  0.0  0.0   \n",
              "\n",
              "       185  186  187  \n",
              "0      0.0  0.0  1.0  \n",
              "1      0.0  0.0  1.0  \n",
              "2      0.0  0.0  1.0  \n",
              "3      0.0  0.0  1.0  \n",
              "4      0.0  0.0  1.0  \n",
              "...    ...  ...  ...  \n",
              "14547  0.0  0.0  0.0  \n",
              "14548  0.0  0.0  0.0  \n",
              "14549  0.0  0.0  0.0  \n",
              "14550  0.0  0.0  0.0  \n",
              "14551  0.0  0.0  0.0  \n",
              "\n",
              "[14552 rows x 188 columns]"
            ],
            "text/html": [
              "\n",
              "  <div id=\"df-f41f38ca-0f33-4522-b333-71b362e068fe\">\n",
              "    <div class=\"colab-df-container\">\n",
              "      <div>\n",
              "<style scoped>\n",
              "    .dataframe tbody tr th:only-of-type {\n",
              "        vertical-align: middle;\n",
              "    }\n",
              "\n",
              "    .dataframe tbody tr th {\n",
              "        vertical-align: top;\n",
              "    }\n",
              "\n",
              "    .dataframe thead th {\n",
              "        text-align: right;\n",
              "    }\n",
              "</style>\n",
              "<table border=\"1\" class=\"dataframe\">\n",
              "  <thead>\n",
              "    <tr style=\"text-align: right;\">\n",
              "      <th></th>\n",
              "      <th>0</th>\n",
              "      <th>1</th>\n",
              "      <th>2</th>\n",
              "      <th>3</th>\n",
              "      <th>4</th>\n",
              "      <th>5</th>\n",
              "      <th>6</th>\n",
              "      <th>7</th>\n",
              "      <th>8</th>\n",
              "      <th>9</th>\n",
              "      <th>...</th>\n",
              "      <th>178</th>\n",
              "      <th>179</th>\n",
              "      <th>180</th>\n",
              "      <th>181</th>\n",
              "      <th>182</th>\n",
              "      <th>183</th>\n",
              "      <th>184</th>\n",
              "      <th>185</th>\n",
              "      <th>186</th>\n",
              "      <th>187</th>\n",
              "    </tr>\n",
              "  </thead>\n",
              "  <tbody>\n",
              "    <tr>\n",
              "      <th>0</th>\n",
              "      <td>0.932233</td>\n",
              "      <td>0.869679</td>\n",
              "      <td>0.886186</td>\n",
              "      <td>0.929626</td>\n",
              "      <td>0.908775</td>\n",
              "      <td>0.933970</td>\n",
              "      <td>0.801043</td>\n",
              "      <td>0.749783</td>\n",
              "      <td>0.687229</td>\n",
              "      <td>0.635100</td>\n",
              "      <td>...</td>\n",
              "      <td>0.0</td>\n",
              "      <td>0.0</td>\n",
              "      <td>0.0</td>\n",
              "      <td>0.0</td>\n",
              "      <td>0.0</td>\n",
              "      <td>0.0</td>\n",
              "      <td>0.0</td>\n",
              "      <td>0.0</td>\n",
              "      <td>0.0</td>\n",
              "      <td>1.0</td>\n",
              "    </tr>\n",
              "    <tr>\n",
              "      <th>1</th>\n",
              "      <td>1.000000</td>\n",
              "      <td>0.606941</td>\n",
              "      <td>0.384181</td>\n",
              "      <td>0.254237</td>\n",
              "      <td>0.223567</td>\n",
              "      <td>0.276836</td>\n",
              "      <td>0.253430</td>\n",
              "      <td>0.184826</td>\n",
              "      <td>0.153349</td>\n",
              "      <td>0.121872</td>\n",
              "      <td>...</td>\n",
              "      <td>0.0</td>\n",
              "      <td>0.0</td>\n",
              "      <td>0.0</td>\n",
              "      <td>0.0</td>\n",
              "      <td>0.0</td>\n",
              "      <td>0.0</td>\n",
              "      <td>0.0</td>\n",
              "      <td>0.0</td>\n",
              "      <td>0.0</td>\n",
              "      <td>1.0</td>\n",
              "    </tr>\n",
              "    <tr>\n",
              "      <th>2</th>\n",
              "      <td>1.000000</td>\n",
              "      <td>0.951613</td>\n",
              "      <td>0.923963</td>\n",
              "      <td>0.853303</td>\n",
              "      <td>0.791859</td>\n",
              "      <td>0.734255</td>\n",
              "      <td>0.672043</td>\n",
              "      <td>0.685100</td>\n",
              "      <td>0.670507</td>\n",
              "      <td>0.667435</td>\n",
              "      <td>...</td>\n",
              "      <td>0.0</td>\n",
              "      <td>0.0</td>\n",
              "      <td>0.0</td>\n",
              "      <td>0.0</td>\n",
              "      <td>0.0</td>\n",
              "      <td>0.0</td>\n",
              "      <td>0.0</td>\n",
              "      <td>0.0</td>\n",
              "      <td>0.0</td>\n",
              "      <td>1.0</td>\n",
              "    </tr>\n",
              "    <tr>\n",
              "      <th>3</th>\n",
              "      <td>0.977819</td>\n",
              "      <td>0.899261</td>\n",
              "      <td>0.230129</td>\n",
              "      <td>0.032348</td>\n",
              "      <td>0.142329</td>\n",
              "      <td>0.223660</td>\n",
              "      <td>0.328096</td>\n",
              "      <td>0.367837</td>\n",
              "      <td>0.381701</td>\n",
              "      <td>0.389094</td>\n",
              "      <td>...</td>\n",
              "      <td>0.0</td>\n",
              "      <td>0.0</td>\n",
              "      <td>0.0</td>\n",
              "      <td>0.0</td>\n",
              "      <td>0.0</td>\n",
              "      <td>0.0</td>\n",
              "      <td>0.0</td>\n",
              "      <td>0.0</td>\n",
              "      <td>0.0</td>\n",
              "      <td>1.0</td>\n",
              "    </tr>\n",
              "    <tr>\n",
              "      <th>4</th>\n",
              "      <td>0.935618</td>\n",
              "      <td>0.801661</td>\n",
              "      <td>0.805815</td>\n",
              "      <td>1.000000</td>\n",
              "      <td>0.722741</td>\n",
              "      <td>0.480789</td>\n",
              "      <td>0.454829</td>\n",
              "      <td>0.319834</td>\n",
              "      <td>0.266874</td>\n",
              "      <td>0.308411</td>\n",
              "      <td>...</td>\n",
              "      <td>0.0</td>\n",
              "      <td>0.0</td>\n",
              "      <td>0.0</td>\n",
              "      <td>0.0</td>\n",
              "      <td>0.0</td>\n",
              "      <td>0.0</td>\n",
              "      <td>0.0</td>\n",
              "      <td>0.0</td>\n",
              "      <td>0.0</td>\n",
              "      <td>1.0</td>\n",
              "    </tr>\n",
              "    <tr>\n",
              "      <th>...</th>\n",
              "      <td>...</td>\n",
              "      <td>...</td>\n",
              "      <td>...</td>\n",
              "      <td>...</td>\n",
              "      <td>...</td>\n",
              "      <td>...</td>\n",
              "      <td>...</td>\n",
              "      <td>...</td>\n",
              "      <td>...</td>\n",
              "      <td>...</td>\n",
              "      <td>...</td>\n",
              "      <td>...</td>\n",
              "      <td>...</td>\n",
              "      <td>...</td>\n",
              "      <td>...</td>\n",
              "      <td>...</td>\n",
              "      <td>...</td>\n",
              "      <td>...</td>\n",
              "      <td>...</td>\n",
              "      <td>...</td>\n",
              "      <td>...</td>\n",
              "    </tr>\n",
              "    <tr>\n",
              "      <th>14547</th>\n",
              "      <td>1.000000</td>\n",
              "      <td>0.929586</td>\n",
              "      <td>0.503550</td>\n",
              "      <td>0.293491</td>\n",
              "      <td>0.169822</td>\n",
              "      <td>0.159763</td>\n",
              "      <td>0.130769</td>\n",
              "      <td>0.125444</td>\n",
              "      <td>0.137278</td>\n",
              "      <td>0.111243</td>\n",
              "      <td>...</td>\n",
              "      <td>0.0</td>\n",
              "      <td>0.0</td>\n",
              "      <td>0.0</td>\n",
              "      <td>0.0</td>\n",
              "      <td>0.0</td>\n",
              "      <td>0.0</td>\n",
              "      <td>0.0</td>\n",
              "      <td>0.0</td>\n",
              "      <td>0.0</td>\n",
              "      <td>0.0</td>\n",
              "    </tr>\n",
              "    <tr>\n",
              "      <th>14548</th>\n",
              "      <td>1.000000</td>\n",
              "      <td>0.637579</td>\n",
              "      <td>0.154837</td>\n",
              "      <td>0.061983</td>\n",
              "      <td>0.088965</td>\n",
              "      <td>0.083374</td>\n",
              "      <td>0.065143</td>\n",
              "      <td>0.057365</td>\n",
              "      <td>0.060039</td>\n",
              "      <td>0.060039</td>\n",
              "      <td>...</td>\n",
              "      <td>0.0</td>\n",
              "      <td>0.0</td>\n",
              "      <td>0.0</td>\n",
              "      <td>0.0</td>\n",
              "      <td>0.0</td>\n",
              "      <td>0.0</td>\n",
              "      <td>0.0</td>\n",
              "      <td>0.0</td>\n",
              "      <td>0.0</td>\n",
              "      <td>0.0</td>\n",
              "    </tr>\n",
              "    <tr>\n",
              "      <th>14549</th>\n",
              "      <td>1.000000</td>\n",
              "      <td>0.872574</td>\n",
              "      <td>0.465071</td>\n",
              "      <td>0.232212</td>\n",
              "      <td>0.126132</td>\n",
              "      <td>0.155886</td>\n",
              "      <td>0.174644</td>\n",
              "      <td>0.190168</td>\n",
              "      <td>0.203752</td>\n",
              "      <td>0.168823</td>\n",
              "      <td>...</td>\n",
              "      <td>0.0</td>\n",
              "      <td>0.0</td>\n",
              "      <td>0.0</td>\n",
              "      <td>0.0</td>\n",
              "      <td>0.0</td>\n",
              "      <td>0.0</td>\n",
              "      <td>0.0</td>\n",
              "      <td>0.0</td>\n",
              "      <td>0.0</td>\n",
              "      <td>0.0</td>\n",
              "    </tr>\n",
              "    <tr>\n",
              "      <th>14550</th>\n",
              "      <td>0.915983</td>\n",
              "      <td>0.529373</td>\n",
              "      <td>0.288406</td>\n",
              "      <td>0.144536</td>\n",
              "      <td>0.171802</td>\n",
              "      <td>0.180669</td>\n",
              "      <td>0.177566</td>\n",
              "      <td>0.176458</td>\n",
              "      <td>0.178896</td>\n",
              "      <td>0.180448</td>\n",
              "      <td>...</td>\n",
              "      <td>0.0</td>\n",
              "      <td>0.0</td>\n",
              "      <td>0.0</td>\n",
              "      <td>0.0</td>\n",
              "      <td>0.0</td>\n",
              "      <td>0.0</td>\n",
              "      <td>0.0</td>\n",
              "      <td>0.0</td>\n",
              "      <td>0.0</td>\n",
              "      <td>0.0</td>\n",
              "    </tr>\n",
              "    <tr>\n",
              "      <th>14551</th>\n",
              "      <td>1.000000</td>\n",
              "      <td>0.838643</td>\n",
              "      <td>0.390567</td>\n",
              "      <td>0.191146</td>\n",
              "      <td>0.033513</td>\n",
              "      <td>0.055854</td>\n",
              "      <td>0.129086</td>\n",
              "      <td>0.147290</td>\n",
              "      <td>0.155151</td>\n",
              "      <td>0.165494</td>\n",
              "      <td>...</td>\n",
              "      <td>0.0</td>\n",
              "      <td>0.0</td>\n",
              "      <td>0.0</td>\n",
              "      <td>0.0</td>\n",
              "      <td>0.0</td>\n",
              "      <td>0.0</td>\n",
              "      <td>0.0</td>\n",
              "      <td>0.0</td>\n",
              "      <td>0.0</td>\n",
              "      <td>0.0</td>\n",
              "    </tr>\n",
              "  </tbody>\n",
              "</table>\n",
              "<p>14552 rows × 188 columns</p>\n",
              "</div>\n",
              "      <button class=\"colab-df-convert\" onclick=\"convertToInteractive('df-f41f38ca-0f33-4522-b333-71b362e068fe')\"\n",
              "              title=\"Convert this dataframe to an interactive table.\"\n",
              "              style=\"display:none;\">\n",
              "        \n",
              "  <svg xmlns=\"http://www.w3.org/2000/svg\" height=\"24px\"viewBox=\"0 0 24 24\"\n",
              "       width=\"24px\">\n",
              "    <path d=\"M0 0h24v24H0V0z\" fill=\"none\"/>\n",
              "    <path d=\"M18.56 5.44l.94 2.06.94-2.06 2.06-.94-2.06-.94-.94-2.06-.94 2.06-2.06.94zm-11 1L8.5 8.5l.94-2.06 2.06-.94-2.06-.94L8.5 2.5l-.94 2.06-2.06.94zm10 10l.94 2.06.94-2.06 2.06-.94-2.06-.94-.94-2.06-.94 2.06-2.06.94z\"/><path d=\"M17.41 7.96l-1.37-1.37c-.4-.4-.92-.59-1.43-.59-.52 0-1.04.2-1.43.59L10.3 9.45l-7.72 7.72c-.78.78-.78 2.05 0 2.83L4 21.41c.39.39.9.59 1.41.59.51 0 1.02-.2 1.41-.59l7.78-7.78 2.81-2.81c.8-.78.8-2.07 0-2.86zM5.41 20L4 18.59l7.72-7.72 1.47 1.35L5.41 20z\"/>\n",
              "  </svg>\n",
              "      </button>\n",
              "      \n",
              "  <style>\n",
              "    .colab-df-container {\n",
              "      display:flex;\n",
              "      flex-wrap:wrap;\n",
              "      gap: 12px;\n",
              "    }\n",
              "\n",
              "    .colab-df-convert {\n",
              "      background-color: #E8F0FE;\n",
              "      border: none;\n",
              "      border-radius: 50%;\n",
              "      cursor: pointer;\n",
              "      display: none;\n",
              "      fill: #1967D2;\n",
              "      height: 32px;\n",
              "      padding: 0 0 0 0;\n",
              "      width: 32px;\n",
              "    }\n",
              "\n",
              "    .colab-df-convert:hover {\n",
              "      background-color: #E2EBFA;\n",
              "      box-shadow: 0px 1px 2px rgba(60, 64, 67, 0.3), 0px 1px 3px 1px rgba(60, 64, 67, 0.15);\n",
              "      fill: #174EA6;\n",
              "    }\n",
              "\n",
              "    [theme=dark] .colab-df-convert {\n",
              "      background-color: #3B4455;\n",
              "      fill: #D2E3FC;\n",
              "    }\n",
              "\n",
              "    [theme=dark] .colab-df-convert:hover {\n",
              "      background-color: #434B5C;\n",
              "      box-shadow: 0px 1px 3px 1px rgba(0, 0, 0, 0.15);\n",
              "      filter: drop-shadow(0px 1px 2px rgba(0, 0, 0, 0.3));\n",
              "      fill: #FFFFFF;\n",
              "    }\n",
              "  </style>\n",
              "\n",
              "      <script>\n",
              "        const buttonEl =\n",
              "          document.querySelector('#df-f41f38ca-0f33-4522-b333-71b362e068fe button.colab-df-convert');\n",
              "        buttonEl.style.display =\n",
              "          google.colab.kernel.accessAllowed ? 'block' : 'none';\n",
              "\n",
              "        async function convertToInteractive(key) {\n",
              "          const element = document.querySelector('#df-f41f38ca-0f33-4522-b333-71b362e068fe');\n",
              "          const dataTable =\n",
              "            await google.colab.kernel.invokeFunction('convertToInteractive',\n",
              "                                                     [key], {});\n",
              "          if (!dataTable) return;\n",
              "\n",
              "          const docLinkHtml = 'Like what you see? Visit the ' +\n",
              "            '<a target=\"_blank\" href=https://colab.research.google.com/notebooks/data_table.ipynb>data table notebook</a>'\n",
              "            + ' to learn more about interactive tables.';\n",
              "          element.innerHTML = '';\n",
              "          dataTable['output_type'] = 'display_data';\n",
              "          await google.colab.output.renderOutput(dataTable, element);\n",
              "          const docLink = document.createElement('div');\n",
              "          docLink.innerHTML = docLinkHtml;\n",
              "          element.appendChild(docLink);\n",
              "        }\n",
              "      </script>\n",
              "    </div>\n",
              "  </div>\n",
              "  "
            ]
          },
          "metadata": {},
          "execution_count": 7
        }
      ]
    },
    {
      "cell_type": "code",
      "source": [
        "ptbdb_data.shape"
      ],
      "metadata": {
        "colab": {
          "base_uri": "https://localhost:8080/"
        },
        "id": "8QyMlInWs9n3",
        "outputId": "84f440b3-e259-437c-d1ca-2d4fdbecb687"
      },
      "id": "8QyMlInWs9n3",
      "execution_count": 8,
      "outputs": [
        {
          "output_type": "execute_result",
          "data": {
            "text/plain": [
              "(14552, 188)"
            ]
          },
          "metadata": {},
          "execution_count": 8
        }
      ]
    },
    {
      "cell_type": "code",
      "source": [
        "df1 = ptbdb_data.sample(frac = 1)\n",
        "df1"
      ],
      "metadata": {
        "colab": {
          "base_uri": "https://localhost:8080/",
          "height": 423
        },
        "id": "rIAT0T2ts9jh",
        "outputId": "6c5568e5-c075-4b80-acbf-94eaf9f899b0"
      },
      "id": "rIAT0T2ts9jh",
      "execution_count": 11,
      "outputs": [
        {
          "output_type": "execute_result",
          "data": {
            "text/plain": [
              "            0         1         2         3         4         5         6    \\\n",
              "905    0.910479  0.919500  0.913255  0.911867  0.891742  0.829979  0.786954   \n",
              "12727  0.932482  0.908193  0.662001  0.304240  0.102511  0.000000  0.080280   \n",
              "3156   0.948824  1.000000  0.777778  0.555095  0.434993  0.343476  0.294375   \n",
              "13806  1.000000  0.465997  0.116580  0.075130  0.150907  0.186529  0.180699   \n",
              "9927   1.000000  0.538365  0.128931  0.027044  0.047170  0.136478  0.168553   \n",
              "...         ...       ...       ...       ...       ...       ...       ...   \n",
              "2393   0.927925  0.714286  0.303491  0.000000  0.123788  0.187136  0.235294   \n",
              "3625   0.988189  0.567717  0.196850  0.027559  0.000000  0.203937  0.246457   \n",
              "12780  1.000000  0.527856  0.041683  0.055711  0.034870  0.078958  0.116232   \n",
              "1401   1.000000  0.777912  0.490763  0.256225  0.004418  0.000000  0.043775   \n",
              "2725   0.899020  0.372268  0.140919  0.007536  0.073097  0.126601  0.228335   \n",
              "\n",
              "            7         8         9    ...  178  179  180  181  182  183  184  \\\n",
              "905    0.734212  0.673144  0.633588  ...  0.0  0.0  0.0  0.0  0.0  0.0  0.0   \n",
              "12727  0.144092  0.145739  0.148621  ...  0.0  0.0  0.0  0.0  0.0  0.0  0.0   \n",
              "3156   0.236515  0.191332  0.184647  ...  0.0  0.0  0.0  0.0  0.0  0.0  0.0   \n",
              "13806  0.187500  0.181671  0.185233  ...  0.0  0.0  0.0  0.0  0.0  0.0  0.0   \n",
              "9927   0.169811  0.203774  0.194969  ...  0.0  0.0  0.0  0.0  0.0  0.0  0.0   \n",
              "...         ...       ...       ...  ...  ...  ...  ...  ...  ...  ...  ...   \n",
              "2393   0.349063  0.407240  0.431803  ...  0.0  0.0  0.0  0.0  0.0  0.0  0.0   \n",
              "3625   0.275591  0.277165  0.249606  ...  0.0  0.0  0.0  0.0  0.0  0.0  0.0   \n",
              "12780  0.127856  0.130261  0.136673  ...  0.0  0.0  0.0  0.0  0.0  0.0  0.0   \n",
              "1401   0.122088  0.287550  0.471486  ...  0.0  0.0  0.0  0.0  0.0  0.0  0.0   \n",
              "2725   0.232856  0.282592  0.312735  ...  0.0  0.0  0.0  0.0  0.0  0.0  0.0   \n",
              "\n",
              "       185  186  187  \n",
              "905    0.0  0.0  1.0  \n",
              "12727  0.0  0.0  0.0  \n",
              "3156   0.0  0.0  1.0  \n",
              "13806  0.0  0.0  0.0  \n",
              "9927   0.0  0.0  1.0  \n",
              "...    ...  ...  ...  \n",
              "2393   0.0  0.0  1.0  \n",
              "3625   0.0  0.0  1.0  \n",
              "12780  0.0  0.0  0.0  \n",
              "1401   0.0  0.0  1.0  \n",
              "2725   0.0  0.0  1.0  \n",
              "\n",
              "[14552 rows x 188 columns]"
            ],
            "text/html": [
              "\n",
              "  <div id=\"df-7dae77c5-9be9-4769-ba97-625d1ce2916a\">\n",
              "    <div class=\"colab-df-container\">\n",
              "      <div>\n",
              "<style scoped>\n",
              "    .dataframe tbody tr th:only-of-type {\n",
              "        vertical-align: middle;\n",
              "    }\n",
              "\n",
              "    .dataframe tbody tr th {\n",
              "        vertical-align: top;\n",
              "    }\n",
              "\n",
              "    .dataframe thead th {\n",
              "        text-align: right;\n",
              "    }\n",
              "</style>\n",
              "<table border=\"1\" class=\"dataframe\">\n",
              "  <thead>\n",
              "    <tr style=\"text-align: right;\">\n",
              "      <th></th>\n",
              "      <th>0</th>\n",
              "      <th>1</th>\n",
              "      <th>2</th>\n",
              "      <th>3</th>\n",
              "      <th>4</th>\n",
              "      <th>5</th>\n",
              "      <th>6</th>\n",
              "      <th>7</th>\n",
              "      <th>8</th>\n",
              "      <th>9</th>\n",
              "      <th>...</th>\n",
              "      <th>178</th>\n",
              "      <th>179</th>\n",
              "      <th>180</th>\n",
              "      <th>181</th>\n",
              "      <th>182</th>\n",
              "      <th>183</th>\n",
              "      <th>184</th>\n",
              "      <th>185</th>\n",
              "      <th>186</th>\n",
              "      <th>187</th>\n",
              "    </tr>\n",
              "  </thead>\n",
              "  <tbody>\n",
              "    <tr>\n",
              "      <th>905</th>\n",
              "      <td>0.910479</td>\n",
              "      <td>0.919500</td>\n",
              "      <td>0.913255</td>\n",
              "      <td>0.911867</td>\n",
              "      <td>0.891742</td>\n",
              "      <td>0.829979</td>\n",
              "      <td>0.786954</td>\n",
              "      <td>0.734212</td>\n",
              "      <td>0.673144</td>\n",
              "      <td>0.633588</td>\n",
              "      <td>...</td>\n",
              "      <td>0.0</td>\n",
              "      <td>0.0</td>\n",
              "      <td>0.0</td>\n",
              "      <td>0.0</td>\n",
              "      <td>0.0</td>\n",
              "      <td>0.0</td>\n",
              "      <td>0.0</td>\n",
              "      <td>0.0</td>\n",
              "      <td>0.0</td>\n",
              "      <td>1.0</td>\n",
              "    </tr>\n",
              "    <tr>\n",
              "      <th>12727</th>\n",
              "      <td>0.932482</td>\n",
              "      <td>0.908193</td>\n",
              "      <td>0.662001</td>\n",
              "      <td>0.304240</td>\n",
              "      <td>0.102511</td>\n",
              "      <td>0.000000</td>\n",
              "      <td>0.080280</td>\n",
              "      <td>0.144092</td>\n",
              "      <td>0.145739</td>\n",
              "      <td>0.148621</td>\n",
              "      <td>...</td>\n",
              "      <td>0.0</td>\n",
              "      <td>0.0</td>\n",
              "      <td>0.0</td>\n",
              "      <td>0.0</td>\n",
              "      <td>0.0</td>\n",
              "      <td>0.0</td>\n",
              "      <td>0.0</td>\n",
              "      <td>0.0</td>\n",
              "      <td>0.0</td>\n",
              "      <td>0.0</td>\n",
              "    </tr>\n",
              "    <tr>\n",
              "      <th>3156</th>\n",
              "      <td>0.948824</td>\n",
              "      <td>1.000000</td>\n",
              "      <td>0.777778</td>\n",
              "      <td>0.555095</td>\n",
              "      <td>0.434993</td>\n",
              "      <td>0.343476</td>\n",
              "      <td>0.294375</td>\n",
              "      <td>0.236515</td>\n",
              "      <td>0.191332</td>\n",
              "      <td>0.184647</td>\n",
              "      <td>...</td>\n",
              "      <td>0.0</td>\n",
              "      <td>0.0</td>\n",
              "      <td>0.0</td>\n",
              "      <td>0.0</td>\n",
              "      <td>0.0</td>\n",
              "      <td>0.0</td>\n",
              "      <td>0.0</td>\n",
              "      <td>0.0</td>\n",
              "      <td>0.0</td>\n",
              "      <td>1.0</td>\n",
              "    </tr>\n",
              "    <tr>\n",
              "      <th>13806</th>\n",
              "      <td>1.000000</td>\n",
              "      <td>0.465997</td>\n",
              "      <td>0.116580</td>\n",
              "      <td>0.075130</td>\n",
              "      <td>0.150907</td>\n",
              "      <td>0.186529</td>\n",
              "      <td>0.180699</td>\n",
              "      <td>0.187500</td>\n",
              "      <td>0.181671</td>\n",
              "      <td>0.185233</td>\n",
              "      <td>...</td>\n",
              "      <td>0.0</td>\n",
              "      <td>0.0</td>\n",
              "      <td>0.0</td>\n",
              "      <td>0.0</td>\n",
              "      <td>0.0</td>\n",
              "      <td>0.0</td>\n",
              "      <td>0.0</td>\n",
              "      <td>0.0</td>\n",
              "      <td>0.0</td>\n",
              "      <td>0.0</td>\n",
              "    </tr>\n",
              "    <tr>\n",
              "      <th>9927</th>\n",
              "      <td>1.000000</td>\n",
              "      <td>0.538365</td>\n",
              "      <td>0.128931</td>\n",
              "      <td>0.027044</td>\n",
              "      <td>0.047170</td>\n",
              "      <td>0.136478</td>\n",
              "      <td>0.168553</td>\n",
              "      <td>0.169811</td>\n",
              "      <td>0.203774</td>\n",
              "      <td>0.194969</td>\n",
              "      <td>...</td>\n",
              "      <td>0.0</td>\n",
              "      <td>0.0</td>\n",
              "      <td>0.0</td>\n",
              "      <td>0.0</td>\n",
              "      <td>0.0</td>\n",
              "      <td>0.0</td>\n",
              "      <td>0.0</td>\n",
              "      <td>0.0</td>\n",
              "      <td>0.0</td>\n",
              "      <td>1.0</td>\n",
              "    </tr>\n",
              "    <tr>\n",
              "      <th>...</th>\n",
              "      <td>...</td>\n",
              "      <td>...</td>\n",
              "      <td>...</td>\n",
              "      <td>...</td>\n",
              "      <td>...</td>\n",
              "      <td>...</td>\n",
              "      <td>...</td>\n",
              "      <td>...</td>\n",
              "      <td>...</td>\n",
              "      <td>...</td>\n",
              "      <td>...</td>\n",
              "      <td>...</td>\n",
              "      <td>...</td>\n",
              "      <td>...</td>\n",
              "      <td>...</td>\n",
              "      <td>...</td>\n",
              "      <td>...</td>\n",
              "      <td>...</td>\n",
              "      <td>...</td>\n",
              "      <td>...</td>\n",
              "      <td>...</td>\n",
              "    </tr>\n",
              "    <tr>\n",
              "      <th>2393</th>\n",
              "      <td>0.927925</td>\n",
              "      <td>0.714286</td>\n",
              "      <td>0.303491</td>\n",
              "      <td>0.000000</td>\n",
              "      <td>0.123788</td>\n",
              "      <td>0.187136</td>\n",
              "      <td>0.235294</td>\n",
              "      <td>0.349063</td>\n",
              "      <td>0.407240</td>\n",
              "      <td>0.431803</td>\n",
              "      <td>...</td>\n",
              "      <td>0.0</td>\n",
              "      <td>0.0</td>\n",
              "      <td>0.0</td>\n",
              "      <td>0.0</td>\n",
              "      <td>0.0</td>\n",
              "      <td>0.0</td>\n",
              "      <td>0.0</td>\n",
              "      <td>0.0</td>\n",
              "      <td>0.0</td>\n",
              "      <td>1.0</td>\n",
              "    </tr>\n",
              "    <tr>\n",
              "      <th>3625</th>\n",
              "      <td>0.988189</td>\n",
              "      <td>0.567717</td>\n",
              "      <td>0.196850</td>\n",
              "      <td>0.027559</td>\n",
              "      <td>0.000000</td>\n",
              "      <td>0.203937</td>\n",
              "      <td>0.246457</td>\n",
              "      <td>0.275591</td>\n",
              "      <td>0.277165</td>\n",
              "      <td>0.249606</td>\n",
              "      <td>...</td>\n",
              "      <td>0.0</td>\n",
              "      <td>0.0</td>\n",
              "      <td>0.0</td>\n",
              "      <td>0.0</td>\n",
              "      <td>0.0</td>\n",
              "      <td>0.0</td>\n",
              "      <td>0.0</td>\n",
              "      <td>0.0</td>\n",
              "      <td>0.0</td>\n",
              "      <td>1.0</td>\n",
              "    </tr>\n",
              "    <tr>\n",
              "      <th>12780</th>\n",
              "      <td>1.000000</td>\n",
              "      <td>0.527856</td>\n",
              "      <td>0.041683</td>\n",
              "      <td>0.055711</td>\n",
              "      <td>0.034870</td>\n",
              "      <td>0.078958</td>\n",
              "      <td>0.116232</td>\n",
              "      <td>0.127856</td>\n",
              "      <td>0.130261</td>\n",
              "      <td>0.136673</td>\n",
              "      <td>...</td>\n",
              "      <td>0.0</td>\n",
              "      <td>0.0</td>\n",
              "      <td>0.0</td>\n",
              "      <td>0.0</td>\n",
              "      <td>0.0</td>\n",
              "      <td>0.0</td>\n",
              "      <td>0.0</td>\n",
              "      <td>0.0</td>\n",
              "      <td>0.0</td>\n",
              "      <td>0.0</td>\n",
              "    </tr>\n",
              "    <tr>\n",
              "      <th>1401</th>\n",
              "      <td>1.000000</td>\n",
              "      <td>0.777912</td>\n",
              "      <td>0.490763</td>\n",
              "      <td>0.256225</td>\n",
              "      <td>0.004418</td>\n",
              "      <td>0.000000</td>\n",
              "      <td>0.043775</td>\n",
              "      <td>0.122088</td>\n",
              "      <td>0.287550</td>\n",
              "      <td>0.471486</td>\n",
              "      <td>...</td>\n",
              "      <td>0.0</td>\n",
              "      <td>0.0</td>\n",
              "      <td>0.0</td>\n",
              "      <td>0.0</td>\n",
              "      <td>0.0</td>\n",
              "      <td>0.0</td>\n",
              "      <td>0.0</td>\n",
              "      <td>0.0</td>\n",
              "      <td>0.0</td>\n",
              "      <td>1.0</td>\n",
              "    </tr>\n",
              "    <tr>\n",
              "      <th>2725</th>\n",
              "      <td>0.899020</td>\n",
              "      <td>0.372268</td>\n",
              "      <td>0.140919</td>\n",
              "      <td>0.007536</td>\n",
              "      <td>0.073097</td>\n",
              "      <td>0.126601</td>\n",
              "      <td>0.228335</td>\n",
              "      <td>0.232856</td>\n",
              "      <td>0.282592</td>\n",
              "      <td>0.312735</td>\n",
              "      <td>...</td>\n",
              "      <td>0.0</td>\n",
              "      <td>0.0</td>\n",
              "      <td>0.0</td>\n",
              "      <td>0.0</td>\n",
              "      <td>0.0</td>\n",
              "      <td>0.0</td>\n",
              "      <td>0.0</td>\n",
              "      <td>0.0</td>\n",
              "      <td>0.0</td>\n",
              "      <td>1.0</td>\n",
              "    </tr>\n",
              "  </tbody>\n",
              "</table>\n",
              "<p>14552 rows × 188 columns</p>\n",
              "</div>\n",
              "      <button class=\"colab-df-convert\" onclick=\"convertToInteractive('df-7dae77c5-9be9-4769-ba97-625d1ce2916a')\"\n",
              "              title=\"Convert this dataframe to an interactive table.\"\n",
              "              style=\"display:none;\">\n",
              "        \n",
              "  <svg xmlns=\"http://www.w3.org/2000/svg\" height=\"24px\"viewBox=\"0 0 24 24\"\n",
              "       width=\"24px\">\n",
              "    <path d=\"M0 0h24v24H0V0z\" fill=\"none\"/>\n",
              "    <path d=\"M18.56 5.44l.94 2.06.94-2.06 2.06-.94-2.06-.94-.94-2.06-.94 2.06-2.06.94zm-11 1L8.5 8.5l.94-2.06 2.06-.94-2.06-.94L8.5 2.5l-.94 2.06-2.06.94zm10 10l.94 2.06.94-2.06 2.06-.94-2.06-.94-.94-2.06-.94 2.06-2.06.94z\"/><path d=\"M17.41 7.96l-1.37-1.37c-.4-.4-.92-.59-1.43-.59-.52 0-1.04.2-1.43.59L10.3 9.45l-7.72 7.72c-.78.78-.78 2.05 0 2.83L4 21.41c.39.39.9.59 1.41.59.51 0 1.02-.2 1.41-.59l7.78-7.78 2.81-2.81c.8-.78.8-2.07 0-2.86zM5.41 20L4 18.59l7.72-7.72 1.47 1.35L5.41 20z\"/>\n",
              "  </svg>\n",
              "      </button>\n",
              "      \n",
              "  <style>\n",
              "    .colab-df-container {\n",
              "      display:flex;\n",
              "      flex-wrap:wrap;\n",
              "      gap: 12px;\n",
              "    }\n",
              "\n",
              "    .colab-df-convert {\n",
              "      background-color: #E8F0FE;\n",
              "      border: none;\n",
              "      border-radius: 50%;\n",
              "      cursor: pointer;\n",
              "      display: none;\n",
              "      fill: #1967D2;\n",
              "      height: 32px;\n",
              "      padding: 0 0 0 0;\n",
              "      width: 32px;\n",
              "    }\n",
              "\n",
              "    .colab-df-convert:hover {\n",
              "      background-color: #E2EBFA;\n",
              "      box-shadow: 0px 1px 2px rgba(60, 64, 67, 0.3), 0px 1px 3px 1px rgba(60, 64, 67, 0.15);\n",
              "      fill: #174EA6;\n",
              "    }\n",
              "\n",
              "    [theme=dark] .colab-df-convert {\n",
              "      background-color: #3B4455;\n",
              "      fill: #D2E3FC;\n",
              "    }\n",
              "\n",
              "    [theme=dark] .colab-df-convert:hover {\n",
              "      background-color: #434B5C;\n",
              "      box-shadow: 0px 1px 3px 1px rgba(0, 0, 0, 0.15);\n",
              "      filter: drop-shadow(0px 1px 2px rgba(0, 0, 0, 0.3));\n",
              "      fill: #FFFFFF;\n",
              "    }\n",
              "  </style>\n",
              "\n",
              "      <script>\n",
              "        const buttonEl =\n",
              "          document.querySelector('#df-7dae77c5-9be9-4769-ba97-625d1ce2916a button.colab-df-convert');\n",
              "        buttonEl.style.display =\n",
              "          google.colab.kernel.accessAllowed ? 'block' : 'none';\n",
              "\n",
              "        async function convertToInteractive(key) {\n",
              "          const element = document.querySelector('#df-7dae77c5-9be9-4769-ba97-625d1ce2916a');\n",
              "          const dataTable =\n",
              "            await google.colab.kernel.invokeFunction('convertToInteractive',\n",
              "                                                     [key], {});\n",
              "          if (!dataTable) return;\n",
              "\n",
              "          const docLinkHtml = 'Like what you see? Visit the ' +\n",
              "            '<a target=\"_blank\" href=https://colab.research.google.com/notebooks/data_table.ipynb>data table notebook</a>'\n",
              "            + ' to learn more about interactive tables.';\n",
              "          element.innerHTML = '';\n",
              "          dataTable['output_type'] = 'display_data';\n",
              "          await google.colab.output.renderOutput(dataTable, element);\n",
              "          const docLink = document.createElement('div');\n",
              "          docLink.innerHTML = docLinkHtml;\n",
              "          element.appendChild(docLink);\n",
              "        }\n",
              "      </script>\n",
              "    </div>\n",
              "  </div>\n",
              "  "
            ]
          },
          "metadata": {},
          "execution_count": 11
        }
      ]
    },
    {
      "cell_type": "code",
      "source": [
        "14552*0.25\n",
        "print(14552-3638)"
      ],
      "metadata": {
        "colab": {
          "base_uri": "https://localhost:8080/"
        },
        "id": "ruJipQqcs9l5",
        "outputId": "0ca85c4f-a16d-4b9a-b3c2-780e001719e2"
      },
      "id": "ruJipQqcs9l5",
      "execution_count": 15,
      "outputs": [
        {
          "output_type": "stream",
          "name": "stdout",
          "text": [
            "10914\n"
          ]
        }
      ]
    },
    {
      "cell_type": "code",
      "source": [
        "test = df1.head(3638)\n",
        "print(test.shape)\n",
        "\n",
        "train = df1.tail(10914)\n",
        "print(train.shape)"
      ],
      "metadata": {
        "colab": {
          "base_uri": "https://localhost:8080/"
        },
        "id": "nsQRBoBos9hs",
        "outputId": "88acfb76-d7dd-4c77-af2b-9d2f694ed7fa"
      },
      "id": "nsQRBoBos9hs",
      "execution_count": 19,
      "outputs": [
        {
          "output_type": "stream",
          "name": "stdout",
          "text": [
            "(3638, 188)\n",
            "(10914, 188)\n"
          ]
        }
      ]
    },
    {
      "cell_type": "code",
      "source": [
        "label_names = ['Normal Beats', 'Abnormal Beats']\n",
        "labels = train[187].astype('int64')   # last column has the labels\n",
        "\n",
        "print(\"Count in each label: \")\n",
        "print(labels.value_counts())\n",
        "\n",
        "plt.barh(list(set(labels)), list(labels.value_counts()))"
      ],
      "metadata": {
        "colab": {
          "base_uri": "https://localhost:8080/",
          "height": 352
        },
        "id": "z4khUMNaWr51",
        "outputId": "8b542aff-3122-4e84-fbbc-b346a0f15934"
      },
      "id": "z4khUMNaWr51",
      "execution_count": 20,
      "outputs": [
        {
          "output_type": "stream",
          "name": "stdout",
          "text": [
            "Count in each label: \n",
            "1    7901\n",
            "0    3013\n",
            "Name: 187, dtype: int64\n"
          ]
        },
        {
          "output_type": "execute_result",
          "data": {
            "text/plain": [
              "<BarContainer object of 2 artists>"
            ]
          },
          "metadata": {},
          "execution_count": 20
        },
        {
          "output_type": "display_data",
          "data": {
            "text/plain": [
              "<Figure size 432x288 with 1 Axes>"
            ],
            "image/png": "[encoded data removed]"
          },
          "metadata": {
            "needs_background": "light"
          }
        }
      ]
    },
    {
      "cell_type": "code",
      "source": [
        "train_lbl0 = resample(train[train[187]==0], replace=True, n_samples=15000, random_state=113)\n",
        "train_lbl1 = resample(train[train[187]==1], replace=True, n_samples=15000, random_state=113)"
      ],
      "metadata": {
        "id": "Xer54FDWvUg4"
      },
      "id": "Xer54FDWvUg4",
      "execution_count": 25,
      "outputs": []
    },
    {
      "cell_type": "code",
      "source": [
        "train= pd.concat([train_lbl0, train_lbl1])\n",
        "labels = train[187].astype('int64')   # last column has the labels\n",
        "\n",
        "print(\"Count in each label: \")\n",
        "print(labels.value_counts())\n"
      ],
      "metadata": {
        "colab": {
          "base_uri": "https://localhost:8080/"
        },
        "id": "RHdmAhZGvUZo",
        "outputId": "a65a9fd2-ad2f-455c-ea68-95bdad5da009"
      },
      "id": "RHdmAhZGvUZo",
      "execution_count": 27,
      "outputs": [
        {
          "output_type": "stream",
          "name": "stdout",
          "text": [
            "Count in each label: \n",
            "0    15000\n",
            "1    15000\n",
            "Name: 187, dtype: int64\n"
          ]
        }
      ]
    },
    {
      "cell_type": "code",
      "source": [
        "plt.plot(np.array(train_lbl0.sample(1))[0, :187])\n",
        "plt.title(label_names[0])"
      ],
      "metadata": {
        "colab": {
          "base_uri": "https://localhost:8080/",
          "height": 298
        },
        "id": "VyRl3dREv_Ay",
        "outputId": "b83a66b9-3c48-4b90-c329-499def701070"
      },
      "id": "VyRl3dREv_Ay",
      "execution_count": 28,
      "outputs": [
        {
          "output_type": "execute_result",
          "data": {
            "text/plain": [
              "Text(0.5, 1.0, 'Normal Beats')"
            ]
          },
          "metadata": {},
          "execution_count": 28
        },
        {
          "output_type": "display_data",
          "data": {
            "text/plain": [
              "<Figure size 432x288 with 1 Axes>"
            ],
            "image/png": "[encoded data removed]"
          },
          "metadata": {
            "needs_background": "light"
          }
        }
      ]
    },
    {
      "cell_type": "code",
      "source": [
        "plt.plot(np.array(train_lbl0.sample(1))[0, :187])\n",
        "plt.title(label_names[0])"
      ],
      "metadata": {
        "colab": {
          "base_uri": "https://localhost:8080/",
          "height": 298
        },
        "id": "iUwceltjv--B",
        "outputId": "9955d4a6-6218-4f9f-c05a-3aadad2e2ad8"
      },
      "id": "iUwceltjv--B",
      "execution_count": 29,
      "outputs": [
        {
          "output_type": "execute_result",
          "data": {
            "text/plain": [
              "Text(0.5, 1.0, 'Normal Beats')"
            ]
          },
          "metadata": {},
          "execution_count": 29
        },
        {
          "output_type": "display_data",
          "data": {
            "text/plain": [
              "<Figure size 432x288 with 1 Axes>"
            ],
            "image/png": "[encoded data removed]"
          },
          "metadata": {
            "needs_background": "light"
          }
        }
      ]
    },
    {
      "cell_type": "code",
      "source": [
        "def gaussian_noise(signal):\n",
        "    noise = np.random.normal(0,0.05,187)\n",
        "    return signal + noise"
      ],
      "metadata": {
        "id": "-ewxsRBbwE9S"
      },
      "id": "-ewxsRBbwE9S",
      "execution_count": 30,
      "outputs": []
    },
    {
      "cell_type": "code",
      "source": [
        "sample = train_lbl0.sample(1).values[0]\n",
        "\n",
        "sample_with_noise = gaussian_noise(sample[:187])\n",
        "\n",
        "plt.subplot(1, 1, 1)\n",
        "\n",
        "plt.plot(sample[:187])\n",
        "plt.plot(sample_with_noise)"
      ],
      "metadata": {
        "colab": {
          "base_uri": "https://localhost:8080/",
          "height": 282
        },
        "id": "eflwwkQ9wE6M",
        "outputId": "ccf2c379-1007-4c18-ac0d-2f20dcad8c3d"
      },
      "id": "eflwwkQ9wE6M",
      "execution_count": 31,
      "outputs": [
        {
          "output_type": "execute_result",
          "data": {
            "text/plain": [
              "[<matplotlib.lines.Line2D at 0x7fafd41309d0>]"
            ]
          },
          "metadata": {},
          "execution_count": 31
        },
        {
          "output_type": "display_data",
          "data": {
            "text/plain": [
              "<Figure size 432x288 with 1 Axes>"
            ],
            "image/png": "[encoded data removed]"
          },
          "metadata": {
            "needs_background": "light"
          }
        }
      ]
    },
    {
      "cell_type": "code",
      "source": [
        "\n",
        "ytrain = tensorflow.keras.utils.to_categorical(train[187])\n",
        "ytest = tensorflow.keras.utils.to_categorical(test[187])\n",
        "\n",
        "# Input to the model\n",
        "xtrain = train.values[:, :187]\n",
        "xtest = test.values[:, :187]\n",
        "\n",
        "# Adding noise\n",
        "for i in range(xtrain.shape[0]):\n",
        "    xtrain[i, :187] = gaussian_noise(xtrain[i, :187])"
      ],
      "metadata": {
        "id": "INIP_kJhwE4A"
      },
      "id": "INIP_kJhwE4A",
      "execution_count": 32,
      "outputs": []
    },
    {
      "cell_type": "code",
      "source": [
        "xtrain.shape"
      ],
      "metadata": {
        "colab": {
          "base_uri": "https://localhost:8080/"
        },
        "id": "vz27G-mowPBD",
        "outputId": "9b7b20cc-90b7-49c3-af15-5ec128eac48f"
      },
      "id": "vz27G-mowPBD",
      "execution_count": 33,
      "outputs": [
        {
          "output_type": "execute_result",
          "data": {
            "text/plain": [
              "(30000, 187)"
            ]
          },
          "metadata": {},
          "execution_count": 33
        }
      ]
    },
    {
      "cell_type": "code",
      "source": [
        "xtrain"
      ],
      "metadata": {
        "colab": {
          "base_uri": "https://localhost:8080/"
        },
        "id": "eIS8RNHlwO-F",
        "outputId": "3c5abd33-c539-4748-afd2-16fc6d57aaa5"
      },
      "id": "eIS8RNHlwO-F",
      "execution_count": 34,
      "outputs": [
        {
          "output_type": "execute_result",
          "data": {
            "text/plain": [
              "array([[ 0.98136733,  0.72323731,  0.25418378, ..., -0.04707081,\n",
              "         0.04765955, -0.0071066 ],\n",
              "       [ 0.97898662,  1.1052499 ,  0.51839168, ..., -0.046412  ,\n",
              "         0.0223894 ,  0.04079466],\n",
              "       [ 0.92335103,  0.69596572,  0.43478388, ...,  0.03834947,\n",
              "        -0.00507341, -0.08300092],\n",
              "       ...,\n",
              "       [ 0.98376095,  0.94198758,  0.7658349 , ...,  0.05784071,\n",
              "        -0.02540869, -0.13556226],\n",
              "       [ 0.96510636,  0.94278582,  0.69490154, ...,  0.0595563 ,\n",
              "         0.01910607, -0.03886551],\n",
              "       [ 0.90325434,  0.65247589,  0.07444072, ..., -0.06544526,\n",
              "        -0.03079784, -0.02772618]])"
            ]
          },
          "metadata": {},
          "execution_count": 34
        }
      ]
    },
    {
      "cell_type": "code",
      "source": [
        "xtrain = np.expand_dims(xtrain, 2)\n",
        "xtest = np.expand_dims(xtest, 2)\n",
        "\n",
        "print(\"Shape of training data: \")\n",
        "print(\"Input: \", xtrain.shape)\n",
        "print(\"Output: \", ytrain.shape)\n",
        "\n",
        "print(\"\\nShape of test data: \")\n",
        "print(\"Input: \", xtest.shape)\n",
        "print(\"Output: \", ytest.shape)"
      ],
      "metadata": {
        "colab": {
          "base_uri": "https://localhost:8080/"
        },
        "id": "XOa4zP0nzX5S",
        "outputId": "3ef71731-e2be-4037-f8e8-1a38e5dae36d"
      },
      "id": "XOa4zP0nzX5S",
      "execution_count": 35,
      "outputs": [
        {
          "output_type": "stream",
          "name": "stdout",
          "text": [
            "Shape of training data: \n",
            "Input:  (30000, 187, 1)\n",
            "Output:  (30000, 2)\n",
            "\n",
            "Shape of test data: \n",
            "Input:  (3638, 187, 1)\n",
            "Output:  (3638, 2)\n"
          ]
        }
      ]
    },
    {
      "cell_type": "code",
      "source": [
        "model = Sequential()\n",
        "model.add(Conv1D(64, 6, activation = 'relu', input_shape = xtrain[0].shape))\n",
        "model.add(MaxPool1D(3, 2))\n",
        "\n",
        "model.add(Conv1D(64, 6, activation = 'relu'))\n",
        "model.add(MaxPool1D(3, 2))\n",
        "\n",
        "model.add(Conv1D(64, 6, activation = 'relu'))\n",
        "model.add(MaxPool1D(3, 2))\n",
        "\n",
        "model.add(Flatten())\n",
        "\n",
        "model.add(Dense(64, activation = 'relu'))\n",
        "model.add(Dense(32, activation = 'relu'))\n",
        "model.add(Dense(2, activation = 'softmax'))\n",
        "\n",
        "model.compile(optimizer = tensorflow.keras.optimizers.Adam(0.001), loss = 'categorical_crossentropy', metrics = ['accuracy'])\n",
        "model.summary()"
      ],
      "metadata": {
        "colab": {
          "base_uri": "https://localhost:8080/"
        },
        "id": "v6IzLWgwzX2x",
        "outputId": "fd1a655e-56c6-4ddb-eb9f-04eea5addcf7"
      },
      "id": "v6IzLWgwzX2x",
      "execution_count": 38,
      "outputs": [
        {
          "output_type": "stream",
          "name": "stdout",
          "text": [
            "Model: \"sequential_1\"\n",
            "_________________________________________________________________\n",
            " Layer (type)                Output Shape              Param #   \n",
            "=================================================================\n",
            " conv1d_3 (Conv1D)           (None, 182, 64)           448       \n",
            "                                                                 \n",
            " max_pooling1d_3 (MaxPooling  (None, 90, 64)           0         \n",
            " 1D)                                                             \n",
            "                                                                 \n",
            " conv1d_4 (Conv1D)           (None, 85, 64)            24640     \n",
            "                                                                 \n",
            " max_pooling1d_4 (MaxPooling  (None, 42, 64)           0         \n",
            " 1D)                                                             \n",
            "                                                                 \n",
            " conv1d_5 (Conv1D)           (None, 37, 64)            24640     \n",
            "                                                                 \n",
            " max_pooling1d_5 (MaxPooling  (None, 18, 64)           0         \n",
            " 1D)                                                             \n",
            "                                                                 \n",
            " flatten_1 (Flatten)         (None, 1152)              0         \n",
            "                                                                 \n",
            " dense_3 (Dense)             (None, 64)                73792     \n",
            "                                                                 \n",
            " dense_4 (Dense)             (None, 32)                2080      \n",
            "                                                                 \n",
            " dense_5 (Dense)             (None, 2)                 66        \n",
            "                                                                 \n",
            "=================================================================\n",
            "Total params: 125,666\n",
            "Trainable params: 125,666\n",
            "Non-trainable params: 0\n",
            "_________________________________________________________________\n"
          ]
        }
      ]
    },
    {
      "cell_type": "code",
      "source": [
        "history = model.fit(xtrain, ytrain, epochs = 8, batch_size = 32, validation_data = (xtest, ytest))\n"
      ],
      "metadata": {
        "colab": {
          "base_uri": "https://localhost:8080/"
        },
        "id": "ux5VnH0Zzf4h",
        "outputId": "d6b46455-0443-4db2-a379-2ee09d16ca0b"
      },
      "id": "ux5VnH0Zzf4h",
      "execution_count": 39,
      "outputs": [
        {
          "output_type": "stream",
          "name": "stdout",
          "text": [
            "Epoch 1/8\n",
            "938/938 [==============================] - 29s 30ms/step - loss: 0.3007 - accuracy: 0.8712 - val_loss: 0.1422 - val_accuracy: 0.9439\n",
            "Epoch 2/8\n",
            "938/938 [==============================] - 28s 29ms/step - loss: 0.1325 - accuracy: 0.9508 - val_loss: 0.1085 - val_accuracy: 0.9596\n",
            "Epoch 3/8\n",
            "938/938 [==============================] - 27s 29ms/step - loss: 0.0866 - accuracy: 0.9678 - val_loss: 0.0888 - val_accuracy: 0.9689\n",
            "Epoch 4/8\n",
            "938/938 [==============================] - 27s 29ms/step - loss: 0.0652 - accuracy: 0.9753 - val_loss: 0.0775 - val_accuracy: 0.9736\n",
            "Epoch 5/8\n",
            "938/938 [==============================] - 27s 29ms/step - loss: 0.0524 - accuracy: 0.9813 - val_loss: 0.0669 - val_accuracy: 0.9838\n",
            "Epoch 6/8\n",
            "938/938 [==============================] - 32s 34ms/step - loss: 0.0443 - accuracy: 0.9845 - val_loss: 0.0631 - val_accuracy: 0.9838\n",
            "Epoch 7/8\n",
            "938/938 [==============================] - 31s 33ms/step - loss: 0.0332 - accuracy: 0.9874 - val_loss: 0.0778 - val_accuracy: 0.9810\n",
            "Epoch 8/8\n",
            "938/938 [==============================] - 27s 28ms/step - loss: 0.0288 - accuracy: 0.9896 - val_loss: 0.0714 - val_accuracy: 0.9843\n"
          ]
        }
      ]
    },
    {
      "cell_type": "code",
      "source": [
        "def plot(history, variable, variable2):\n",
        "    plt.plot(range(len(history[variable])), history[variable])\n",
        "    plt.plot(range(len(history[variable2])), history[variable2])\n",
        "    plt.legend([variable, variable2])\n",
        "    plt.title(variable)"
      ],
      "metadata": {
        "id": "WDTFA12Izf1q"
      },
      "id": "WDTFA12Izf1q",
      "execution_count": 42,
      "outputs": []
    },
    {
      "cell_type": "code",
      "source": [
        "plot(history.history, \"accuracy\", \"val_accuracy\")"
      ],
      "metadata": {
        "colab": {
          "base_uri": "https://localhost:8080/",
          "height": 281
        },
        "id": "cQf3eMl11Ddd",
        "outputId": "947747da-015b-43cf-b73b-a57a44660a6b"
      },
      "id": "cQf3eMl11Ddd",
      "execution_count": 43,
      "outputs": [
        {
          "output_type": "display_data",
          "data": {
            "text/plain": [
              "<Figure size 432x288 with 1 Axes>"
            ],
            "image/png": "[encoded data removed]"
          },
          "metadata": {
            "needs_background": "light"
          }
        }
      ]
    },
    {
      "cell_type": "code",
      "source": [
        "plot(history.history, \"loss\", \"val_loss\")"
      ],
      "metadata": {
        "colab": {
          "base_uri": "https://localhost:8080/",
          "height": 281
        },
        "id": "7mnuuxeJzXz5",
        "outputId": "d67f9af0-0b02-452d-b113-ed22554b71b6"
      },
      "id": "7mnuuxeJzXz5",
      "execution_count": 44,
      "outputs": [
        {
          "output_type": "display_data",
          "data": {
            "text/plain": [
              "<Figure size 432x288 with 1 Axes>"
            ],
            "image/png": "[encoded data removed]"
          },
          "metadata": {
            "needs_background": "light"
          }
        }
      ]
    },
    {
      "cell_type": "code",
      "source": [
        "ypred = model.predict(xtest)\n",
        "\n",
        "cm = confusion_matrix(ytest.argmax(axis=1), ypred.argmax(axis=1))\n",
        "cm = cm.astype('float') / cm.sum(axis=1)[:, np.newaxis]\n",
        "\n",
        "for i in range(cm.shape[1]):\n",
        "    for j in range(cm.shape[0]):\n",
        "        plt.text(j, i, format(cm[i, j], '.2f'), horizontalalignment=\"center\", color=\"black\")\n",
        "\n",
        "\n",
        "plt.imshow(cm, cmap=plt.cm.Blues)"
      ],
      "metadata": {
        "colab": {
          "base_uri": "https://localhost:8080/",
          "height": 286
        },
        "id": "rvqBx5xLzXyI",
        "outputId": "e90cf411-ae0b-4ad0-85bd-47e35b28e6d3"
      },
      "id": "rvqBx5xLzXyI",
      "execution_count": 45,
      "outputs": [
        {
          "output_type": "execute_result",
          "data": {
            "text/plain": [
              "<matplotlib.image.AxesImage at 0x7fafceca0f50>"
            ]
          },
          "metadata": {},
          "execution_count": 45
        },
        {
          "output_type": "display_data",
          "data": {
            "text/plain": [
              "<Figure size 432x288 with 1 Axes>"
            ],
            "image/png": "[encoded data removed]"
          },
          "metadata": {
            "needs_background": "light"
          }
        }
      ]
    },
    {
      "cell_type": "code",
      "source": [
        "print(\"The distribution of test set labels\")\n",
        "print(test[187].value_counts())\n",
        "\n",
        "print('F1_score = ', f1_score(ytest.argmax(axis=1), ypred.argmax(axis=1), average = 'macro'))"
      ],
      "metadata": {
        "colab": {
          "base_uri": "https://localhost:8080/"
        },
        "id": "46iNiCUQ0jY1",
        "outputId": "374aed0f-a18e-410d-e85a-25e1030e9b88"
      },
      "id": "46iNiCUQ0jY1",
      "execution_count": 46,
      "outputs": [
        {
          "output_type": "stream",
          "name": "stdout",
          "text": [
            "The distribution of test set labels\n",
            "1.0    2605\n",
            "0.0    1033\n",
            "Name: 187, dtype: int64\n",
            "F1_score =  0.9808844361352982\n"
          ]
        }
      ]
    },
    {
      "cell_type": "code",
      "source": [
        ""
      ],
      "metadata": {
        "id": "RgVLTwzv0jUc"
      },
      "id": "RgVLTwzv0jUc",
      "execution_count": null,
      "outputs": []
    },
    {
      "cell_type": "code",
      "source": [
        ""
      ],
      "metadata": {
        "id": "qJTZVX181MWn"
      },
      "id": "qJTZVX181MWn",
      "execution_count": null,
      "outputs": []
    },
    {
      "cell_type": "code",
      "source": [
        ""
      ],
      "metadata": {
        "id": "nCUDAps91MTx"
      },
      "id": "nCUDAps91MTx",
      "execution_count": null,
      "outputs": []
    }
  ],
  "metadata": {
    "kernelspec": {
      "display_name": "Python 3 (ipykernel)",
      "language": "python",
      "name": "python3"
    },
    "language_info": {
      "codemirror_mode": {
        "name": "ipython",
        "version": 3
      },
      "file_extension": ".py",
      "mimetype": "text/x-python",
      "name": "python",
      "nbconvert_exporter": "python",
      "pygments_lexer": "ipython3",
      "version": "3.9.7"
    },
    "colab": {
      "name": "CNN PTBDB.ipynb",
      "provenance": [],
      "collapsed_sections": []
    }
  },
  "nbformat": 4,
  "nbformat_minor": 5
}